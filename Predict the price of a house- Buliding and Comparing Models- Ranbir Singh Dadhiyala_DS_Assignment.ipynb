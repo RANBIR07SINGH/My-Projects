{
 "cells": [
  {
   "cell_type": "markdown",
   "id": "e746ca7e",
   "metadata": {},
   "source": [
    "# Building predictive models for the price of a house"
   ]
  },
  {
   "cell_type": "markdown",
   "id": "4e6f088e",
   "metadata": {},
   "source": [
    "The most suitable evaluation metric for the given dataset is Mean Squared Error. As the formula for mean squared error is comprised of square of difference between the predicted value and acual value of target variable. Which will lead to the bigger error value and help us to detect the small errors."
   ]
  },
  {
   "cell_type": "markdown",
   "id": "b8e9f1ab",
   "metadata": {},
   "source": [
    "# Building a benchmark model for the given dataset."
   ]
  },
  {
   "cell_type": "markdown",
   "id": "16e5ea9f",
   "metadata": {},
   "source": [
    "# Load Libraries:"
   ]
  },
  {
   "cell_type": "code",
   "execution_count": 1,
   "id": "a3846ceb",
   "metadata": {},
   "outputs": [],
   "source": [
    "import pandas as pd\n",
    "import matplotlib.pyplot as plt\n",
    "import numpy as np\n",
    "%matplotlib inline\n",
    "import seaborn as sns\n",
    "import warnings\n",
    "warnings.filterwarnings('ignore')"
   ]
  },
  {
   "cell_type": "markdown",
   "id": "55187852",
   "metadata": {},
   "source": [
    "# Load Data"
   ]
  },
  {
   "cell_type": "code",
   "execution_count": 2,
   "id": "7bed6d67",
   "metadata": {},
   "outputs": [],
   "source": [
    "data = pd.read_csv('DS - Assignment Part 1 data set.csv')"
   ]
  },
  {
   "cell_type": "code",
   "execution_count": 3,
   "id": "4d7ec985",
   "metadata": {},
   "outputs": [
    {
     "data": {
      "text/html": [
       "<div>\n",
       "<style scoped>\n",
       "    .dataframe tbody tr th:only-of-type {\n",
       "        vertical-align: middle;\n",
       "    }\n",
       "\n",
       "    .dataframe tbody tr th {\n",
       "        vertical-align: top;\n",
       "    }\n",
       "\n",
       "    .dataframe thead th {\n",
       "        text-align: right;\n",
       "    }\n",
       "</style>\n",
       "<table border=\"1\" class=\"dataframe\">\n",
       "  <thead>\n",
       "    <tr style=\"text-align: right;\">\n",
       "      <th></th>\n",
       "      <th>Transaction date</th>\n",
       "      <th>House Age</th>\n",
       "      <th>Distance from nearest Metro station (km)</th>\n",
       "      <th>Number of convenience stores</th>\n",
       "      <th>latitude</th>\n",
       "      <th>longitude</th>\n",
       "      <th>Number of bedrooms</th>\n",
       "      <th>House size (sqft)</th>\n",
       "      <th>House price of unit area</th>\n",
       "    </tr>\n",
       "  </thead>\n",
       "  <tbody>\n",
       "    <tr>\n",
       "      <th>0</th>\n",
       "      <td>2012.917</td>\n",
       "      <td>32.0</td>\n",
       "      <td>84.87882</td>\n",
       "      <td>10</td>\n",
       "      <td>24.98298</td>\n",
       "      <td>121.54024</td>\n",
       "      <td>1</td>\n",
       "      <td>575</td>\n",
       "      <td>37.9</td>\n",
       "    </tr>\n",
       "    <tr>\n",
       "      <th>1</th>\n",
       "      <td>2012.917</td>\n",
       "      <td>19.5</td>\n",
       "      <td>306.59470</td>\n",
       "      <td>9</td>\n",
       "      <td>24.98034</td>\n",
       "      <td>121.53951</td>\n",
       "      <td>2</td>\n",
       "      <td>1240</td>\n",
       "      <td>42.2</td>\n",
       "    </tr>\n",
       "    <tr>\n",
       "      <th>2</th>\n",
       "      <td>2013.583</td>\n",
       "      <td>13.3</td>\n",
       "      <td>561.98450</td>\n",
       "      <td>5</td>\n",
       "      <td>24.98746</td>\n",
       "      <td>121.54391</td>\n",
       "      <td>3</td>\n",
       "      <td>1060</td>\n",
       "      <td>47.3</td>\n",
       "    </tr>\n",
       "    <tr>\n",
       "      <th>3</th>\n",
       "      <td>2013.500</td>\n",
       "      <td>13.3</td>\n",
       "      <td>561.98450</td>\n",
       "      <td>5</td>\n",
       "      <td>24.98746</td>\n",
       "      <td>121.54391</td>\n",
       "      <td>2</td>\n",
       "      <td>875</td>\n",
       "      <td>54.8</td>\n",
       "    </tr>\n",
       "    <tr>\n",
       "      <th>4</th>\n",
       "      <td>2012.833</td>\n",
       "      <td>5.0</td>\n",
       "      <td>390.56840</td>\n",
       "      <td>5</td>\n",
       "      <td>24.97937</td>\n",
       "      <td>121.54245</td>\n",
       "      <td>1</td>\n",
       "      <td>491</td>\n",
       "      <td>43.1</td>\n",
       "    </tr>\n",
       "  </tbody>\n",
       "</table>\n",
       "</div>"
      ],
      "text/plain": [
       "   Transaction date  House Age  Distance from nearest Metro station (km)  \\\n",
       "0          2012.917       32.0                                  84.87882   \n",
       "1          2012.917       19.5                                 306.59470   \n",
       "2          2013.583       13.3                                 561.98450   \n",
       "3          2013.500       13.3                                 561.98450   \n",
       "4          2012.833        5.0                                 390.56840   \n",
       "\n",
       "   Number of convenience stores  latitude  longitude  Number of bedrooms  \\\n",
       "0                            10  24.98298  121.54024                   1   \n",
       "1                             9  24.98034  121.53951                   2   \n",
       "2                             5  24.98746  121.54391                   3   \n",
       "3                             5  24.98746  121.54391                   2   \n",
       "4                             5  24.97937  121.54245                   1   \n",
       "\n",
       "   House size (sqft)  House price of unit area  \n",
       "0                575                      37.9  \n",
       "1               1240                      42.2  \n",
       "2               1060                      47.3  \n",
       "3                875                      54.8  \n",
       "4                491                      43.1  "
      ]
     },
     "execution_count": 3,
     "metadata": {},
     "output_type": "execute_result"
    }
   ],
   "source": [
    "data.head()"
   ]
  },
  {
   "cell_type": "code",
   "execution_count": 4,
   "id": "16523dbc",
   "metadata": {},
   "outputs": [
    {
     "data": {
      "text/plain": [
       "Transaction date                            0\n",
       "House Age                                   0\n",
       "Distance from nearest Metro station (km)    0\n",
       "Number of convenience stores                0\n",
       "latitude                                    0\n",
       "longitude                                   0\n",
       "Number of bedrooms                          0\n",
       "House size (sqft)                           0\n",
       "House price of unit area                    0\n",
       "dtype: int64"
      ]
     },
     "execution_count": 4,
     "metadata": {},
     "output_type": "execute_result"
    }
   ],
   "source": [
    "data.isnull().sum()"
   ]
  },
  {
   "cell_type": "code",
   "execution_count": 5,
   "id": "75116f2a",
   "metadata": {},
   "outputs": [
    {
     "data": {
      "text/plain": [
       "Transaction date                            float64\n",
       "House Age                                   float64\n",
       "Distance from nearest Metro station (km)    float64\n",
       "Number of convenience stores                  int64\n",
       "latitude                                    float64\n",
       "longitude                                   float64\n",
       "Number of bedrooms                            int64\n",
       "House size (sqft)                             int64\n",
       "House price of unit area                    float64\n",
       "dtype: object"
      ]
     },
     "execution_count": 5,
     "metadata": {},
     "output_type": "execute_result"
    }
   ],
   "source": [
    "data.dtypes"
   ]
  },
  {
   "cell_type": "code",
   "execution_count": 6,
   "id": "90e15a5d",
   "metadata": {},
   "outputs": [
    {
     "name": "stdout",
     "output_type": "stream",
     "text": [
      "    Transaction date  House Age  Distance from nearest Metro station (km)  \\\n",
      "0         2020-01-02       32.0                                  84.87882   \n",
      "1         2020-01-02       19.5                                 306.59470   \n",
      "2         2020-01-03       13.3                                 561.98450   \n",
      "3         2020-01-03       13.3                                 561.98450   \n",
      "4         2020-01-02        5.0                                 390.56840   \n",
      "..               ...        ...                                       ...   \n",
      "409       2020-01-03       13.7                                4082.01500   \n",
      "410       2020-01-02        5.6                                  90.45606   \n",
      "411       2020-01-03       18.8                                 390.96960   \n",
      "412       2020-01-03        8.1                                 104.81010   \n",
      "413       2020-01-03        6.5                                  90.45606   \n",
      "\n",
      "    Number of convenience stores  latitude  longitude Number of bedrooms  \\\n",
      "0                             10  24.98298  121.54024                  1   \n",
      "1                              9  24.98034  121.53951                  2   \n",
      "2                              5  24.98746  121.54391                  3   \n",
      "3                              5  24.98746  121.54391                  2   \n",
      "4                              5  24.97937  121.54245                  1   \n",
      "..                           ...       ...        ...                ...   \n",
      "409                            0  24.94155  121.50381                  3   \n",
      "410                            9  24.97433  121.54310                  2   \n",
      "411                            7  24.97923  121.53986                  1   \n",
      "412                            5  24.96674  121.54067                  1   \n",
      "413                            9  24.97433  121.54310                  2   \n",
      "\n",
      "     House size (sqft)  House price of unit area  \n",
      "0                  575                      37.9  \n",
      "1                 1240                      42.2  \n",
      "2                 1060                      47.3  \n",
      "3                  875                      54.8  \n",
      "4                  491                      43.1  \n",
      "..                 ...                       ...  \n",
      "409                803                      15.4  \n",
      "410               1278                      50.0  \n",
      "411                503                      40.6  \n",
      "412                597                      52.5  \n",
      "413               1097                      63.9  \n",
      "\n",
      "[414 rows x 9 columns]\n",
      "\n",
      "Transaction date                            datetime64[ns]\n",
      "House Age                                          float64\n",
      "Distance from nearest Metro station (km)           float64\n",
      "Number of convenience stores                      category\n",
      "latitude                                           float64\n",
      "longitude                                          float64\n",
      "Number of bedrooms                                category\n",
      "House size (sqft)                                    int64\n",
      "House price of unit area                           float64\n",
      "dtype: object\n"
     ]
    }
   ],
   "source": [
    "# converting the float to datetime format\n",
    "data['Transaction date'] = pd.to_datetime(data['Transaction date'], format='%y%m%d')\n",
    "data['Number of bedrooms'] = data['Number of bedrooms'].astype('category')\n",
    "data['Number of convenience stores'] = data['Number of convenience stores'].astype('category')\n",
    "# printing dataframe\n",
    "print(data)\n",
    "print()\n",
    "\n",
    "print(data.dtypes)\n"
   ]
  },
  {
   "cell_type": "code",
   "execution_count": 7,
   "id": "e235d499",
   "metadata": {},
   "outputs": [],
   "source": [
    "data['month'] = data['Transaction date'].dt.month\n",
    "data['day_of_week'] = data['Transaction date'].dt.weekday"
   ]
  },
  {
   "cell_type": "code",
   "execution_count": 8,
   "id": "899cead2",
   "metadata": {},
   "outputs": [],
   "source": [
    "data[\"House_Price\"] = data[\"House size (sqft)\"]*data[\"House price of unit area\"]"
   ]
  },
  {
   "cell_type": "code",
   "execution_count": 9,
   "id": "5853f1be",
   "metadata": {},
   "outputs": [],
   "source": [
    "data['House_Price'] = data['House_Price'].astype('float64')"
   ]
  },
  {
   "cell_type": "code",
   "execution_count": 10,
   "id": "cd6bf8e7",
   "metadata": {},
   "outputs": [
    {
     "data": {
      "text/plain": [
       "Transaction date                            datetime64[ns]\n",
       "House Age                                          float64\n",
       "Distance from nearest Metro station (km)           float64\n",
       "Number of convenience stores                      category\n",
       "latitude                                           float64\n",
       "longitude                                          float64\n",
       "Number of bedrooms                                category\n",
       "House size (sqft)                                    int64\n",
       "House price of unit area                           float64\n",
       "month                                                int64\n",
       "day_of_week                                          int64\n",
       "House_Price                                        float64\n",
       "dtype: object"
      ]
     },
     "execution_count": 10,
     "metadata": {},
     "output_type": "execute_result"
    }
   ],
   "source": [
    "data.dtypes"
   ]
  },
  {
   "cell_type": "code",
   "execution_count": 11,
   "id": "e7537c5b",
   "metadata": {},
   "outputs": [
    {
     "data": {
      "text/html": [
       "<div>\n",
       "<style scoped>\n",
       "    .dataframe tbody tr th:only-of-type {\n",
       "        vertical-align: middle;\n",
       "    }\n",
       "\n",
       "    .dataframe tbody tr th {\n",
       "        vertical-align: top;\n",
       "    }\n",
       "\n",
       "    .dataframe thead th {\n",
       "        text-align: right;\n",
       "    }\n",
       "</style>\n",
       "<table border=\"1\" class=\"dataframe\">\n",
       "  <thead>\n",
       "    <tr style=\"text-align: right;\">\n",
       "      <th></th>\n",
       "      <th>House Age</th>\n",
       "      <th>Distance from nearest Metro station (km)</th>\n",
       "      <th>latitude</th>\n",
       "      <th>longitude</th>\n",
       "      <th>House size (sqft)</th>\n",
       "      <th>House price of unit area</th>\n",
       "      <th>month</th>\n",
       "      <th>day_of_week</th>\n",
       "      <th>House_Price</th>\n",
       "    </tr>\n",
       "  </thead>\n",
       "  <tbody>\n",
       "    <tr>\n",
       "      <th>count</th>\n",
       "      <td>414.000000</td>\n",
       "      <td>414.000000</td>\n",
       "      <td>414.000000</td>\n",
       "      <td>414.000000</td>\n",
       "      <td>414.000000</td>\n",
       "      <td>414.000000</td>\n",
       "      <td>414.0</td>\n",
       "      <td>414.000000</td>\n",
       "      <td>414.000000</td>\n",
       "    </tr>\n",
       "    <tr>\n",
       "      <th>mean</th>\n",
       "      <td>17.712560</td>\n",
       "      <td>1083.885689</td>\n",
       "      <td>24.969030</td>\n",
       "      <td>121.533361</td>\n",
       "      <td>931.475845</td>\n",
       "      <td>37.980193</td>\n",
       "      <td>1.0</td>\n",
       "      <td>3.695652</td>\n",
       "      <td>35597.804106</td>\n",
       "    </tr>\n",
       "    <tr>\n",
       "      <th>std</th>\n",
       "      <td>11.392485</td>\n",
       "      <td>1262.109595</td>\n",
       "      <td>0.012410</td>\n",
       "      <td>0.015347</td>\n",
       "      <td>348.910269</td>\n",
       "      <td>13.606488</td>\n",
       "      <td>0.0</td>\n",
       "      <td>0.460687</td>\n",
       "      <td>19890.892075</td>\n",
       "    </tr>\n",
       "    <tr>\n",
       "      <th>min</th>\n",
       "      <td>0.000000</td>\n",
       "      <td>23.382840</td>\n",
       "      <td>24.932070</td>\n",
       "      <td>121.473530</td>\n",
       "      <td>402.000000</td>\n",
       "      <td>7.600000</td>\n",
       "      <td>1.0</td>\n",
       "      <td>3.000000</td>\n",
       "      <td>5440.400000</td>\n",
       "    </tr>\n",
       "    <tr>\n",
       "      <th>25%</th>\n",
       "      <td>9.025000</td>\n",
       "      <td>289.324800</td>\n",
       "      <td>24.963000</td>\n",
       "      <td>121.528085</td>\n",
       "      <td>548.000000</td>\n",
       "      <td>27.700000</td>\n",
       "      <td>1.0</td>\n",
       "      <td>3.000000</td>\n",
       "      <td>20482.700000</td>\n",
       "    </tr>\n",
       "    <tr>\n",
       "      <th>50%</th>\n",
       "      <td>16.100000</td>\n",
       "      <td>492.231300</td>\n",
       "      <td>24.971100</td>\n",
       "      <td>121.538630</td>\n",
       "      <td>975.000000</td>\n",
       "      <td>38.450000</td>\n",
       "      <td>1.0</td>\n",
       "      <td>4.000000</td>\n",
       "      <td>31224.200000</td>\n",
       "    </tr>\n",
       "    <tr>\n",
       "      <th>75%</th>\n",
       "      <td>28.150000</td>\n",
       "      <td>1454.279000</td>\n",
       "      <td>24.977455</td>\n",
       "      <td>121.543305</td>\n",
       "      <td>1234.750000</td>\n",
       "      <td>46.600000</td>\n",
       "      <td>1.0</td>\n",
       "      <td>4.000000</td>\n",
       "      <td>48439.375000</td>\n",
       "    </tr>\n",
       "    <tr>\n",
       "      <th>max</th>\n",
       "      <td>43.800000</td>\n",
       "      <td>6488.021000</td>\n",
       "      <td>25.014590</td>\n",
       "      <td>121.566270</td>\n",
       "      <td>1500.000000</td>\n",
       "      <td>117.500000</td>\n",
       "      <td>1.0</td>\n",
       "      <td>4.000000</td>\n",
       "      <td>161327.500000</td>\n",
       "    </tr>\n",
       "  </tbody>\n",
       "</table>\n",
       "</div>"
      ],
      "text/plain": [
       "        House Age  Distance from nearest Metro station (km)    latitude  \\\n",
       "count  414.000000                                414.000000  414.000000   \n",
       "mean    17.712560                               1083.885689   24.969030   \n",
       "std     11.392485                               1262.109595    0.012410   \n",
       "min      0.000000                                 23.382840   24.932070   \n",
       "25%      9.025000                                289.324800   24.963000   \n",
       "50%     16.100000                                492.231300   24.971100   \n",
       "75%     28.150000                               1454.279000   24.977455   \n",
       "max     43.800000                               6488.021000   25.014590   \n",
       "\n",
       "        longitude  House size (sqft)  House price of unit area  month  \\\n",
       "count  414.000000         414.000000                414.000000  414.0   \n",
       "mean   121.533361         931.475845                 37.980193    1.0   \n",
       "std      0.015347         348.910269                 13.606488    0.0   \n",
       "min    121.473530         402.000000                  7.600000    1.0   \n",
       "25%    121.528085         548.000000                 27.700000    1.0   \n",
       "50%    121.538630         975.000000                 38.450000    1.0   \n",
       "75%    121.543305        1234.750000                 46.600000    1.0   \n",
       "max    121.566270        1500.000000                117.500000    1.0   \n",
       "\n",
       "       day_of_week    House_Price  \n",
       "count   414.000000     414.000000  \n",
       "mean      3.695652   35597.804106  \n",
       "std       0.460687   19890.892075  \n",
       "min       3.000000    5440.400000  \n",
       "25%       3.000000   20482.700000  \n",
       "50%       4.000000   31224.200000  \n",
       "75%       4.000000   48439.375000  \n",
       "max       4.000000  161327.500000  "
      ]
     },
     "execution_count": 11,
     "metadata": {},
     "output_type": "execute_result"
    }
   ],
   "source": [
    "data.describe()"
   ]
  },
  {
   "cell_type": "code",
   "execution_count": 12,
   "id": "ba67a923",
   "metadata": {},
   "outputs": [],
   "source": [
    "from sklearn.utils import shuffle\n",
    "\n",
    "# Shuffling the Dataset\n",
    "data = shuffle(data, random_state = 42)\n",
    "\n",
    "#creating 4 divisions\n",
    "div = int(data.shape[0]/4)\n",
    "\n",
    "# 3 parts to train set and 1 part to test set\n",
    "train = data.loc[:3*div+1,:]\n",
    "test = data.loc[3*div+1:]"
   ]
  },
  {
   "cell_type": "code",
   "execution_count": 13,
   "id": "1cac54cf",
   "metadata": {},
   "outputs": [
    {
     "data": {
      "text/html": [
       "<div>\n",
       "<style scoped>\n",
       "    .dataframe tbody tr th:only-of-type {\n",
       "        vertical-align: middle;\n",
       "    }\n",
       "\n",
       "    .dataframe tbody tr th {\n",
       "        vertical-align: top;\n",
       "    }\n",
       "\n",
       "    .dataframe thead th {\n",
       "        text-align: right;\n",
       "    }\n",
       "</style>\n",
       "<table border=\"1\" class=\"dataframe\">\n",
       "  <thead>\n",
       "    <tr style=\"text-align: right;\">\n",
       "      <th></th>\n",
       "      <th>Transaction date</th>\n",
       "      <th>House Age</th>\n",
       "      <th>Distance from nearest Metro station (km)</th>\n",
       "      <th>Number of convenience stores</th>\n",
       "      <th>latitude</th>\n",
       "      <th>longitude</th>\n",
       "      <th>Number of bedrooms</th>\n",
       "      <th>House size (sqft)</th>\n",
       "      <th>House price of unit area</th>\n",
       "      <th>month</th>\n",
       "      <th>day_of_week</th>\n",
       "      <th>House_Price</th>\n",
       "    </tr>\n",
       "  </thead>\n",
       "  <tbody>\n",
       "    <tr>\n",
       "      <th>358</th>\n",
       "      <td>2020-01-03</td>\n",
       "      <td>1.1</td>\n",
       "      <td>193.5845</td>\n",
       "      <td>6</td>\n",
       "      <td>24.96571</td>\n",
       "      <td>121.54089</td>\n",
       "      <td>2</td>\n",
       "      <td>1021</td>\n",
       "      <td>45.1</td>\n",
       "      <td>1</td>\n",
       "      <td>4</td>\n",
       "      <td>46047.1</td>\n",
       "    </tr>\n",
       "    <tr>\n",
       "      <th>350</th>\n",
       "      <td>2020-01-03</td>\n",
       "      <td>13.2</td>\n",
       "      <td>492.2313</td>\n",
       "      <td>5</td>\n",
       "      <td>24.96515</td>\n",
       "      <td>121.53737</td>\n",
       "      <td>2</td>\n",
       "      <td>1146</td>\n",
       "      <td>42.3</td>\n",
       "      <td>1</td>\n",
       "      <td>4</td>\n",
       "      <td>48475.8</td>\n",
       "    </tr>\n",
       "    <tr>\n",
       "      <th>373</th>\n",
       "      <td>2020-01-03</td>\n",
       "      <td>0.0</td>\n",
       "      <td>274.0144</td>\n",
       "      <td>1</td>\n",
       "      <td>24.97480</td>\n",
       "      <td>121.53059</td>\n",
       "      <td>2</td>\n",
       "      <td>1172</td>\n",
       "      <td>52.2</td>\n",
       "      <td>1</td>\n",
       "      <td>4</td>\n",
       "      <td>61178.4</td>\n",
       "    </tr>\n",
       "    <tr>\n",
       "      <th>399</th>\n",
       "      <td>2020-01-02</td>\n",
       "      <td>12.7</td>\n",
       "      <td>170.1289</td>\n",
       "      <td>1</td>\n",
       "      <td>24.97371</td>\n",
       "      <td>121.52984</td>\n",
       "      <td>1</td>\n",
       "      <td>489</td>\n",
       "      <td>37.3</td>\n",
       "      <td>1</td>\n",
       "      <td>3</td>\n",
       "      <td>18239.7</td>\n",
       "    </tr>\n",
       "    <tr>\n",
       "      <th>369</th>\n",
       "      <td>2020-01-02</td>\n",
       "      <td>20.2</td>\n",
       "      <td>2185.1280</td>\n",
       "      <td>3</td>\n",
       "      <td>24.96322</td>\n",
       "      <td>121.51237</td>\n",
       "      <td>3</td>\n",
       "      <td>1350</td>\n",
       "      <td>22.8</td>\n",
       "      <td>1</td>\n",
       "      <td>3</td>\n",
       "      <td>30780.0</td>\n",
       "    </tr>\n",
       "  </tbody>\n",
       "</table>\n",
       "</div>"
      ],
      "text/plain": [
       "    Transaction date  House Age  Distance from nearest Metro station (km)  \\\n",
       "358       2020-01-03        1.1                                  193.5845   \n",
       "350       2020-01-03       13.2                                  492.2313   \n",
       "373       2020-01-03        0.0                                  274.0144   \n",
       "399       2020-01-02       12.7                                  170.1289   \n",
       "369       2020-01-02       20.2                                 2185.1280   \n",
       "\n",
       "    Number of convenience stores  latitude  longitude Number of bedrooms  \\\n",
       "358                            6  24.96571  121.54089                  2   \n",
       "350                            5  24.96515  121.53737                  2   \n",
       "373                            1  24.97480  121.53059                  2   \n",
       "399                            1  24.97371  121.52984                  1   \n",
       "369                            3  24.96322  121.51237                  3   \n",
       "\n",
       "     House size (sqft)  House price of unit area  month  day_of_week  \\\n",
       "358               1021                      45.1      1            4   \n",
       "350               1146                      42.3      1            4   \n",
       "373               1172                      52.2      1            4   \n",
       "399                489                      37.3      1            3   \n",
       "369               1350                      22.8      1            3   \n",
       "\n",
       "     House_Price  \n",
       "358      46047.1  \n",
       "350      48475.8  \n",
       "373      61178.4  \n",
       "399      18239.7  \n",
       "369      30780.0  "
      ]
     },
     "execution_count": 13,
     "metadata": {},
     "output_type": "execute_result"
    }
   ],
   "source": [
    "train.head()"
   ]
  },
  {
   "cell_type": "code",
   "execution_count": 14,
   "id": "6790cd32",
   "metadata": {},
   "outputs": [
    {
     "data": {
      "text/html": [
       "<div>\n",
       "<style scoped>\n",
       "    .dataframe tbody tr th:only-of-type {\n",
       "        vertical-align: middle;\n",
       "    }\n",
       "\n",
       "    .dataframe tbody tr th {\n",
       "        vertical-align: top;\n",
       "    }\n",
       "\n",
       "    .dataframe thead th {\n",
       "        text-align: right;\n",
       "    }\n",
       "</style>\n",
       "<table border=\"1\" class=\"dataframe\">\n",
       "  <thead>\n",
       "    <tr style=\"text-align: right;\">\n",
       "      <th></th>\n",
       "      <th>Transaction date</th>\n",
       "      <th>House Age</th>\n",
       "      <th>Distance from nearest Metro station (km)</th>\n",
       "      <th>Number of convenience stores</th>\n",
       "      <th>latitude</th>\n",
       "      <th>longitude</th>\n",
       "      <th>Number of bedrooms</th>\n",
       "      <th>House size (sqft)</th>\n",
       "      <th>House price of unit area</th>\n",
       "      <th>month</th>\n",
       "      <th>day_of_week</th>\n",
       "      <th>House_Price</th>\n",
       "    </tr>\n",
       "  </thead>\n",
       "  <tbody>\n",
       "    <tr>\n",
       "      <th>310</th>\n",
       "      <td>2020-01-03</td>\n",
       "      <td>16.4</td>\n",
       "      <td>1643.4990</td>\n",
       "      <td>2</td>\n",
       "      <td>24.95394</td>\n",
       "      <td>121.55174</td>\n",
       "      <td>3</td>\n",
       "      <td>886</td>\n",
       "      <td>24.7</td>\n",
       "      <td>1</td>\n",
       "      <td>4</td>\n",
       "      <td>21884.2</td>\n",
       "    </tr>\n",
       "    <tr>\n",
       "      <th>316</th>\n",
       "      <td>2020-01-03</td>\n",
       "      <td>13.3</td>\n",
       "      <td>250.6310</td>\n",
       "      <td>7</td>\n",
       "      <td>24.96606</td>\n",
       "      <td>121.54297</td>\n",
       "      <td>2</td>\n",
       "      <td>1307</td>\n",
       "      <td>42.0</td>\n",
       "      <td>1</td>\n",
       "      <td>4</td>\n",
       "      <td>54894.0</td>\n",
       "    </tr>\n",
       "    <tr>\n",
       "      <th>178</th>\n",
       "      <td>2020-01-03</td>\n",
       "      <td>13.1</td>\n",
       "      <td>1144.4360</td>\n",
       "      <td>4</td>\n",
       "      <td>24.99176</td>\n",
       "      <td>121.53456</td>\n",
       "      <td>2</td>\n",
       "      <td>1490</td>\n",
       "      <td>36.7</td>\n",
       "      <td>1</td>\n",
       "      <td>4</td>\n",
       "      <td>54683.0</td>\n",
       "    </tr>\n",
       "    <tr>\n",
       "      <th>41</th>\n",
       "      <td>2020-01-03</td>\n",
       "      <td>16.8</td>\n",
       "      <td>4066.5870</td>\n",
       "      <td>0</td>\n",
       "      <td>24.94297</td>\n",
       "      <td>121.50342</td>\n",
       "      <td>2</td>\n",
       "      <td>1333</td>\n",
       "      <td>18.2</td>\n",
       "      <td>1</td>\n",
       "      <td>4</td>\n",
       "      <td>24260.6</td>\n",
       "    </tr>\n",
       "    <tr>\n",
       "      <th>322</th>\n",
       "      <td>2020-01-03</td>\n",
       "      <td>12.9</td>\n",
       "      <td>187.4823</td>\n",
       "      <td>1</td>\n",
       "      <td>24.97388</td>\n",
       "      <td>121.52981</td>\n",
       "      <td>1</td>\n",
       "      <td>480</td>\n",
       "      <td>33.1</td>\n",
       "      <td>1</td>\n",
       "      <td>4</td>\n",
       "      <td>15888.0</td>\n",
       "    </tr>\n",
       "    <tr>\n",
       "      <th>206</th>\n",
       "      <td>2020-01-03</td>\n",
       "      <td>22.2</td>\n",
       "      <td>379.5575</td>\n",
       "      <td>10</td>\n",
       "      <td>24.98343</td>\n",
       "      <td>121.53762</td>\n",
       "      <td>1</td>\n",
       "      <td>456</td>\n",
       "      <td>44.0</td>\n",
       "      <td>1</td>\n",
       "      <td>4</td>\n",
       "      <td>20064.0</td>\n",
       "    </tr>\n",
       "    <tr>\n",
       "      <th>282</th>\n",
       "      <td>2020-01-02</td>\n",
       "      <td>2.0</td>\n",
       "      <td>1455.7980</td>\n",
       "      <td>1</td>\n",
       "      <td>24.95120</td>\n",
       "      <td>121.54900</td>\n",
       "      <td>3</td>\n",
       "      <td>1154</td>\n",
       "      <td>25.6</td>\n",
       "      <td>1</td>\n",
       "      <td>3</td>\n",
       "      <td>29542.4</td>\n",
       "    </tr>\n",
       "    <tr>\n",
       "      <th>254</th>\n",
       "      <td>2020-01-02</td>\n",
       "      <td>1.1</td>\n",
       "      <td>329.9747</td>\n",
       "      <td>5</td>\n",
       "      <td>24.98254</td>\n",
       "      <td>121.54395</td>\n",
       "      <td>2</td>\n",
       "      <td>965</td>\n",
       "      <td>51.8</td>\n",
       "      <td>1</td>\n",
       "      <td>3</td>\n",
       "      <td>49987.0</td>\n",
       "    </tr>\n",
       "    <tr>\n",
       "      <th>393</th>\n",
       "      <td>2020-01-03</td>\n",
       "      <td>16.9</td>\n",
       "      <td>967.4000</td>\n",
       "      <td>4</td>\n",
       "      <td>24.98872</td>\n",
       "      <td>121.53408</td>\n",
       "      <td>1</td>\n",
       "      <td>413</td>\n",
       "      <td>40.3</td>\n",
       "      <td>1</td>\n",
       "      <td>4</td>\n",
       "      <td>16643.9</td>\n",
       "    </tr>\n",
       "    <tr>\n",
       "      <th>4</th>\n",
       "      <td>2020-01-02</td>\n",
       "      <td>5.0</td>\n",
       "      <td>390.5684</td>\n",
       "      <td>5</td>\n",
       "      <td>24.97937</td>\n",
       "      <td>121.54245</td>\n",
       "      <td>1</td>\n",
       "      <td>491</td>\n",
       "      <td>43.1</td>\n",
       "      <td>1</td>\n",
       "      <td>3</td>\n",
       "      <td>21162.1</td>\n",
       "    </tr>\n",
       "  </tbody>\n",
       "</table>\n",
       "</div>"
      ],
      "text/plain": [
       "    Transaction date  House Age  Distance from nearest Metro station (km)  \\\n",
       "310       2020-01-03       16.4                                 1643.4990   \n",
       "316       2020-01-03       13.3                                  250.6310   \n",
       "178       2020-01-03       13.1                                 1144.4360   \n",
       "41        2020-01-03       16.8                                 4066.5870   \n",
       "322       2020-01-03       12.9                                  187.4823   \n",
       "206       2020-01-03       22.2                                  379.5575   \n",
       "282       2020-01-02        2.0                                 1455.7980   \n",
       "254       2020-01-02        1.1                                  329.9747   \n",
       "393       2020-01-03       16.9                                  967.4000   \n",
       "4         2020-01-02        5.0                                  390.5684   \n",
       "\n",
       "    Number of convenience stores  latitude  longitude Number of bedrooms  \\\n",
       "310                            2  24.95394  121.55174                  3   \n",
       "316                            7  24.96606  121.54297                  2   \n",
       "178                            4  24.99176  121.53456                  2   \n",
       "41                             0  24.94297  121.50342                  2   \n",
       "322                            1  24.97388  121.52981                  1   \n",
       "206                           10  24.98343  121.53762                  1   \n",
       "282                            1  24.95120  121.54900                  3   \n",
       "254                            5  24.98254  121.54395                  2   \n",
       "393                            4  24.98872  121.53408                  1   \n",
       "4                              5  24.97937  121.54245                  1   \n",
       "\n",
       "     House size (sqft)  House price of unit area  month  day_of_week  \\\n",
       "310                886                      24.7      1            4   \n",
       "316               1307                      42.0      1            4   \n",
       "178               1490                      36.7      1            4   \n",
       "41                1333                      18.2      1            4   \n",
       "322                480                      33.1      1            4   \n",
       "206                456                      44.0      1            4   \n",
       "282               1154                      25.6      1            3   \n",
       "254                965                      51.8      1            3   \n",
       "393                413                      40.3      1            4   \n",
       "4                  491                      43.1      1            3   \n",
       "\n",
       "     House_Price  \n",
       "310      21884.2  \n",
       "316      54894.0  \n",
       "178      54683.0  \n",
       "41       24260.6  \n",
       "322      15888.0  \n",
       "206      20064.0  \n",
       "282      29542.4  \n",
       "254      49987.0  \n",
       "393      16643.9  \n",
       "4        21162.1  "
      ]
     },
     "execution_count": 14,
     "metadata": {},
     "output_type": "execute_result"
    }
   ],
   "source": [
    "test.head(10)"
   ]
  },
  {
   "cell_type": "code",
   "execution_count": 15,
   "id": "23d726ff",
   "metadata": {},
   "outputs": [],
   "source": [
    "# storing simple mean in a new column in the test set as \"simple_mean\"\n",
    "test['simple_mean'] = train['House_Price'].mean()"
   ]
  },
  {
   "cell_type": "code",
   "execution_count": 16,
   "id": "6adb335d",
   "metadata": {},
   "outputs": [
    {
     "data": {
      "text/plain": [
       "310    34932.770671\n",
       "316    34932.770671\n",
       "178    34932.770671\n",
       "41     34932.770671\n",
       "322    34932.770671\n",
       "           ...     \n",
       "71     34932.770671\n",
       "106    34932.770671\n",
       "270    34932.770671\n",
       "348    34932.770671\n",
       "102    34932.770671\n",
       "Name: simple_mean, Length: 132, dtype: float64"
      ]
     },
     "execution_count": 16,
     "metadata": {},
     "output_type": "execute_result"
    }
   ],
   "source": [
    "test['simple_mean']"
   ]
  },
  {
   "cell_type": "code",
   "execution_count": 17,
   "id": "9956f319",
   "metadata": {},
   "outputs": [
    {
     "data": {
      "text/plain": [
       "17482.592161901703"
      ]
     },
     "execution_count": 17,
     "metadata": {},
     "output_type": "execute_result"
    }
   ],
   "source": [
    "#calculating mean absolute error\n",
    "from sklearn.metrics import mean_absolute_error as MAE\n",
    "\n",
    "simple_mean_error = MAE(test['House_Price'] , test['simple_mean'])\n",
    "simple_mean_error"
   ]
  },
  {
   "cell_type": "markdown",
   "id": "0935a1d0",
   "metadata": {},
   "source": [
    "# Mean House Price with respect to day of week"
   ]
  },
  {
   "cell_type": "code",
   "execution_count": 18,
   "id": "888640b8",
   "metadata": {},
   "outputs": [
    {
     "data": {
      "text/html": [
       "<div>\n",
       "<style scoped>\n",
       "    .dataframe tbody tr th:only-of-type {\n",
       "        vertical-align: middle;\n",
       "    }\n",
       "\n",
       "    .dataframe tbody tr th {\n",
       "        vertical-align: top;\n",
       "    }\n",
       "\n",
       "    .dataframe thead th {\n",
       "        text-align: right;\n",
       "    }\n",
       "</style>\n",
       "<table border=\"1\" class=\"dataframe\">\n",
       "  <thead>\n",
       "    <tr style=\"text-align: right;\">\n",
       "      <th></th>\n",
       "      <th>House_Price</th>\n",
       "    </tr>\n",
       "    <tr>\n",
       "      <th>day_of_week</th>\n",
       "      <th></th>\n",
       "    </tr>\n",
       "  </thead>\n",
       "  <tbody>\n",
       "    <tr>\n",
       "      <th>3</th>\n",
       "      <td>32047.504255</td>\n",
       "    </tr>\n",
       "    <tr>\n",
       "      <th>4</th>\n",
       "      <td>36367.770899</td>\n",
       "    </tr>\n",
       "  </tbody>\n",
       "</table>\n",
       "</div>"
      ],
      "text/plain": [
       "              House_Price\n",
       "day_of_week              \n",
       "3            32047.504255\n",
       "4            36367.770899"
      ]
     },
     "execution_count": 18,
     "metadata": {},
     "output_type": "execute_result"
    }
   ],
   "source": [
    "day_of_week = pd.pivot_table(train, values='House_Price', index = ['day_of_week'], aggfunc=np.mean)\n",
    "day_of_week"
   ]
  },
  {
   "cell_type": "code",
   "execution_count": 19,
   "id": "dde8403a",
   "metadata": {},
   "outputs": [],
   "source": [
    "# initializing new column to zero\n",
    "test['day_of_week_mean'] = 0\n",
    "\n",
    "# For every unique entry in Outlet_Identifier\n",
    "for i in train['day_of_week'].unique():\n",
    "  # Assign the mean value corresponding to unique entry\n",
    "  test['day_of_week_mean'][test['day_of_week'] == i] = train['House_Price'][train['day_of_week'] == i].mean()"
   ]
  },
  {
   "cell_type": "code",
   "execution_count": 20,
   "id": "fd20157b",
   "metadata": {},
   "outputs": [
    {
     "data": {
      "text/plain": [
       "17587.649246091445"
      ]
     },
     "execution_count": 20,
     "metadata": {},
     "output_type": "execute_result"
    }
   ],
   "source": [
    "#calculating mean absolute error\n",
    "day_of_week_error = MAE(test['House_Price'] , test['day_of_week_mean'] )\n",
    "day_of_week_error"
   ]
  },
  {
   "cell_type": "markdown",
   "id": "327910f9",
   "metadata": {},
   "source": [
    "# Mean House Price with respect to month"
   ]
  },
  {
   "cell_type": "code",
   "execution_count": 21,
   "id": "3f72c004",
   "metadata": {},
   "outputs": [
    {
     "data": {
      "text/html": [
       "<div>\n",
       "<style scoped>\n",
       "    .dataframe tbody tr th:only-of-type {\n",
       "        vertical-align: middle;\n",
       "    }\n",
       "\n",
       "    .dataframe tbody tr th {\n",
       "        vertical-align: top;\n",
       "    }\n",
       "\n",
       "    .dataframe thead th {\n",
       "        text-align: right;\n",
       "    }\n",
       "</style>\n",
       "<table border=\"1\" class=\"dataframe\">\n",
       "  <thead>\n",
       "    <tr style=\"text-align: right;\">\n",
       "      <th></th>\n",
       "      <th>House_Price</th>\n",
       "    </tr>\n",
       "    <tr>\n",
       "      <th>month</th>\n",
       "      <th></th>\n",
       "    </tr>\n",
       "  </thead>\n",
       "  <tbody>\n",
       "    <tr>\n",
       "      <th>1</th>\n",
       "      <td>34932.770671</td>\n",
       "    </tr>\n",
       "  </tbody>\n",
       "</table>\n",
       "</div>"
      ],
      "text/plain": [
       "        House_Price\n",
       "month              \n",
       "1      34932.770671"
      ]
     },
     "execution_count": 21,
     "metadata": {},
     "output_type": "execute_result"
    }
   ],
   "source": [
    "month = pd.pivot_table(train, values='House_Price', index = ['month'], aggfunc=np.mean)\n",
    "month"
   ]
  },
  {
   "cell_type": "code",
   "execution_count": 22,
   "id": "60232373",
   "metadata": {},
   "outputs": [],
   "source": [
    "# initializing new column to zero\n",
    "test['month_mean'] = 0\n",
    "\n",
    "# For every unique entry in Outlet_Identifier\n",
    "for i in train['month'].unique():\n",
    "  # Assign the mean value corresponding to unique entry\n",
    "  test['month_mean'][test['month'] == i] = train['House_Price'][train['month'] == i].mean()"
   ]
  },
  {
   "cell_type": "code",
   "execution_count": 23,
   "id": "5826d767",
   "metadata": {},
   "outputs": [
    {
     "data": {
      "text/plain": [
       "17482.592161901703"
      ]
     },
     "execution_count": 23,
     "metadata": {},
     "output_type": "execute_result"
    }
   ],
   "source": [
    "#calculating mean absolute error\n",
    "month_error = MAE(test['House_Price'] , test['month_mean'] )\n",
    "month_error"
   ]
  },
  {
   "cell_type": "markdown",
   "id": "13ebcbdd",
   "metadata": {},
   "source": [
    "# Mean House Price with respect to House size (sqft)"
   ]
  },
  {
   "cell_type": "code",
   "execution_count": 24,
   "id": "2b186e1a",
   "metadata": {},
   "outputs": [
    {
     "data": {
      "text/html": [
       "<div>\n",
       "<style scoped>\n",
       "    .dataframe tbody tr th:only-of-type {\n",
       "        vertical-align: middle;\n",
       "    }\n",
       "\n",
       "    .dataframe tbody tr th {\n",
       "        vertical-align: top;\n",
       "    }\n",
       "\n",
       "    .dataframe thead th {\n",
       "        text-align: right;\n",
       "    }\n",
       "</style>\n",
       "<table border=\"1\" class=\"dataframe\">\n",
       "  <thead>\n",
       "    <tr style=\"text-align: right;\">\n",
       "      <th></th>\n",
       "      <th>House_Price</th>\n",
       "    </tr>\n",
       "    <tr>\n",
       "      <th>House size (sqft)</th>\n",
       "      <th></th>\n",
       "    </tr>\n",
       "  </thead>\n",
       "  <tbody>\n",
       "    <tr>\n",
       "      <th>406</th>\n",
       "      <td>16037.0</td>\n",
       "    </tr>\n",
       "    <tr>\n",
       "      <th>411</th>\n",
       "      <td>12042.3</td>\n",
       "    </tr>\n",
       "    <tr>\n",
       "      <th>414</th>\n",
       "      <td>9563.4</td>\n",
       "    </tr>\n",
       "    <tr>\n",
       "      <th>417</th>\n",
       "      <td>16054.5</td>\n",
       "    </tr>\n",
       "    <tr>\n",
       "      <th>420</th>\n",
       "      <td>12600.0</td>\n",
       "    </tr>\n",
       "    <tr>\n",
       "      <th>...</th>\n",
       "      <td>...</td>\n",
       "    </tr>\n",
       "    <tr>\n",
       "      <th>1482</th>\n",
       "      <td>82843.8</td>\n",
       "    </tr>\n",
       "    <tr>\n",
       "      <th>1491</th>\n",
       "      <td>60534.6</td>\n",
       "    </tr>\n",
       "    <tr>\n",
       "      <th>1494</th>\n",
       "      <td>46239.3</td>\n",
       "    </tr>\n",
       "    <tr>\n",
       "      <th>1498</th>\n",
       "      <td>57523.2</td>\n",
       "    </tr>\n",
       "    <tr>\n",
       "      <th>1500</th>\n",
       "      <td>19350.0</td>\n",
       "    </tr>\n",
       "  </tbody>\n",
       "</table>\n",
       "<p>238 rows × 1 columns</p>\n",
       "</div>"
      ],
      "text/plain": [
       "                   House_Price\n",
       "House size (sqft)             \n",
       "406                    16037.0\n",
       "411                    12042.3\n",
       "414                     9563.4\n",
       "417                    16054.5\n",
       "420                    12600.0\n",
       "...                        ...\n",
       "1482                   82843.8\n",
       "1491                   60534.6\n",
       "1494                   46239.3\n",
       "1498                   57523.2\n",
       "1500                   19350.0\n",
       "\n",
       "[238 rows x 1 columns]"
      ]
     },
     "execution_count": 24,
     "metadata": {},
     "output_type": "execute_result"
    }
   ],
   "source": [
    "house_size = pd.pivot_table(train, values='House_Price', index = ['House size (sqft)'], aggfunc=np.mean)\n",
    "house_size"
   ]
  },
  {
   "cell_type": "code",
   "execution_count": 25,
   "id": "cb5b9fb4",
   "metadata": {},
   "outputs": [],
   "source": [
    "# initializing new column to zero\n",
    "test['house_size_mean'] = 0\n",
    "\n",
    "# For every unique entry in Outlet_Identifier\n",
    "for i in train['House size (sqft)'].unique():\n",
    "  # Assign the mean value corresponding to unique entry\n",
    "  test['house_size_mean'][test['House size (sqft)'] == i] = train['House_Price'][train['House size (sqft)'] == i].mean()"
   ]
  },
  {
   "cell_type": "code",
   "execution_count": 26,
   "id": "bab7a3d5",
   "metadata": {},
   "outputs": [
    {
     "data": {
      "text/plain": [
       "31298.059848484852"
      ]
     },
     "execution_count": 26,
     "metadata": {},
     "output_type": "execute_result"
    }
   ],
   "source": [
    "#calculating mean absolute error\n",
    "month_error = MAE(test['House_Price'] , test['house_size_mean'] )\n",
    "month_error"
   ]
  },
  {
   "cell_type": "markdown",
   "id": "b41ce704",
   "metadata": {},
   "source": [
    "# Mean House Price with respect to House price of unit area"
   ]
  },
  {
   "cell_type": "code",
   "execution_count": 27,
   "id": "ba3c67e5",
   "metadata": {},
   "outputs": [
    {
     "data": {
      "text/html": [
       "<div>\n",
       "<style scoped>\n",
       "    .dataframe tbody tr th:only-of-type {\n",
       "        vertical-align: middle;\n",
       "    }\n",
       "\n",
       "    .dataframe tbody tr th {\n",
       "        vertical-align: top;\n",
       "    }\n",
       "\n",
       "    .dataframe thead th {\n",
       "        text-align: right;\n",
       "    }\n",
       "</style>\n",
       "<table border=\"1\" class=\"dataframe\">\n",
       "  <thead>\n",
       "    <tr style=\"text-align: right;\">\n",
       "      <th></th>\n",
       "      <th>House_Price</th>\n",
       "    </tr>\n",
       "    <tr>\n",
       "      <th>House price of unit area</th>\n",
       "      <th></th>\n",
       "    </tr>\n",
       "  </thead>\n",
       "  <tbody>\n",
       "    <tr>\n",
       "      <th>7.6</th>\n",
       "      <td>10374.0</td>\n",
       "    </tr>\n",
       "    <tr>\n",
       "      <th>11.2</th>\n",
       "      <td>10449.6</td>\n",
       "    </tr>\n",
       "    <tr>\n",
       "      <th>12.2</th>\n",
       "      <td>6039.0</td>\n",
       "    </tr>\n",
       "    <tr>\n",
       "      <th>12.9</th>\n",
       "      <td>19350.0</td>\n",
       "    </tr>\n",
       "    <tr>\n",
       "      <th>13.0</th>\n",
       "      <td>15691.0</td>\n",
       "    </tr>\n",
       "    <tr>\n",
       "      <th>...</th>\n",
       "      <td>...</td>\n",
       "    </tr>\n",
       "    <tr>\n",
       "      <th>63.3</th>\n",
       "      <td>55007.7</td>\n",
       "    </tr>\n",
       "    <tr>\n",
       "      <th>67.7</th>\n",
       "      <td>39198.3</td>\n",
       "    </tr>\n",
       "    <tr>\n",
       "      <th>70.1</th>\n",
       "      <td>101014.1</td>\n",
       "    </tr>\n",
       "    <tr>\n",
       "      <th>78.0</th>\n",
       "      <td>33774.0</td>\n",
       "    </tr>\n",
       "    <tr>\n",
       "      <th>78.3</th>\n",
       "      <td>92942.1</td>\n",
       "    </tr>\n",
       "  </tbody>\n",
       "</table>\n",
       "<p>210 rows × 1 columns</p>\n",
       "</div>"
      ],
      "text/plain": [
       "                          House_Price\n",
       "House price of unit area             \n",
       "7.6                           10374.0\n",
       "11.2                          10449.6\n",
       "12.2                           6039.0\n",
       "12.9                          19350.0\n",
       "13.0                          15691.0\n",
       "...                               ...\n",
       "63.3                          55007.7\n",
       "67.7                          39198.3\n",
       "70.1                         101014.1\n",
       "78.0                          33774.0\n",
       "78.3                          92942.1\n",
       "\n",
       "[210 rows x 1 columns]"
      ]
     },
     "execution_count": 27,
     "metadata": {},
     "output_type": "execute_result"
    }
   ],
   "source": [
    "House_price_unit_area = pd.pivot_table(train, values='House_Price', index = ['House price of unit area'], aggfunc=np.mean)\n",
    "House_price_unit_area"
   ]
  },
  {
   "cell_type": "code",
   "execution_count": 28,
   "id": "0098de7e",
   "metadata": {},
   "outputs": [],
   "source": [
    "# initializing new column to zero\n",
    "test['House_price_unit_area_mean'] = 0\n",
    "\n",
    "# For every unique entry in Outlet_Identifier\n",
    "for i in train['House price of unit area'].unique():\n",
    "  # Assign the mean value corresponding to unique entry\n",
    "  test['House_price_unit_area_mean'][test['House price of unit area'] == i] = train['House_Price'][train['House price of unit area'] == i].mean()"
   ]
  },
  {
   "cell_type": "code",
   "execution_count": 29,
   "id": "e5898eee",
   "metadata": {},
   "outputs": [
    {
     "data": {
      "text/plain": [
       "27128.446085858588"
      ]
     },
     "execution_count": 29,
     "metadata": {},
     "output_type": "execute_result"
    }
   ],
   "source": [
    "#calculating mean absolute error\n",
    "month_error = MAE(test['House_Price'] , test['House_price_unit_area_mean'] )\n",
    "month_error"
   ]
  },
  {
   "cell_type": "markdown",
   "id": "e8e58f0b",
   "metadata": {},
   "source": [
    "# Mean House Price with respect to Distance from nearest Metro station (km)"
   ]
  },
  {
   "cell_type": "code",
   "execution_count": 30,
   "id": "77d84277",
   "metadata": {},
   "outputs": [
    {
     "data": {
      "text/html": [
       "<div>\n",
       "<style scoped>\n",
       "    .dataframe tbody tr th:only-of-type {\n",
       "        vertical-align: middle;\n",
       "    }\n",
       "\n",
       "    .dataframe tbody tr th {\n",
       "        vertical-align: top;\n",
       "    }\n",
       "\n",
       "    .dataframe thead th {\n",
       "        text-align: right;\n",
       "    }\n",
       "</style>\n",
       "<table border=\"1\" class=\"dataframe\">\n",
       "  <thead>\n",
       "    <tr style=\"text-align: right;\">\n",
       "      <th></th>\n",
       "      <th>House_Price</th>\n",
       "    </tr>\n",
       "    <tr>\n",
       "      <th>Distance from nearest Metro station (km)</th>\n",
       "      <th></th>\n",
       "    </tr>\n",
       "  </thead>\n",
       "  <tbody>\n",
       "    <tr>\n",
       "      <th>23.38284</th>\n",
       "      <td>63585.800000</td>\n",
       "    </tr>\n",
       "    <tr>\n",
       "      <th>56.47425</th>\n",
       "      <td>41406.733333</td>\n",
       "    </tr>\n",
       "    <tr>\n",
       "      <th>57.58945</th>\n",
       "      <td>42700.000000</td>\n",
       "    </tr>\n",
       "    <tr>\n",
       "      <th>84.87882</th>\n",
       "      <td>21792.500000</td>\n",
       "    </tr>\n",
       "    <tr>\n",
       "      <th>87.30222</th>\n",
       "      <td>50444.100000</td>\n",
       "    </tr>\n",
       "    <tr>\n",
       "      <th>...</th>\n",
       "      <td>...</td>\n",
       "    </tr>\n",
       "    <tr>\n",
       "      <th>4573.77900</th>\n",
       "      <td>23155.200000</td>\n",
       "    </tr>\n",
       "    <tr>\n",
       "      <th>5512.03800</th>\n",
       "      <td>23803.200000</td>\n",
       "    </tr>\n",
       "    <tr>\n",
       "      <th>6306.15300</th>\n",
       "      <td>21585.000000</td>\n",
       "    </tr>\n",
       "    <tr>\n",
       "      <th>6396.28300</th>\n",
       "      <td>6039.000000</td>\n",
       "    </tr>\n",
       "    <tr>\n",
       "      <th>6488.02100</th>\n",
       "      <td>10449.600000</td>\n",
       "    </tr>\n",
       "  </tbody>\n",
       "</table>\n",
       "<p>195 rows × 1 columns</p>\n",
       "</div>"
      ],
      "text/plain": [
       "                                           House_Price\n",
       "Distance from nearest Metro station (km)              \n",
       "23.38284                                  63585.800000\n",
       "56.47425                                  41406.733333\n",
       "57.58945                                  42700.000000\n",
       "84.87882                                  21792.500000\n",
       "87.30222                                  50444.100000\n",
       "...                                                ...\n",
       "4573.77900                                23155.200000\n",
       "5512.03800                                23803.200000\n",
       "6306.15300                                21585.000000\n",
       "6396.28300                                 6039.000000\n",
       "6488.02100                                10449.600000\n",
       "\n",
       "[195 rows x 1 columns]"
      ]
     },
     "execution_count": 30,
     "metadata": {},
     "output_type": "execute_result"
    }
   ],
   "source": [
    "distance_from_station = pd.pivot_table(train, values='House_Price', index = ['Distance from nearest Metro station (km)'], aggfunc=np.mean)\n",
    "distance_from_station"
   ]
  },
  {
   "cell_type": "code",
   "execution_count": 31,
   "id": "738dca3f",
   "metadata": {},
   "outputs": [],
   "source": [
    "# initializing new column to zero\n",
    "test['distance_from_station_mean'] = 0\n",
    "\n",
    "# For every unique entry in Outlet_Identifier\n",
    "for i in train['Distance from nearest Metro station (km)'].unique():\n",
    "  # Assign the mean value corresponding to unique entry\n",
    "  test['distance_from_station_mean'][test['Distance from nearest Metro station (km)'] == i] = train['House_Price'][train['Distance from nearest Metro station (km)'] == i].mean()"
   ]
  },
  {
   "cell_type": "code",
   "execution_count": 32,
   "id": "b34bc011",
   "metadata": {},
   "outputs": [
    {
     "data": {
      "text/plain": [
       "27469.47592261905"
      ]
     },
     "execution_count": 32,
     "metadata": {},
     "output_type": "execute_result"
    }
   ],
   "source": [
    "#calculating mean absolute error\n",
    "month_error = MAE(test['House_Price'] , test['distance_from_station_mean'] )\n",
    "month_error"
   ]
  },
  {
   "cell_type": "markdown",
   "id": "2ae8a229",
   "metadata": {},
   "source": [
    "# Mean House Price with respect to Number of convenience stores"
   ]
  },
  {
   "cell_type": "code",
   "execution_count": 33,
   "id": "c95134b3",
   "metadata": {},
   "outputs": [
    {
     "data": {
      "text/html": [
       "<div>\n",
       "<style scoped>\n",
       "    .dataframe tbody tr th:only-of-type {\n",
       "        vertical-align: middle;\n",
       "    }\n",
       "\n",
       "    .dataframe tbody tr th {\n",
       "        vertical-align: top;\n",
       "    }\n",
       "\n",
       "    .dataframe thead th {\n",
       "        text-align: right;\n",
       "    }\n",
       "</style>\n",
       "<table border=\"1\" class=\"dataframe\">\n",
       "  <thead>\n",
       "    <tr style=\"text-align: right;\">\n",
       "      <th></th>\n",
       "      <th>House_Price</th>\n",
       "    </tr>\n",
       "    <tr>\n",
       "      <th>Number of convenience stores</th>\n",
       "      <th></th>\n",
       "    </tr>\n",
       "  </thead>\n",
       "  <tbody>\n",
       "    <tr>\n",
       "      <th>0</th>\n",
       "      <td>26269.111905</td>\n",
       "    </tr>\n",
       "    <tr>\n",
       "      <th>1</th>\n",
       "      <td>25836.578125</td>\n",
       "    </tr>\n",
       "    <tr>\n",
       "      <th>2</th>\n",
       "      <td>26920.025000</td>\n",
       "    </tr>\n",
       "    <tr>\n",
       "      <th>3</th>\n",
       "      <td>27974.473333</td>\n",
       "    </tr>\n",
       "    <tr>\n",
       "      <th>4</th>\n",
       "      <td>34202.133333</td>\n",
       "    </tr>\n",
       "    <tr>\n",
       "      <th>5</th>\n",
       "      <td>41166.032653</td>\n",
       "    </tr>\n",
       "    <tr>\n",
       "      <th>6</th>\n",
       "      <td>40868.396000</td>\n",
       "    </tr>\n",
       "    <tr>\n",
       "      <th>7</th>\n",
       "      <td>43168.966667</td>\n",
       "    </tr>\n",
       "    <tr>\n",
       "      <th>8</th>\n",
       "      <td>40829.242105</td>\n",
       "    </tr>\n",
       "    <tr>\n",
       "      <th>9</th>\n",
       "      <td>45681.833333</td>\n",
       "    </tr>\n",
       "    <tr>\n",
       "      <th>10</th>\n",
       "      <td>52766.500000</td>\n",
       "    </tr>\n",
       "  </tbody>\n",
       "</table>\n",
       "</div>"
      ],
      "text/plain": [
       "                               House_Price\n",
       "Number of convenience stores              \n",
       "0                             26269.111905\n",
       "1                             25836.578125\n",
       "2                             26920.025000\n",
       "3                             27974.473333\n",
       "4                             34202.133333\n",
       "5                             41166.032653\n",
       "6                             40868.396000\n",
       "7                             43168.966667\n",
       "8                             40829.242105\n",
       "9                             45681.833333\n",
       "10                            52766.500000"
      ]
     },
     "execution_count": 33,
     "metadata": {},
     "output_type": "execute_result"
    }
   ],
   "source": [
    "convenience_stores = pd.pivot_table(train, values='House_Price', index = ['Number of convenience stores'], aggfunc=np.mean)\n",
    "convenience_stores"
   ]
  },
  {
   "cell_type": "code",
   "execution_count": 34,
   "id": "16e6d832",
   "metadata": {},
   "outputs": [],
   "source": [
    "# initializing new column to zero\n",
    "test['convenience_stores_mean'] = 0\n",
    "\n",
    "# For every unique entry in Outlet_Identifier\n",
    "for i in train['Number of convenience stores'].unique():\n",
    "  # Assign the mean value corresponding to unique entry\n",
    "  test['convenience_stores_mean'][test['Number of convenience stores'] == i] = train['House_Price'][train['Number of convenience stores'] == i].mean()"
   ]
  },
  {
   "cell_type": "code",
   "execution_count": 35,
   "id": "8f1848ec",
   "metadata": {},
   "outputs": [
    {
     "data": {
      "text/plain": [
       "15485.169979515887"
      ]
     },
     "execution_count": 35,
     "metadata": {},
     "output_type": "execute_result"
    }
   ],
   "source": [
    "#calculating mean absolute error\n",
    "month_error = MAE(test['House_Price'] , test['convenience_stores_mean'] )\n",
    "month_error"
   ]
  },
  {
   "cell_type": "markdown",
   "id": "efba75f9",
   "metadata": {},
   "source": [
    "# Mean Trip Duration with respect to both Distance from nearest Metro station (km) and Number of convenience stores"
   ]
  },
  {
   "cell_type": "code",
   "execution_count": 36,
   "id": "f369de78",
   "metadata": {},
   "outputs": [
    {
     "data": {
      "text/html": [
       "<div>\n",
       "<style scoped>\n",
       "    .dataframe tbody tr th:only-of-type {\n",
       "        vertical-align: middle;\n",
       "    }\n",
       "\n",
       "    .dataframe tbody tr th {\n",
       "        vertical-align: top;\n",
       "    }\n",
       "\n",
       "    .dataframe thead th {\n",
       "        text-align: right;\n",
       "    }\n",
       "</style>\n",
       "<table border=\"1\" class=\"dataframe\">\n",
       "  <thead>\n",
       "    <tr style=\"text-align: right;\">\n",
       "      <th></th>\n",
       "      <th></th>\n",
       "      <th>House_Price</th>\n",
       "    </tr>\n",
       "    <tr>\n",
       "      <th>Distance from nearest Metro station (km)</th>\n",
       "      <th>Number of convenience stores</th>\n",
       "      <th></th>\n",
       "    </tr>\n",
       "  </thead>\n",
       "  <tbody>\n",
       "    <tr>\n",
       "      <th>23.38284</th>\n",
       "      <th>7</th>\n",
       "      <td>63585.800000</td>\n",
       "    </tr>\n",
       "    <tr>\n",
       "      <th>56.47425</th>\n",
       "      <th>7</th>\n",
       "      <td>41406.733333</td>\n",
       "    </tr>\n",
       "    <tr>\n",
       "      <th>57.58945</th>\n",
       "      <th>7</th>\n",
       "      <td>42700.000000</td>\n",
       "    </tr>\n",
       "    <tr>\n",
       "      <th>84.87882</th>\n",
       "      <th>10</th>\n",
       "      <td>21792.500000</td>\n",
       "    </tr>\n",
       "    <tr>\n",
       "      <th>87.30222</th>\n",
       "      <th>10</th>\n",
       "      <td>50444.100000</td>\n",
       "    </tr>\n",
       "    <tr>\n",
       "      <th>...</th>\n",
       "      <th>...</th>\n",
       "      <td>...</td>\n",
       "    </tr>\n",
       "    <tr>\n",
       "      <th>4573.77900</th>\n",
       "      <th>0</th>\n",
       "      <td>23155.200000</td>\n",
       "    </tr>\n",
       "    <tr>\n",
       "      <th>5512.03800</th>\n",
       "      <th>1</th>\n",
       "      <td>23803.200000</td>\n",
       "    </tr>\n",
       "    <tr>\n",
       "      <th>6306.15300</th>\n",
       "      <th>1</th>\n",
       "      <td>21585.000000</td>\n",
       "    </tr>\n",
       "    <tr>\n",
       "      <th>6396.28300</th>\n",
       "      <th>1</th>\n",
       "      <td>6039.000000</td>\n",
       "    </tr>\n",
       "    <tr>\n",
       "      <th>6488.02100</th>\n",
       "      <th>1</th>\n",
       "      <td>10449.600000</td>\n",
       "    </tr>\n",
       "  </tbody>\n",
       "</table>\n",
       "<p>195 rows × 1 columns</p>\n",
       "</div>"
      ],
      "text/plain": [
       "                                                                        House_Price\n",
       "Distance from nearest Metro station (km) Number of convenience stores              \n",
       "23.38284                                 7                             63585.800000\n",
       "56.47425                                 7                             41406.733333\n",
       "57.58945                                 7                             42700.000000\n",
       "84.87882                                 10                            21792.500000\n",
       "87.30222                                 10                            50444.100000\n",
       "...                                                                             ...\n",
       "4573.77900                               0                             23155.200000\n",
       "5512.03800                               1                             23803.200000\n",
       "6306.15300                               1                             21585.000000\n",
       "6396.28300                               1                              6039.000000\n",
       "6488.02100                               1                             10449.600000\n",
       "\n",
       "[195 rows x 1 columns]"
      ]
     },
     "execution_count": 36,
     "metadata": {},
     "output_type": "execute_result"
    }
   ],
   "source": [
    "combo = pd.pivot_table(train, values = 'House_Price', index = ['Distance from nearest Metro station (km)','Number of convenience stores'], aggfunc = np.mean)\n",
    "combo"
   ]
  },
  {
   "cell_type": "code",
   "execution_count": 37,
   "id": "401b42c0",
   "metadata": {},
   "outputs": [],
   "source": [
    "# Initiating new empty column\n",
    "test['Super_mean'] = 0\n",
    "\n",
    "# Assigning variables to strings ( to shorten code length)\n",
    "s1 = 'Number of convenience stores'\n",
    "s2 = 'Distance from nearest Metro station (km)'\n",
    "# For every Unique Value in s1\n",
    "for i in test[s1].unique():\n",
    "  # For every Unique Value in s2\n",
    "  for j in test[s2].unique():\n",
    "    # Calculate and Assign mean to new column, corresponding to both unique values of s1 and s2 simultaneously\n",
    "    test['Super_mean'][(test[s1] == i) & (test[s2]==str(j))] = train['House_Price'][(train[s1] == i) & (train[s2]==str(j))].mean()"
   ]
  },
  {
   "cell_type": "code",
   "execution_count": 38,
   "id": "39a6aefb",
   "metadata": {},
   "outputs": [
    {
     "data": {
      "text/plain": [
       "36919.70454545455"
      ]
     },
     "execution_count": 38,
     "metadata": {},
     "output_type": "execute_result"
    }
   ],
   "source": [
    "#calculating mean absolute error\n",
    "super_mean_error = MAE(test['House_Price'] , test['Super_mean'] )\n",
    "super_mean_error"
   ]
  },
  {
   "cell_type": "markdown",
   "id": "b96e9957",
   "metadata": {},
   "source": [
    "# Mean House Price with respect to Number of bedrooms"
   ]
  },
  {
   "cell_type": "code",
   "execution_count": 39,
   "id": "69209df4",
   "metadata": {},
   "outputs": [
    {
     "data": {
      "text/html": [
       "<div>\n",
       "<style scoped>\n",
       "    .dataframe tbody tr th:only-of-type {\n",
       "        vertical-align: middle;\n",
       "    }\n",
       "\n",
       "    .dataframe tbody tr th {\n",
       "        vertical-align: top;\n",
       "    }\n",
       "\n",
       "    .dataframe thead th {\n",
       "        text-align: right;\n",
       "    }\n",
       "</style>\n",
       "<table border=\"1\" class=\"dataframe\">\n",
       "  <thead>\n",
       "    <tr style=\"text-align: right;\">\n",
       "      <th></th>\n",
       "      <th>House_Price</th>\n",
       "    </tr>\n",
       "    <tr>\n",
       "      <th>Number of bedrooms</th>\n",
       "      <th></th>\n",
       "    </tr>\n",
       "  </thead>\n",
       "  <tbody>\n",
       "    <tr>\n",
       "      <th>1</th>\n",
       "      <td>19516.528000</td>\n",
       "    </tr>\n",
       "    <tr>\n",
       "      <th>2</th>\n",
       "      <td>42628.764835</td>\n",
       "    </tr>\n",
       "    <tr>\n",
       "      <th>3</th>\n",
       "      <td>44077.214130</td>\n",
       "    </tr>\n",
       "  </tbody>\n",
       "</table>\n",
       "</div>"
      ],
      "text/plain": [
       "                     House_Price\n",
       "Number of bedrooms              \n",
       "1                   19516.528000\n",
       "2                   42628.764835\n",
       "3                   44077.214130"
      ]
     },
     "execution_count": 39,
     "metadata": {},
     "output_type": "execute_result"
    }
   ],
   "source": [
    "bedrooms = pd.pivot_table(train, values='House_Price', index = ['Number of bedrooms'], aggfunc=np.mean)\n",
    "bedrooms"
   ]
  },
  {
   "cell_type": "code",
   "execution_count": 40,
   "id": "7371c8c0",
   "metadata": {},
   "outputs": [],
   "source": [
    "# initializing new column to zero\n",
    "test['bedrooms_mean'] = 0\n",
    "\n",
    "# For every unique entry in Outlet_Identifier\n",
    "for i in train['Number of bedrooms'].unique():\n",
    "  # Assign the mean value corresponding to unique entry\n",
    "  test['bedrooms_mean'][test['Number of bedrooms'] == i] = train['House_Price'][train['Number of bedrooms'] == i].mean()"
   ]
  },
  {
   "cell_type": "code",
   "execution_count": 41,
   "id": "95e3c202",
   "metadata": {},
   "outputs": [
    {
     "data": {
      "text/plain": [
       "12631.777254611332"
      ]
     },
     "execution_count": 41,
     "metadata": {},
     "output_type": "execute_result"
    }
   ],
   "source": [
    "#calculating mean absolute error\n",
    "bedrooms_error = MAE(test['House_Price'] , test['bedrooms_mean'] )\n",
    "bedrooms_error"
   ]
  },
  {
   "cell_type": "markdown",
   "id": "052d8033",
   "metadata": {},
   "source": [
    "# Mean House Price with respect to House Age"
   ]
  },
  {
   "cell_type": "code",
   "execution_count": 42,
   "id": "8932c602",
   "metadata": {},
   "outputs": [
    {
     "data": {
      "text/html": [
       "<div>\n",
       "<style scoped>\n",
       "    .dataframe tbody tr th:only-of-type {\n",
       "        vertical-align: middle;\n",
       "    }\n",
       "\n",
       "    .dataframe tbody tr th {\n",
       "        vertical-align: top;\n",
       "    }\n",
       "\n",
       "    .dataframe thead th {\n",
       "        text-align: right;\n",
       "    }\n",
       "</style>\n",
       "<table border=\"1\" class=\"dataframe\">\n",
       "  <thead>\n",
       "    <tr style=\"text-align: right;\">\n",
       "      <th></th>\n",
       "      <th>House_Price</th>\n",
       "    </tr>\n",
       "    <tr>\n",
       "      <th>House Age</th>\n",
       "      <th></th>\n",
       "    </tr>\n",
       "  </thead>\n",
       "  <tbody>\n",
       "    <tr>\n",
       "      <th>0.0</th>\n",
       "      <td>57439.875000</td>\n",
       "    </tr>\n",
       "    <tr>\n",
       "      <th>1.0</th>\n",
       "      <td>58000.800000</td>\n",
       "    </tr>\n",
       "    <tr>\n",
       "      <th>1.1</th>\n",
       "      <td>38317.433333</td>\n",
       "    </tr>\n",
       "    <tr>\n",
       "      <th>1.5</th>\n",
       "      <td>63585.800000</td>\n",
       "    </tr>\n",
       "    <tr>\n",
       "      <th>1.8</th>\n",
       "      <td>13905.000000</td>\n",
       "    </tr>\n",
       "    <tr>\n",
       "      <th>...</th>\n",
       "      <td>...</td>\n",
       "    </tr>\n",
       "    <tr>\n",
       "      <th>40.9</th>\n",
       "      <td>39771.150000</td>\n",
       "    </tr>\n",
       "    <tr>\n",
       "      <th>41.3</th>\n",
       "      <td>31203.900000</td>\n",
       "    </tr>\n",
       "    <tr>\n",
       "      <th>41.4</th>\n",
       "      <td>33738.900000</td>\n",
       "    </tr>\n",
       "    <tr>\n",
       "      <th>42.7</th>\n",
       "      <td>43560.200000</td>\n",
       "    </tr>\n",
       "    <tr>\n",
       "      <th>43.8</th>\n",
       "      <td>42700.000000</td>\n",
       "    </tr>\n",
       "  </tbody>\n",
       "</table>\n",
       "<p>186 rows × 1 columns</p>\n",
       "</div>"
      ],
      "text/plain": [
       "            House_Price\n",
       "House Age              \n",
       "0.0        57439.875000\n",
       "1.0        58000.800000\n",
       "1.1        38317.433333\n",
       "1.5        63585.800000\n",
       "1.8        13905.000000\n",
       "...                 ...\n",
       "40.9       39771.150000\n",
       "41.3       31203.900000\n",
       "41.4       33738.900000\n",
       "42.7       43560.200000\n",
       "43.8       42700.000000\n",
       "\n",
       "[186 rows x 1 columns]"
      ]
     },
     "execution_count": 42,
     "metadata": {},
     "output_type": "execute_result"
    }
   ],
   "source": [
    "House_Age = pd.pivot_table(train, values='House_Price', index = ['House Age'], aggfunc=np.mean)\n",
    "House_Age"
   ]
  },
  {
   "cell_type": "code",
   "execution_count": 43,
   "id": "66ff1f9e",
   "metadata": {},
   "outputs": [],
   "source": [
    "# initializing new column to zero\n",
    "test['House Age_mean'] = 0\n",
    "\n",
    "# For every unique entry in Outlet_Identifier\n",
    "for i in train['House Age'].unique():\n",
    "  # Assign the mean value corresponding to unique entry\n",
    "  test['House Age_mean'][test['House Age'] == i] = train['House_Price'][train['House Age'] == i].mean()"
   ]
  },
  {
   "cell_type": "code",
   "execution_count": 44,
   "id": "7b3a493e",
   "metadata": {},
   "outputs": [
    {
     "data": {
      "text/plain": [
       "28290.379936868685"
      ]
     },
     "execution_count": 44,
     "metadata": {},
     "output_type": "execute_result"
    }
   ],
   "source": [
    "#calculating mean absolute error\n",
    "House_Age_error = MAE(test['House_Price'] , test['House Age_mean'] )\n",
    "House_Age_error"
   ]
  },
  {
   "cell_type": "markdown",
   "id": "b3edd2e5",
   "metadata": {},
   "source": [
    "# Mean House Price with respect to Number of bedrooms and House Age"
   ]
  },
  {
   "cell_type": "code",
   "execution_count": 45,
   "id": "5f44dd4d",
   "metadata": {},
   "outputs": [
    {
     "data": {
      "text/html": [
       "<div>\n",
       "<style scoped>\n",
       "    .dataframe tbody tr th:only-of-type {\n",
       "        vertical-align: middle;\n",
       "    }\n",
       "\n",
       "    .dataframe tbody tr th {\n",
       "        vertical-align: top;\n",
       "    }\n",
       "\n",
       "    .dataframe thead th {\n",
       "        text-align: right;\n",
       "    }\n",
       "</style>\n",
       "<table border=\"1\" class=\"dataframe\">\n",
       "  <thead>\n",
       "    <tr style=\"text-align: right;\">\n",
       "      <th></th>\n",
       "      <th></th>\n",
       "      <th>House_Price</th>\n",
       "    </tr>\n",
       "    <tr>\n",
       "      <th>Number of bedrooms</th>\n",
       "      <th>House Age</th>\n",
       "      <th></th>\n",
       "    </tr>\n",
       "  </thead>\n",
       "  <tbody>\n",
       "    <tr>\n",
       "      <th rowspan=\"5\" valign=\"top\">1</th>\n",
       "      <th>0.0</th>\n",
       "      <td>28281.15</td>\n",
       "    </tr>\n",
       "    <tr>\n",
       "      <th>1.1</th>\n",
       "      <td>22638.00</td>\n",
       "    </tr>\n",
       "    <tr>\n",
       "      <th>1.8</th>\n",
       "      <td>13905.00</td>\n",
       "    </tr>\n",
       "    <tr>\n",
       "      <th>2.1</th>\n",
       "      <td>19201.00</td>\n",
       "    </tr>\n",
       "    <tr>\n",
       "      <th>3.1</th>\n",
       "      <td>28572.30</td>\n",
       "    </tr>\n",
       "    <tr>\n",
       "      <th>...</th>\n",
       "      <th>...</th>\n",
       "      <td>...</td>\n",
       "    </tr>\n",
       "    <tr>\n",
       "      <th rowspan=\"5\" valign=\"top\">3</th>\n",
       "      <th>39.7</th>\n",
       "      <td>31590.00</td>\n",
       "    </tr>\n",
       "    <tr>\n",
       "      <th>40.1</th>\n",
       "      <td>59849.30</td>\n",
       "    </tr>\n",
       "    <tr>\n",
       "      <th>41.3</th>\n",
       "      <td>31203.90</td>\n",
       "    </tr>\n",
       "    <tr>\n",
       "      <th>42.7</th>\n",
       "      <td>43560.20</td>\n",
       "    </tr>\n",
       "    <tr>\n",
       "      <th>43.8</th>\n",
       "      <td>42700.00</td>\n",
       "    </tr>\n",
       "  </tbody>\n",
       "</table>\n",
       "<p>241 rows × 1 columns</p>\n",
       "</div>"
      ],
      "text/plain": [
       "                              House_Price\n",
       "Number of bedrooms House Age             \n",
       "1                  0.0           28281.15\n",
       "                   1.1           22638.00\n",
       "                   1.8           13905.00\n",
       "                   2.1           19201.00\n",
       "                   3.1           28572.30\n",
       "...                                   ...\n",
       "3                  39.7          31590.00\n",
       "                   40.1          59849.30\n",
       "                   41.3          31203.90\n",
       "                   42.7          43560.20\n",
       "                   43.8          42700.00\n",
       "\n",
       "[241 rows x 1 columns]"
      ]
     },
     "execution_count": 45,
     "metadata": {},
     "output_type": "execute_result"
    }
   ],
   "source": [
    "combo = pd.pivot_table(train, values = 'House_Price', index = ['Number of bedrooms','House Age'], aggfunc = np.mean)\n",
    "combo"
   ]
  },
  {
   "cell_type": "code",
   "execution_count": 46,
   "id": "fa0408dd",
   "metadata": {},
   "outputs": [],
   "source": [
    "# Initiating new empty column\n",
    "test['Super_mean'] = 0\n",
    "\n",
    "# Assigning variables to strings ( to shorten code length)\n",
    "s1 = 'House Age'\n",
    "s2 = 'Number of bedrooms'\n",
    "# For every Unique Value in s1\n",
    "for i in test[s1].unique():\n",
    "  # For every Unique Value in s2\n",
    "  for j in test[s2].unique():\n",
    "    # Calculate and Assign mean to new column, corresponding to both unique values of s1 and s2 simultaneously\n",
    "    test['Super_mean'][(test[s1] == i) & (test[s2]==str(j))] = train['House_Price'][(train[s1] == i) & (train[s2]==str(j))].mean()"
   ]
  },
  {
   "cell_type": "code",
   "execution_count": 47,
   "id": "224a8a1e",
   "metadata": {},
   "outputs": [
    {
     "data": {
      "text/plain": [
       "36919.70454545455"
      ]
     },
     "execution_count": 47,
     "metadata": {},
     "output_type": "execute_result"
    }
   ],
   "source": [
    "#calculating mean absolute error\n",
    "super_mean_error = MAE(test['House_Price'] , test['Super_mean'] )\n",
    "super_mean_error"
   ]
  },
  {
   "cell_type": "markdown",
   "id": "170d1990",
   "metadata": {},
   "source": [
    "# Build a K-Nearest neighbours model for the given dataset and find the best value of K."
   ]
  },
  {
   "cell_type": "code",
   "execution_count": 48,
   "id": "7a4e73ea",
   "metadata": {},
   "outputs": [
    {
     "data": {
      "text/plain": [
       "Transaction date                            datetime64[ns]\n",
       "House Age                                          float64\n",
       "Distance from nearest Metro station (km)           float64\n",
       "Number of convenience stores                      category\n",
       "latitude                                           float64\n",
       "longitude                                          float64\n",
       "Number of bedrooms                                category\n",
       "House size (sqft)                                    int64\n",
       "House price of unit area                           float64\n",
       "month                                                int64\n",
       "day_of_week                                          int64\n",
       "House_Price                                        float64\n",
       "dtype: object"
      ]
     },
     "execution_count": 48,
     "metadata": {},
     "output_type": "execute_result"
    }
   ],
   "source": [
    "data.dtypes"
   ]
  },
  {
   "cell_type": "code",
   "execution_count": 49,
   "id": "8fc02511",
   "metadata": {},
   "outputs": [
    {
     "data": {
      "text/html": [
       "<div>\n",
       "<style scoped>\n",
       "    .dataframe tbody tr th:only-of-type {\n",
       "        vertical-align: middle;\n",
       "    }\n",
       "\n",
       "    .dataframe tbody tr th {\n",
       "        vertical-align: top;\n",
       "    }\n",
       "\n",
       "    .dataframe thead th {\n",
       "        text-align: right;\n",
       "    }\n",
       "</style>\n",
       "<table border=\"1\" class=\"dataframe\">\n",
       "  <thead>\n",
       "    <tr style=\"text-align: right;\">\n",
       "      <th></th>\n",
       "      <th>Transaction date</th>\n",
       "      <th>House Age</th>\n",
       "      <th>Distance from nearest Metro station (km)</th>\n",
       "      <th>Number of convenience stores</th>\n",
       "      <th>latitude</th>\n",
       "      <th>longitude</th>\n",
       "      <th>Number of bedrooms</th>\n",
       "      <th>House size (sqft)</th>\n",
       "      <th>House price of unit area</th>\n",
       "      <th>month</th>\n",
       "      <th>day_of_week</th>\n",
       "      <th>House_Price</th>\n",
       "    </tr>\n",
       "  </thead>\n",
       "  <tbody>\n",
       "    <tr>\n",
       "      <th>358</th>\n",
       "      <td>2020-01-03</td>\n",
       "      <td>1.1</td>\n",
       "      <td>193.5845</td>\n",
       "      <td>6</td>\n",
       "      <td>24.96571</td>\n",
       "      <td>121.54089</td>\n",
       "      <td>2</td>\n",
       "      <td>1021</td>\n",
       "      <td>45.1</td>\n",
       "      <td>1</td>\n",
       "      <td>4</td>\n",
       "      <td>46047.1</td>\n",
       "    </tr>\n",
       "    <tr>\n",
       "      <th>350</th>\n",
       "      <td>2020-01-03</td>\n",
       "      <td>13.2</td>\n",
       "      <td>492.2313</td>\n",
       "      <td>5</td>\n",
       "      <td>24.96515</td>\n",
       "      <td>121.53737</td>\n",
       "      <td>2</td>\n",
       "      <td>1146</td>\n",
       "      <td>42.3</td>\n",
       "      <td>1</td>\n",
       "      <td>4</td>\n",
       "      <td>48475.8</td>\n",
       "    </tr>\n",
       "    <tr>\n",
       "      <th>373</th>\n",
       "      <td>2020-01-03</td>\n",
       "      <td>0.0</td>\n",
       "      <td>274.0144</td>\n",
       "      <td>1</td>\n",
       "      <td>24.97480</td>\n",
       "      <td>121.53059</td>\n",
       "      <td>2</td>\n",
       "      <td>1172</td>\n",
       "      <td>52.2</td>\n",
       "      <td>1</td>\n",
       "      <td>4</td>\n",
       "      <td>61178.4</td>\n",
       "    </tr>\n",
       "    <tr>\n",
       "      <th>399</th>\n",
       "      <td>2020-01-02</td>\n",
       "      <td>12.7</td>\n",
       "      <td>170.1289</td>\n",
       "      <td>1</td>\n",
       "      <td>24.97371</td>\n",
       "      <td>121.52984</td>\n",
       "      <td>1</td>\n",
       "      <td>489</td>\n",
       "      <td>37.3</td>\n",
       "      <td>1</td>\n",
       "      <td>3</td>\n",
       "      <td>18239.7</td>\n",
       "    </tr>\n",
       "    <tr>\n",
       "      <th>369</th>\n",
       "      <td>2020-01-02</td>\n",
       "      <td>20.2</td>\n",
       "      <td>2185.1280</td>\n",
       "      <td>3</td>\n",
       "      <td>24.96322</td>\n",
       "      <td>121.51237</td>\n",
       "      <td>3</td>\n",
       "      <td>1350</td>\n",
       "      <td>22.8</td>\n",
       "      <td>1</td>\n",
       "      <td>3</td>\n",
       "      <td>30780.0</td>\n",
       "    </tr>\n",
       "  </tbody>\n",
       "</table>\n",
       "</div>"
      ],
      "text/plain": [
       "    Transaction date  House Age  Distance from nearest Metro station (km)  \\\n",
       "358       2020-01-03        1.1                                  193.5845   \n",
       "350       2020-01-03       13.2                                  492.2313   \n",
       "373       2020-01-03        0.0                                  274.0144   \n",
       "399       2020-01-02       12.7                                  170.1289   \n",
       "369       2020-01-02       20.2                                 2185.1280   \n",
       "\n",
       "    Number of convenience stores  latitude  longitude Number of bedrooms  \\\n",
       "358                            6  24.96571  121.54089                  2   \n",
       "350                            5  24.96515  121.53737                  2   \n",
       "373                            1  24.97480  121.53059                  2   \n",
       "399                            1  24.97371  121.52984                  1   \n",
       "369                            3  24.96322  121.51237                  3   \n",
       "\n",
       "     House size (sqft)  House price of unit area  month  day_of_week  \\\n",
       "358               1021                      45.1      1            4   \n",
       "350               1146                      42.3      1            4   \n",
       "373               1172                      52.2      1            4   \n",
       "399                489                      37.3      1            3   \n",
       "369               1350                      22.8      1            3   \n",
       "\n",
       "     House_Price  \n",
       "358      46047.1  \n",
       "350      48475.8  \n",
       "373      61178.4  \n",
       "399      18239.7  \n",
       "369      30780.0  "
      ]
     },
     "execution_count": 49,
     "metadata": {},
     "output_type": "execute_result"
    }
   ],
   "source": [
    "data.head()"
   ]
  },
  {
   "cell_type": "code",
   "execution_count": 50,
   "id": "858cc1bf",
   "metadata": {},
   "outputs": [
    {
     "data": {
      "text/plain": [
       "Transaction date                            datetime64[ns]\n",
       "House Age                                          float64\n",
       "Distance from nearest Metro station (km)           float64\n",
       "Number of convenience stores                      category\n",
       "latitude                                           float64\n",
       "longitude                                          float64\n",
       "Number of bedrooms                                category\n",
       "House size (sqft)                                    int64\n",
       "House price of unit area                           float64\n",
       "month                                                int64\n",
       "day_of_week                                          int64\n",
       "House_Price                                        float64\n",
       "dtype: object"
      ]
     },
     "execution_count": 50,
     "metadata": {},
     "output_type": "execute_result"
    }
   ],
   "source": [
    "data.dtypes"
   ]
  },
  {
   "cell_type": "markdown",
   "id": "c34fc772",
   "metadata": {},
   "source": [
    "# Outlier Detection and Removal"
   ]
  },
  {
   "cell_type": "code",
   "execution_count": 51,
   "id": "4ea8e0c6",
   "metadata": {},
   "outputs": [
    {
     "data": {
      "image/png": "[encoded data removed]",
      "text/plain": [
       "<Figure size 432x288 with 1 Axes>"
      ]
     },
     "metadata": {
      "needs_background": "light"
     },
     "output_type": "display_data"
    }
   ],
   "source": [
    "data.boxplot(column = ['House_Price'])\n",
    "plt.show()"
   ]
  },
  {
   "cell_type": "code",
   "execution_count": 52,
   "id": "f63047e1",
   "metadata": {},
   "outputs": [],
   "source": [
    "data['log_House_Price'] = np.log(data['House_Price'].values + 1)\n",
    "data['log_House_Price'] = data['log_House_Price'].astype('float16')"
   ]
  },
  {
   "cell_type": "code",
   "execution_count": 53,
   "id": "69c9294e",
   "metadata": {},
   "outputs": [
    {
     "data": {
      "image/png": "[encoded data removed]",
      "text/plain": [
       "<Figure size 432x288 with 1 Axes>"
      ]
     },
     "metadata": {
      "needs_background": "light"
     },
     "output_type": "display_data"
    }
   ],
   "source": [
    "data.boxplot(column = ['log_House_Price'])\n",
    "plt.show()"
   ]
  },
  {
   "cell_type": "code",
   "execution_count": 54,
   "id": "e7a24f03",
   "metadata": {},
   "outputs": [],
   "source": [
    "data = data.loc[(data.log_House_Price > 8.65) & (data.log_House_Price < 13)]"
   ]
  },
  {
   "cell_type": "code",
   "execution_count": 55,
   "id": "010801b5",
   "metadata": {},
   "outputs": [
    {
     "data": {
      "image/png": "[encoded data removed]",
      "text/plain": [
       "<Figure size 432x288 with 1 Axes>"
      ]
     },
     "metadata": {
      "needs_background": "light"
     },
     "output_type": "display_data"
    }
   ],
   "source": [
    "data.boxplot(column = ['log_House_Price'])\n",
    "plt.show()"
   ]
  },
  {
   "cell_type": "code",
   "execution_count": 56,
   "id": "bea58095",
   "metadata": {},
   "outputs": [
    {
     "data": {
      "image/png": "[encoded data removed]",
      "text/plain": [
       "<Figure size 720x720 with 4 Axes>"
      ]
     },
     "metadata": {},
     "output_type": "display_data"
    }
   ],
   "source": [
    "sns.set(style=\"white\", palette=\"muted\", color_codes=True)\n",
    "f, axes = plt.subplots(nrows = 2, ncols = 2, figsize=(10, 10), sharex = False, sharey = False)\n",
    "sns.despine(left=True)\n",
    "sns.distplot(data['latitude'].values, label = 'latitude', color=\"b\", bins = 50, ax=axes[0,0])\n",
    "sns.distplot(data['latitude'].values, label = 'latitude', color=\"b\", bins = 50, ax=axes[0,1])\n",
    "sns.distplot(data['longitude'].values, label = 'longitude', color=\"r\", bins =50, ax=axes[1,0])\n",
    "sns.distplot(data['longitude'].values, label = 'longitude', color=\"r\", bins =50, ax=axes[1,1])\n",
    "\n",
    "plt.setp(axes, yticks=[])\n",
    "plt.tight_layout()\n",
    "plt.show()"
   ]
  },
  {
   "cell_type": "code",
   "execution_count": 57,
   "id": "39ca83b7",
   "metadata": {},
   "outputs": [],
   "source": [
    "data = pd.get_dummies(data.drop(['House_Price', 'Transaction date', 'House Age', 'House size (sqft)', 'Distance from nearest Metro station (km)', 'House price of unit area'], axis = 1))"
   ]
  },
  {
   "cell_type": "code",
   "execution_count": 58,
   "id": "69c6b6d2",
   "metadata": {},
   "outputs": [
    {
     "data": {
      "text/html": [
       "<div>\n",
       "<style scoped>\n",
       "    .dataframe tbody tr th:only-of-type {\n",
       "        vertical-align: middle;\n",
       "    }\n",
       "\n",
       "    .dataframe tbody tr th {\n",
       "        vertical-align: top;\n",
       "    }\n",
       "\n",
       "    .dataframe thead th {\n",
       "        text-align: right;\n",
       "    }\n",
       "</style>\n",
       "<table border=\"1\" class=\"dataframe\">\n",
       "  <thead>\n",
       "    <tr style=\"text-align: right;\">\n",
       "      <th></th>\n",
       "      <th>latitude</th>\n",
       "      <th>longitude</th>\n",
       "      <th>month</th>\n",
       "      <th>day_of_week</th>\n",
       "      <th>log_House_Price</th>\n",
       "      <th>Number of convenience stores_0</th>\n",
       "      <th>Number of convenience stores_1</th>\n",
       "      <th>Number of convenience stores_2</th>\n",
       "      <th>Number of convenience stores_3</th>\n",
       "      <th>Number of convenience stores_4</th>\n",
       "      <th>Number of convenience stores_5</th>\n",
       "      <th>Number of convenience stores_6</th>\n",
       "      <th>Number of convenience stores_7</th>\n",
       "      <th>Number of convenience stores_8</th>\n",
       "      <th>Number of convenience stores_9</th>\n",
       "      <th>Number of convenience stores_10</th>\n",
       "      <th>Number of bedrooms_1</th>\n",
       "      <th>Number of bedrooms_2</th>\n",
       "      <th>Number of bedrooms_3</th>\n",
       "    </tr>\n",
       "  </thead>\n",
       "  <tbody>\n",
       "    <tr>\n",
       "      <th>358</th>\n",
       "      <td>24.96571</td>\n",
       "      <td>121.54089</td>\n",
       "      <td>1</td>\n",
       "      <td>4</td>\n",
       "      <td>10.734375</td>\n",
       "      <td>0</td>\n",
       "      <td>0</td>\n",
       "      <td>0</td>\n",
       "      <td>0</td>\n",
       "      <td>0</td>\n",
       "      <td>0</td>\n",
       "      <td>1</td>\n",
       "      <td>0</td>\n",
       "      <td>0</td>\n",
       "      <td>0</td>\n",
       "      <td>0</td>\n",
       "      <td>0</td>\n",
       "      <td>1</td>\n",
       "      <td>0</td>\n",
       "    </tr>\n",
       "    <tr>\n",
       "      <th>350</th>\n",
       "      <td>24.96515</td>\n",
       "      <td>121.53737</td>\n",
       "      <td>1</td>\n",
       "      <td>4</td>\n",
       "      <td>10.789062</td>\n",
       "      <td>0</td>\n",
       "      <td>0</td>\n",
       "      <td>0</td>\n",
       "      <td>0</td>\n",
       "      <td>0</td>\n",
       "      <td>1</td>\n",
       "      <td>0</td>\n",
       "      <td>0</td>\n",
       "      <td>0</td>\n",
       "      <td>0</td>\n",
       "      <td>0</td>\n",
       "      <td>0</td>\n",
       "      <td>1</td>\n",
       "      <td>0</td>\n",
       "    </tr>\n",
       "    <tr>\n",
       "      <th>373</th>\n",
       "      <td>24.97480</td>\n",
       "      <td>121.53059</td>\n",
       "      <td>1</td>\n",
       "      <td>4</td>\n",
       "      <td>11.023438</td>\n",
       "      <td>0</td>\n",
       "      <td>1</td>\n",
       "      <td>0</td>\n",
       "      <td>0</td>\n",
       "      <td>0</td>\n",
       "      <td>0</td>\n",
       "      <td>0</td>\n",
       "      <td>0</td>\n",
       "      <td>0</td>\n",
       "      <td>0</td>\n",
       "      <td>0</td>\n",
       "      <td>0</td>\n",
       "      <td>1</td>\n",
       "      <td>0</td>\n",
       "    </tr>\n",
       "    <tr>\n",
       "      <th>399</th>\n",
       "      <td>24.97371</td>\n",
       "      <td>121.52984</td>\n",
       "      <td>1</td>\n",
       "      <td>3</td>\n",
       "      <td>9.812500</td>\n",
       "      <td>0</td>\n",
       "      <td>1</td>\n",
       "      <td>0</td>\n",
       "      <td>0</td>\n",
       "      <td>0</td>\n",
       "      <td>0</td>\n",
       "      <td>0</td>\n",
       "      <td>0</td>\n",
       "      <td>0</td>\n",
       "      <td>0</td>\n",
       "      <td>0</td>\n",
       "      <td>1</td>\n",
       "      <td>0</td>\n",
       "      <td>0</td>\n",
       "    </tr>\n",
       "    <tr>\n",
       "      <th>369</th>\n",
       "      <td>24.96322</td>\n",
       "      <td>121.51237</td>\n",
       "      <td>1</td>\n",
       "      <td>3</td>\n",
       "      <td>10.335938</td>\n",
       "      <td>0</td>\n",
       "      <td>0</td>\n",
       "      <td>0</td>\n",
       "      <td>1</td>\n",
       "      <td>0</td>\n",
       "      <td>0</td>\n",
       "      <td>0</td>\n",
       "      <td>0</td>\n",
       "      <td>0</td>\n",
       "      <td>0</td>\n",
       "      <td>0</td>\n",
       "      <td>0</td>\n",
       "      <td>0</td>\n",
       "      <td>1</td>\n",
       "    </tr>\n",
       "  </tbody>\n",
       "</table>\n",
       "</div>"
      ],
      "text/plain": [
       "     latitude  longitude  month  day_of_week  log_House_Price  \\\n",
       "358  24.96571  121.54089      1            4        10.734375   \n",
       "350  24.96515  121.53737      1            4        10.789062   \n",
       "373  24.97480  121.53059      1            4        11.023438   \n",
       "399  24.97371  121.52984      1            3         9.812500   \n",
       "369  24.96322  121.51237      1            3        10.335938   \n",
       "\n",
       "     Number of convenience stores_0  Number of convenience stores_1  \\\n",
       "358                               0                               0   \n",
       "350                               0                               0   \n",
       "373                               0                               1   \n",
       "399                               0                               1   \n",
       "369                               0                               0   \n",
       "\n",
       "     Number of convenience stores_2  Number of convenience stores_3  \\\n",
       "358                               0                               0   \n",
       "350                               0                               0   \n",
       "373                               0                               0   \n",
       "399                               0                               0   \n",
       "369                               0                               1   \n",
       "\n",
       "     Number of convenience stores_4  Number of convenience stores_5  \\\n",
       "358                               0                               0   \n",
       "350                               0                               1   \n",
       "373                               0                               0   \n",
       "399                               0                               0   \n",
       "369                               0                               0   \n",
       "\n",
       "     Number of convenience stores_6  Number of convenience stores_7  \\\n",
       "358                               1                               0   \n",
       "350                               0                               0   \n",
       "373                               0                               0   \n",
       "399                               0                               0   \n",
       "369                               0                               0   \n",
       "\n",
       "     Number of convenience stores_8  Number of convenience stores_9  \\\n",
       "358                               0                               0   \n",
       "350                               0                               0   \n",
       "373                               0                               0   \n",
       "399                               0                               0   \n",
       "369                               0                               0   \n",
       "\n",
       "     Number of convenience stores_10  Number of bedrooms_1  \\\n",
       "358                                0                     0   \n",
       "350                                0                     0   \n",
       "373                                0                     0   \n",
       "399                                0                     1   \n",
       "369                                0                     0   \n",
       "\n",
       "     Number of bedrooms_2  Number of bedrooms_3  \n",
       "358                     1                     0  \n",
       "350                     1                     0  \n",
       "373                     1                     0  \n",
       "399                     0                     0  \n",
       "369                     0                     1  "
      ]
     },
     "execution_count": 58,
     "metadata": {},
     "output_type": "execute_result"
    }
   ],
   "source": [
    "data.head()"
   ]
  },
  {
   "cell_type": "markdown",
   "id": "b326272e",
   "metadata": {},
   "source": [
    "# Segregating variables: Independent and Dependent Variables"
   ]
  },
  {
   "cell_type": "code",
   "execution_count": 59,
   "id": "898ae359",
   "metadata": {},
   "outputs": [
    {
     "data": {
      "text/plain": [
       "((413, 18), (413,))"
      ]
     },
     "execution_count": 59,
     "metadata": {},
     "output_type": "execute_result"
    }
   ],
   "source": [
    "#seperating independent and dependent variables\n",
    "\n",
    "#features\n",
    "x = data.drop(['log_House_Price'], axis=1)\n",
    "\n",
    "#target\n",
    "y = data['log_House_Price']\n",
    "\n",
    "x.shape, y.shape"
   ]
  },
  {
   "cell_type": "markdown",
   "id": "3da03bb5",
   "metadata": {},
   "source": [
    "# Scaling the data (Using MinMax Scaler)"
   ]
  },
  {
   "cell_type": "code",
   "execution_count": 60,
   "id": "e82d32db",
   "metadata": {},
   "outputs": [],
   "source": [
    "# Importing the MinMax Scaler\n",
    "from sklearn.preprocessing import MinMaxScaler\n",
    "scaler = MinMaxScaler()\n",
    "x_scaled = scaler.fit_transform(x)"
   ]
  },
  {
   "cell_type": "code",
   "execution_count": 61,
   "id": "a209cd3c",
   "metadata": {},
   "outputs": [
    {
     "data": {
      "text/html": [
       "<div>\n",
       "<style scoped>\n",
       "    .dataframe tbody tr th:only-of-type {\n",
       "        vertical-align: middle;\n",
       "    }\n",
       "\n",
       "    .dataframe tbody tr th {\n",
       "        vertical-align: top;\n",
       "    }\n",
       "\n",
       "    .dataframe thead th {\n",
       "        text-align: right;\n",
       "    }\n",
       "</style>\n",
       "<table border=\"1\" class=\"dataframe\">\n",
       "  <thead>\n",
       "    <tr style=\"text-align: right;\">\n",
       "      <th></th>\n",
       "      <th>latitude</th>\n",
       "      <th>longitude</th>\n",
       "      <th>month</th>\n",
       "      <th>day_of_week</th>\n",
       "      <th>Number of convenience stores_0</th>\n",
       "      <th>Number of convenience stores_1</th>\n",
       "      <th>Number of convenience stores_2</th>\n",
       "      <th>Number of convenience stores_3</th>\n",
       "      <th>Number of convenience stores_4</th>\n",
       "      <th>Number of convenience stores_5</th>\n",
       "      <th>Number of convenience stores_6</th>\n",
       "      <th>Number of convenience stores_7</th>\n",
       "      <th>Number of convenience stores_8</th>\n",
       "      <th>Number of convenience stores_9</th>\n",
       "      <th>Number of convenience stores_10</th>\n",
       "      <th>Number of bedrooms_1</th>\n",
       "      <th>Number of bedrooms_2</th>\n",
       "      <th>Number of bedrooms_3</th>\n",
       "    </tr>\n",
       "  </thead>\n",
       "  <tbody>\n",
       "    <tr>\n",
       "      <th>0</th>\n",
       "      <td>0.407659</td>\n",
       "      <td>0.726332</td>\n",
       "      <td>0.0</td>\n",
       "      <td>1.0</td>\n",
       "      <td>0.0</td>\n",
       "      <td>0.0</td>\n",
       "      <td>0.0</td>\n",
       "      <td>0.0</td>\n",
       "      <td>0.0</td>\n",
       "      <td>0.0</td>\n",
       "      <td>1.0</td>\n",
       "      <td>0.0</td>\n",
       "      <td>0.0</td>\n",
       "      <td>0.0</td>\n",
       "      <td>0.0</td>\n",
       "      <td>0.0</td>\n",
       "      <td>1.0</td>\n",
       "      <td>0.0</td>\n",
       "    </tr>\n",
       "    <tr>\n",
       "      <th>1</th>\n",
       "      <td>0.400873</td>\n",
       "      <td>0.688376</td>\n",
       "      <td>0.0</td>\n",
       "      <td>1.0</td>\n",
       "      <td>0.0</td>\n",
       "      <td>0.0</td>\n",
       "      <td>0.0</td>\n",
       "      <td>0.0</td>\n",
       "      <td>0.0</td>\n",
       "      <td>1.0</td>\n",
       "      <td>0.0</td>\n",
       "      <td>0.0</td>\n",
       "      <td>0.0</td>\n",
       "      <td>0.0</td>\n",
       "      <td>0.0</td>\n",
       "      <td>0.0</td>\n",
       "      <td>1.0</td>\n",
       "      <td>0.0</td>\n",
       "    </tr>\n",
       "    <tr>\n",
       "      <th>2</th>\n",
       "      <td>0.517814</td>\n",
       "      <td>0.615268</td>\n",
       "      <td>0.0</td>\n",
       "      <td>1.0</td>\n",
       "      <td>0.0</td>\n",
       "      <td>1.0</td>\n",
       "      <td>0.0</td>\n",
       "      <td>0.0</td>\n",
       "      <td>0.0</td>\n",
       "      <td>0.0</td>\n",
       "      <td>0.0</td>\n",
       "      <td>0.0</td>\n",
       "      <td>0.0</td>\n",
       "      <td>0.0</td>\n",
       "      <td>0.0</td>\n",
       "      <td>0.0</td>\n",
       "      <td>1.0</td>\n",
       "      <td>0.0</td>\n",
       "    </tr>\n",
       "    <tr>\n",
       "      <th>3</th>\n",
       "      <td>0.504605</td>\n",
       "      <td>0.607181</td>\n",
       "      <td>0.0</td>\n",
       "      <td>0.0</td>\n",
       "      <td>0.0</td>\n",
       "      <td>1.0</td>\n",
       "      <td>0.0</td>\n",
       "      <td>0.0</td>\n",
       "      <td>0.0</td>\n",
       "      <td>0.0</td>\n",
       "      <td>0.0</td>\n",
       "      <td>0.0</td>\n",
       "      <td>0.0</td>\n",
       "      <td>0.0</td>\n",
       "      <td>0.0</td>\n",
       "      <td>1.0</td>\n",
       "      <td>0.0</td>\n",
       "      <td>0.0</td>\n",
       "    </tr>\n",
       "    <tr>\n",
       "      <th>4</th>\n",
       "      <td>0.377484</td>\n",
       "      <td>0.418805</td>\n",
       "      <td>0.0</td>\n",
       "      <td>0.0</td>\n",
       "      <td>0.0</td>\n",
       "      <td>0.0</td>\n",
       "      <td>0.0</td>\n",
       "      <td>1.0</td>\n",
       "      <td>0.0</td>\n",
       "      <td>0.0</td>\n",
       "      <td>0.0</td>\n",
       "      <td>0.0</td>\n",
       "      <td>0.0</td>\n",
       "      <td>0.0</td>\n",
       "      <td>0.0</td>\n",
       "      <td>0.0</td>\n",
       "      <td>0.0</td>\n",
       "      <td>1.0</td>\n",
       "    </tr>\n",
       "  </tbody>\n",
       "</table>\n",
       "</div>"
      ],
      "text/plain": [
       "   latitude  longitude  month  day_of_week  Number of convenience stores_0  \\\n",
       "0  0.407659   0.726332    0.0          1.0                             0.0   \n",
       "1  0.400873   0.688376    0.0          1.0                             0.0   \n",
       "2  0.517814   0.615268    0.0          1.0                             0.0   \n",
       "3  0.504605   0.607181    0.0          0.0                             0.0   \n",
       "4  0.377484   0.418805    0.0          0.0                             0.0   \n",
       "\n",
       "   Number of convenience stores_1  Number of convenience stores_2  \\\n",
       "0                             0.0                             0.0   \n",
       "1                             0.0                             0.0   \n",
       "2                             1.0                             0.0   \n",
       "3                             1.0                             0.0   \n",
       "4                             0.0                             0.0   \n",
       "\n",
       "   Number of convenience stores_3  Number of convenience stores_4  \\\n",
       "0                             0.0                             0.0   \n",
       "1                             0.0                             0.0   \n",
       "2                             0.0                             0.0   \n",
       "3                             0.0                             0.0   \n",
       "4                             1.0                             0.0   \n",
       "\n",
       "   Number of convenience stores_5  Number of convenience stores_6  \\\n",
       "0                             0.0                             1.0   \n",
       "1                             1.0                             0.0   \n",
       "2                             0.0                             0.0   \n",
       "3                             0.0                             0.0   \n",
       "4                             0.0                             0.0   \n",
       "\n",
       "   Number of convenience stores_7  Number of convenience stores_8  \\\n",
       "0                             0.0                             0.0   \n",
       "1                             0.0                             0.0   \n",
       "2                             0.0                             0.0   \n",
       "3                             0.0                             0.0   \n",
       "4                             0.0                             0.0   \n",
       "\n",
       "   Number of convenience stores_9  Number of convenience stores_10  \\\n",
       "0                             0.0                              0.0   \n",
       "1                             0.0                              0.0   \n",
       "2                             0.0                              0.0   \n",
       "3                             0.0                              0.0   \n",
       "4                             0.0                              0.0   \n",
       "\n",
       "   Number of bedrooms_1  Number of bedrooms_2  Number of bedrooms_3  \n",
       "0                   0.0                   1.0                   0.0  \n",
       "1                   0.0                   1.0                   0.0  \n",
       "2                   0.0                   1.0                   0.0  \n",
       "3                   1.0                   0.0                   0.0  \n",
       "4                   0.0                   0.0                   1.0  "
      ]
     },
     "execution_count": 61,
     "metadata": {},
     "output_type": "execute_result"
    }
   ],
   "source": [
    "x = pd.DataFrame(x_scaled, columns = x.columns)\n",
    "x.head()"
   ]
  },
  {
   "cell_type": "code",
   "execution_count": 62,
   "id": "b91f72c3",
   "metadata": {},
   "outputs": [],
   "source": [
    "# Importing the train test split function\n",
    "from sklearn.model_selection import train_test_split\n",
    "train_x,test_x,train_y,test_y = train_test_split(x,y, random_state = 56)"
   ]
  },
  {
   "cell_type": "markdown",
   "id": "4c1eb506",
   "metadata": {},
   "source": [
    "# Implementing KNN Regressor"
   ]
  },
  {
   "cell_type": "code",
   "execution_count": 63,
   "id": "387f4f8e",
   "metadata": {},
   "outputs": [],
   "source": [
    "#importing KNN regressor and metric mse\n",
    "\n",
    "from sklearn.neighbors import KNeighborsRegressor as KNN\n",
    "from sklearn.metrics import mean_squared_log_error as mse"
   ]
  },
  {
   "cell_type": "markdown",
   "id": "c06291d1",
   "metadata": {},
   "source": [
    "# Elbow for Regressor"
   ]
  },
  {
   "cell_type": "code",
   "execution_count": 64,
   "id": "d4d76591",
   "metadata": {},
   "outputs": [
    {
     "name": "stdout",
     "output_type": "stream",
     "text": [
      "Test MSE     0.000995\n"
     ]
    }
   ],
   "source": [
    "#creating instance of KNN\n",
    "reg = KNN(n_neighbors = 8)\n",
    "\n",
    "# Fitting the Model\n",
    "reg.fit(train_x, train_y)\n",
    "\n",
    "# Predicting over the Train Set and Calculating MSE\n",
    "test_predict = reg.predict(test_x)\n",
    "k = mse(test_predict, test_y)\n",
    "print(\"Test MSE    \", k)"
   ]
  },
  {
   "cell_type": "code",
   "execution_count": 65,
   "id": "2b3f2ca9",
   "metadata": {},
   "outputs": [],
   "source": [
    "def Elbow(K):\n",
    "  #initiating empty list\n",
    "    test_mse = []\n",
    "  \n",
    "  #training model for every value of K\n",
    "    for i in K:\n",
    "        #Instance of KNN\n",
    "        reg = KNN(n_neighbors = i)\n",
    "        reg.fit(train_x, train_y)\n",
    "        #Appending mse value to empty list claculated using the predictions\n",
    "        tmp = reg.predict(test_x)\n",
    "        tmp = mse(tmp,test_y)\n",
    "        test_mse.append(tmp)\n",
    "    \n",
    "    return test_mse"
   ]
  },
  {
   "cell_type": "code",
   "execution_count": 66,
   "id": "a9dfcde1",
   "metadata": {},
   "outputs": [],
   "source": [
    "# Defining K range\n",
    "k = range(1, 200, 10)"
   ]
  },
  {
   "cell_type": "code",
   "execution_count": 67,
   "id": "4976dbd1",
   "metadata": {},
   "outputs": [],
   "source": [
    "test_calc = Elbow(k)"
   ]
  },
  {
   "cell_type": "code",
   "execution_count": 68,
   "id": "a1d18b1a",
   "metadata": {},
   "outputs": [
    {
     "data": {
      "text/plain": [
       "[0.001234,\n",
       " 0.00096,\n",
       " 0.00103,\n",
       " 0.001013,\n",
       " 0.000977,\n",
       " 0.001031,\n",
       " 0.0010805,\n",
       " 0.001105,\n",
       " 0.001139,\n",
       " 0.00122,\n",
       " 0.001268,\n",
       " 0.001267,\n",
       " 0.001293,\n",
       " 0.0013275,\n",
       " 0.00136,\n",
       " 0.001404,\n",
       " 0.001462,\n",
       " 0.001536,\n",
       " 0.001608,\n",
       " 0.0016775]"
      ]
     },
     "execution_count": 68,
     "metadata": {},
     "output_type": "execute_result"
    }
   ],
   "source": [
    "test_calc"
   ]
  },
  {
   "cell_type": "code",
   "execution_count": 69,
   "id": "bf7c978d",
   "metadata": {},
   "outputs": [
    {
     "data": {
      "text/plain": [
       "Text(0.5, 1.0, 'Elbow Curve for test')"
      ]
     },
     "execution_count": 69,
     "metadata": {},
     "output_type": "execute_result"
    },
    {
     "data": {
      "image/png": "[encoded data removed]",
      "text/plain": [
       "<Figure size 432x288 with 1 Axes>"
      ]
     },
     "metadata": {},
     "output_type": "display_data"
    }
   ],
   "source": [
    "# Plotting the Curves\n",
    "plt.plot(k, test_calc)\n",
    "plt.xlabel('K Neighbors')\n",
    "plt.ylabel('Test Mean Squared Log Error')\n",
    "plt.title('Elbow Curve for test')"
   ]
  },
  {
   "cell_type": "markdown",
   "id": "a4008429",
   "metadata": {},
   "source": [
    "Taking all the values between 1 and 20."
   ]
  },
  {
   "cell_type": "code",
   "execution_count": 70,
   "id": "d908bc44",
   "metadata": {},
   "outputs": [],
   "source": [
    "# Defining K range\n",
    "k = range(1, 25)"
   ]
  },
  {
   "cell_type": "code",
   "execution_count": 71,
   "id": "a6e68b39",
   "metadata": {},
   "outputs": [],
   "source": [
    "test_calc_new = Elbow(k)"
   ]
  },
  {
   "cell_type": "code",
   "execution_count": 72,
   "id": "70e1cf50",
   "metadata": {},
   "outputs": [
    {
     "data": {
      "text/plain": [
       "Text(0.5, 1.0, 'Elbow Curve for test')"
      ]
     },
     "execution_count": 72,
     "metadata": {},
     "output_type": "execute_result"
    },
    {
     "data": {
      "image/png": "[encoded data removed]",
      "text/plain": [
       "<Figure size 432x288 with 1 Axes>"
      ]
     },
     "metadata": {},
     "output_type": "display_data"
    }
   ],
   "source": [
    "# Plotting the Curves\n",
    "plt.plot(k, test_calc_new)\n",
    "plt.xlim(1, 25)\n",
    "plt.xlabel('K Neighbors')\n",
    "plt.ylabel('Test Mean Squared Log Error')\n",
    "plt.title('Elbow Curve for test')"
   ]
  },
  {
   "cell_type": "code",
   "execution_count": 73,
   "id": "98f729b9",
   "metadata": {},
   "outputs": [
    {
     "name": "stdout",
     "output_type": "stream",
     "text": [
      "Train MSE     0.0007877\n",
      "Test MSE      0.000995\n"
     ]
    }
   ],
   "source": [
    "# Creating instance of KNN\n",
    "reg = KNN(n_neighbors = 8)\n",
    "\n",
    "# Fitting the model\n",
    "reg.fit(train_x, train_y)\n",
    "\n",
    "# Predicting over the Train Set and calculating MSE\n",
    "train_predict = reg.predict(train_x)\n",
    "test_predict = reg.predict(test_x)\n",
    "k_train_knn = mse(train_predict, train_y)\n",
    "k_test_knn = mse(test_predict, test_y)\n",
    "print('Train MSE    ', k_train_knn )\n",
    "print('Test MSE     ', k_test_knn)"
   ]
  },
  {
   "cell_type": "markdown",
   "id": "a47f8bd8",
   "metadata": {},
   "source": [
    "# Build a Linear model for the given dataset with regularisation. Attempt to interpret the variable coefficients of the Linear Model."
   ]
  },
  {
   "cell_type": "code",
   "execution_count": 74,
   "id": "a9a1cc03",
   "metadata": {},
   "outputs": [
    {
     "data": {
      "text/html": [
       "<div>\n",
       "<style scoped>\n",
       "    .dataframe tbody tr th:only-of-type {\n",
       "        vertical-align: middle;\n",
       "    }\n",
       "\n",
       "    .dataframe tbody tr th {\n",
       "        vertical-align: top;\n",
       "    }\n",
       "\n",
       "    .dataframe thead th {\n",
       "        text-align: right;\n",
       "    }\n",
       "</style>\n",
       "<table border=\"1\" class=\"dataframe\">\n",
       "  <thead>\n",
       "    <tr style=\"text-align: right;\">\n",
       "      <th></th>\n",
       "      <th>latitude</th>\n",
       "      <th>longitude</th>\n",
       "      <th>month</th>\n",
       "      <th>day_of_week</th>\n",
       "      <th>log_House_Price</th>\n",
       "      <th>Number of convenience stores_0</th>\n",
       "      <th>Number of convenience stores_1</th>\n",
       "      <th>Number of convenience stores_2</th>\n",
       "      <th>Number of convenience stores_3</th>\n",
       "      <th>Number of convenience stores_4</th>\n",
       "      <th>Number of convenience stores_5</th>\n",
       "      <th>Number of convenience stores_6</th>\n",
       "      <th>Number of convenience stores_7</th>\n",
       "      <th>Number of convenience stores_8</th>\n",
       "      <th>Number of convenience stores_9</th>\n",
       "      <th>Number of convenience stores_10</th>\n",
       "      <th>Number of bedrooms_1</th>\n",
       "      <th>Number of bedrooms_2</th>\n",
       "      <th>Number of bedrooms_3</th>\n",
       "    </tr>\n",
       "  </thead>\n",
       "  <tbody>\n",
       "    <tr>\n",
       "      <th>358</th>\n",
       "      <td>24.96571</td>\n",
       "      <td>121.54089</td>\n",
       "      <td>1</td>\n",
       "      <td>4</td>\n",
       "      <td>10.734375</td>\n",
       "      <td>0</td>\n",
       "      <td>0</td>\n",
       "      <td>0</td>\n",
       "      <td>0</td>\n",
       "      <td>0</td>\n",
       "      <td>0</td>\n",
       "      <td>1</td>\n",
       "      <td>0</td>\n",
       "      <td>0</td>\n",
       "      <td>0</td>\n",
       "      <td>0</td>\n",
       "      <td>0</td>\n",
       "      <td>1</td>\n",
       "      <td>0</td>\n",
       "    </tr>\n",
       "    <tr>\n",
       "      <th>350</th>\n",
       "      <td>24.96515</td>\n",
       "      <td>121.53737</td>\n",
       "      <td>1</td>\n",
       "      <td>4</td>\n",
       "      <td>10.789062</td>\n",
       "      <td>0</td>\n",
       "      <td>0</td>\n",
       "      <td>0</td>\n",
       "      <td>0</td>\n",
       "      <td>0</td>\n",
       "      <td>1</td>\n",
       "      <td>0</td>\n",
       "      <td>0</td>\n",
       "      <td>0</td>\n",
       "      <td>0</td>\n",
       "      <td>0</td>\n",
       "      <td>0</td>\n",
       "      <td>1</td>\n",
       "      <td>0</td>\n",
       "    </tr>\n",
       "    <tr>\n",
       "      <th>373</th>\n",
       "      <td>24.97480</td>\n",
       "      <td>121.53059</td>\n",
       "      <td>1</td>\n",
       "      <td>4</td>\n",
       "      <td>11.023438</td>\n",
       "      <td>0</td>\n",
       "      <td>1</td>\n",
       "      <td>0</td>\n",
       "      <td>0</td>\n",
       "      <td>0</td>\n",
       "      <td>0</td>\n",
       "      <td>0</td>\n",
       "      <td>0</td>\n",
       "      <td>0</td>\n",
       "      <td>0</td>\n",
       "      <td>0</td>\n",
       "      <td>0</td>\n",
       "      <td>1</td>\n",
       "      <td>0</td>\n",
       "    </tr>\n",
       "    <tr>\n",
       "      <th>399</th>\n",
       "      <td>24.97371</td>\n",
       "      <td>121.52984</td>\n",
       "      <td>1</td>\n",
       "      <td>3</td>\n",
       "      <td>9.812500</td>\n",
       "      <td>0</td>\n",
       "      <td>1</td>\n",
       "      <td>0</td>\n",
       "      <td>0</td>\n",
       "      <td>0</td>\n",
       "      <td>0</td>\n",
       "      <td>0</td>\n",
       "      <td>0</td>\n",
       "      <td>0</td>\n",
       "      <td>0</td>\n",
       "      <td>0</td>\n",
       "      <td>1</td>\n",
       "      <td>0</td>\n",
       "      <td>0</td>\n",
       "    </tr>\n",
       "    <tr>\n",
       "      <th>369</th>\n",
       "      <td>24.96322</td>\n",
       "      <td>121.51237</td>\n",
       "      <td>1</td>\n",
       "      <td>3</td>\n",
       "      <td>10.335938</td>\n",
       "      <td>0</td>\n",
       "      <td>0</td>\n",
       "      <td>0</td>\n",
       "      <td>1</td>\n",
       "      <td>0</td>\n",
       "      <td>0</td>\n",
       "      <td>0</td>\n",
       "      <td>0</td>\n",
       "      <td>0</td>\n",
       "      <td>0</td>\n",
       "      <td>0</td>\n",
       "      <td>0</td>\n",
       "      <td>0</td>\n",
       "      <td>1</td>\n",
       "    </tr>\n",
       "  </tbody>\n",
       "</table>\n",
       "</div>"
      ],
      "text/plain": [
       "     latitude  longitude  month  day_of_week  log_House_Price  \\\n",
       "358  24.96571  121.54089      1            4        10.734375   \n",
       "350  24.96515  121.53737      1            4        10.789062   \n",
       "373  24.97480  121.53059      1            4        11.023438   \n",
       "399  24.97371  121.52984      1            3         9.812500   \n",
       "369  24.96322  121.51237      1            3        10.335938   \n",
       "\n",
       "     Number of convenience stores_0  Number of convenience stores_1  \\\n",
       "358                               0                               0   \n",
       "350                               0                               0   \n",
       "373                               0                               1   \n",
       "399                               0                               1   \n",
       "369                               0                               0   \n",
       "\n",
       "     Number of convenience stores_2  Number of convenience stores_3  \\\n",
       "358                               0                               0   \n",
       "350                               0                               0   \n",
       "373                               0                               0   \n",
       "399                               0                               0   \n",
       "369                               0                               1   \n",
       "\n",
       "     Number of convenience stores_4  Number of convenience stores_5  \\\n",
       "358                               0                               0   \n",
       "350                               0                               1   \n",
       "373                               0                               0   \n",
       "399                               0                               0   \n",
       "369                               0                               0   \n",
       "\n",
       "     Number of convenience stores_6  Number of convenience stores_7  \\\n",
       "358                               1                               0   \n",
       "350                               0                               0   \n",
       "373                               0                               0   \n",
       "399                               0                               0   \n",
       "369                               0                               0   \n",
       "\n",
       "     Number of convenience stores_8  Number of convenience stores_9  \\\n",
       "358                               0                               0   \n",
       "350                               0                               0   \n",
       "373                               0                               0   \n",
       "399                               0                               0   \n",
       "369                               0                               0   \n",
       "\n",
       "     Number of convenience stores_10  Number of bedrooms_1  \\\n",
       "358                                0                     0   \n",
       "350                                0                     0   \n",
       "373                                0                     0   \n",
       "399                                0                     1   \n",
       "369                                0                     0   \n",
       "\n",
       "     Number of bedrooms_2  Number of bedrooms_3  \n",
       "358                     1                     0  \n",
       "350                     1                     0  \n",
       "373                     1                     0  \n",
       "399                     0                     0  \n",
       "369                     0                     1  "
      ]
     },
     "execution_count": 74,
     "metadata": {},
     "output_type": "execute_result"
    }
   ],
   "source": [
    "# As the dataset is already loaded and cleaned, we don't need to do preprocessing here.\n",
    "data.head()"
   ]
  },
  {
   "cell_type": "markdown",
   "id": "81944f43",
   "metadata": {},
   "source": [
    "# Segregating variables: Independent and Dependent Variables"
   ]
  },
  {
   "cell_type": "code",
   "execution_count": 75,
   "id": "2bc168c0",
   "metadata": {},
   "outputs": [
    {
     "data": {
      "text/plain": [
       "((413, 18), (413,))"
      ]
     },
     "execution_count": 75,
     "metadata": {},
     "output_type": "execute_result"
    }
   ],
   "source": [
    "# seperating independent and dependent variables\n",
    "\n",
    "# Features\n",
    "x = data.drop(['log_House_Price'], axis=1)\n",
    "\n",
    "# Target\n",
    "y = data['log_House_Price']\n",
    "\n",
    "x.shape, y.shape"
   ]
  },
  {
   "cell_type": "markdown",
   "id": "fb308610",
   "metadata": {},
   "source": [
    "# Splitting the data into train set and the test set"
   ]
  },
  {
   "cell_type": "code",
   "execution_count": 76,
   "id": "f25f02a8",
   "metadata": {},
   "outputs": [],
   "source": [
    "# Importing the train test split function\n",
    "from sklearn.model_selection import train_test_split\n",
    "train_x,test_x,train_y,test_y = train_test_split(x,y, random_state = 56)"
   ]
  },
  {
   "cell_type": "markdown",
   "id": "ee32176b",
   "metadata": {},
   "source": [
    "# Implementing Linear Regression"
   ]
  },
  {
   "cell_type": "code",
   "execution_count": 77,
   "id": "76252673",
   "metadata": {},
   "outputs": [],
   "source": [
    "from sklearn.linear_model import LinearRegression"
   ]
  },
  {
   "cell_type": "code",
   "execution_count": 78,
   "id": "a2346c01",
   "metadata": {},
   "outputs": [],
   "source": [
    "train_error_reg = []\n",
    "test_error_reg = []\n",
    "\n",
    "lr = LinearRegression(normalize=True)\n",
    "\n",
    "train_x_array = np.array(train_x)\n",
    "train_y_array = np.array(train_y)\n",
    "test_x_array = np.array(test_x)\n",
    "test_y_array = np.array(test_y)\n",
    "\n",
    "for i in range(1, 19):\n",
    "    lr.fit(train_x_array[:, 0:i], train_y)\n",
    "    train_y_pred = lr.predict(train_x_array[:, 0:i])\n",
    "    test_y_pred = lr.predict(test_x_array[:, 0:i])\n",
    "    \n",
    "    mrss_train = sum((train_y_pred-train_y)**2)/train_x_array[:, 0:i].shape[0]\n",
    "    mrss_test = sum((test_y_pred-test_y)**2)/test_x_array[:, 0:i].shape[0]\n",
    "    \n",
    "    train_error_reg.append(mrss_train)\n",
    "    test_error_reg.append(mrss_test)"
   ]
  },
  {
   "cell_type": "code",
   "execution_count": 79,
   "id": "20185064",
   "metadata": {},
   "outputs": [],
   "source": [
    "# Initializing the dataframe to store error\n",
    "\n",
    "col = ['train_error_reg','test_error_reg']\n",
    "ind = ['Number_of_variable_%d'%i for i in range(1, train_x.shape[1]+1)]\n",
    "matrix_reg = pd.DataFrame(index=ind, columns=col)"
   ]
  },
  {
   "cell_type": "code",
   "execution_count": 80,
   "id": "54690b50",
   "metadata": {},
   "outputs": [
    {
     "data": {
      "text/html": [
       "<div>\n",
       "<style scoped>\n",
       "    .dataframe tbody tr th:only-of-type {\n",
       "        vertical-align: middle;\n",
       "    }\n",
       "\n",
       "    .dataframe tbody tr th {\n",
       "        vertical-align: top;\n",
       "    }\n",
       "\n",
       "    .dataframe thead th {\n",
       "        text-align: right;\n",
       "    }\n",
       "</style>\n",
       "<table border=\"1\" class=\"dataframe\">\n",
       "  <thead>\n",
       "    <tr style=\"text-align: right;\">\n",
       "      <th></th>\n",
       "      <th>train_error_reg</th>\n",
       "      <th>test_error_reg</th>\n",
       "    </tr>\n",
       "  </thead>\n",
       "  <tbody>\n",
       "    <tr>\n",
       "      <th>Number_of_variable_1</th>\n",
       "      <td>0.278727</td>\n",
       "      <td>0.246358</td>\n",
       "    </tr>\n",
       "    <tr>\n",
       "      <th>Number_of_variable_2</th>\n",
       "      <td>0.259593</td>\n",
       "      <td>0.222837</td>\n",
       "    </tr>\n",
       "    <tr>\n",
       "      <th>Number_of_variable_3</th>\n",
       "      <td>0.259593</td>\n",
       "      <td>0.222837</td>\n",
       "    </tr>\n",
       "    <tr>\n",
       "      <th>Number_of_variable_4</th>\n",
       "      <td>0.258568</td>\n",
       "      <td>0.222610</td>\n",
       "    </tr>\n",
       "    <tr>\n",
       "      <th>Number_of_variable_5</th>\n",
       "      <td>0.255566</td>\n",
       "      <td>0.218994</td>\n",
       "    </tr>\n",
       "    <tr>\n",
       "      <th>Number_of_variable_6</th>\n",
       "      <td>0.254973</td>\n",
       "      <td>0.219137</td>\n",
       "    </tr>\n",
       "    <tr>\n",
       "      <th>Number_of_variable_7</th>\n",
       "      <td>0.250966</td>\n",
       "      <td>0.221390</td>\n",
       "    </tr>\n",
       "    <tr>\n",
       "      <th>Number_of_variable_8</th>\n",
       "      <td>0.244927</td>\n",
       "      <td>0.227974</td>\n",
       "    </tr>\n",
       "    <tr>\n",
       "      <th>Number_of_variable_9</th>\n",
       "      <td>0.239462</td>\n",
       "      <td>0.220069</td>\n",
       "    </tr>\n",
       "    <tr>\n",
       "      <th>Number_of_variable_10</th>\n",
       "      <td>0.238742</td>\n",
       "      <td>0.219365</td>\n",
       "    </tr>\n",
       "    <tr>\n",
       "      <th>Number_of_variable_11</th>\n",
       "      <td>0.238742</td>\n",
       "      <td>0.219365</td>\n",
       "    </tr>\n",
       "    <tr>\n",
       "      <th>Number_of_variable_12</th>\n",
       "      <td>0.238737</td>\n",
       "      <td>0.219535</td>\n",
       "    </tr>\n",
       "    <tr>\n",
       "      <th>Number_of_variable_13</th>\n",
       "      <td>0.238461</td>\n",
       "      <td>0.218331</td>\n",
       "    </tr>\n",
       "    <tr>\n",
       "      <th>Number_of_variable_14</th>\n",
       "      <td>0.238450</td>\n",
       "      <td>0.218314</td>\n",
       "    </tr>\n",
       "    <tr>\n",
       "      <th>Number_of_variable_15</th>\n",
       "      <td>0.238450</td>\n",
       "      <td>0.218314</td>\n",
       "    </tr>\n",
       "    <tr>\n",
       "      <th>Number_of_variable_16</th>\n",
       "      <td>0.080264</td>\n",
       "      <td>0.093467</td>\n",
       "    </tr>\n",
       "    <tr>\n",
       "      <th>Number_of_variable_17</th>\n",
       "      <td>0.082622</td>\n",
       "      <td>0.098405</td>\n",
       "    </tr>\n",
       "    <tr>\n",
       "      <th>Number_of_variable_18</th>\n",
       "      <td>0.080264</td>\n",
       "      <td>0.093466</td>\n",
       "    </tr>\n",
       "  </tbody>\n",
       "</table>\n",
       "</div>"
      ],
      "text/plain": [
       "                       train_error_reg  test_error_reg\n",
       "Number_of_variable_1          0.278727        0.246358\n",
       "Number_of_variable_2          0.259593        0.222837\n",
       "Number_of_variable_3          0.259593        0.222837\n",
       "Number_of_variable_4          0.258568        0.222610\n",
       "Number_of_variable_5          0.255566        0.218994\n",
       "Number_of_variable_6          0.254973        0.219137\n",
       "Number_of_variable_7          0.250966        0.221390\n",
       "Number_of_variable_8          0.244927        0.227974\n",
       "Number_of_variable_9          0.239462        0.220069\n",
       "Number_of_variable_10         0.238742        0.219365\n",
       "Number_of_variable_11         0.238742        0.219365\n",
       "Number_of_variable_12         0.238737        0.219535\n",
       "Number_of_variable_13         0.238461        0.218331\n",
       "Number_of_variable_14         0.238450        0.218314\n",
       "Number_of_variable_15         0.238450        0.218314\n",
       "Number_of_variable_16         0.080264        0.093467\n",
       "Number_of_variable_17         0.082622        0.098405\n",
       "Number_of_variable_18         0.080264        0.093466"
      ]
     },
     "execution_count": 80,
     "metadata": {},
     "output_type": "execute_result"
    }
   ],
   "source": [
    "matrix_reg['train_error_reg'] = train_error_reg\n",
    "matrix_reg['test_error_reg'] = test_error_reg\n",
    "matrix_reg"
   ]
  },
  {
   "cell_type": "code",
   "execution_count": 81,
   "id": "24045c6d",
   "metadata": {},
   "outputs": [
    {
     "data": {
      "image/png": "[encoded data removed]",
      "text/plain": [
       "<Figure size 432x288 with 1 Axes>"
      ]
     },
     "metadata": {},
     "output_type": "display_data"
    }
   ],
   "source": [
    "# Plotting the Features VS Error curve\n",
    "\n",
    "matrix_reg[['train_error_reg','test_error_reg']].plot()\n",
    "plt.xlabel('Features')\n",
    "plt.ylabel('Error')\n",
    "plt.legend(['Train', 'Test'])\n",
    "plt.show()"
   ]
  },
  {
   "cell_type": "markdown",
   "id": "1a1d1ab1",
   "metadata": {},
   "source": [
    "# Parameters of Linear Regression"
   ]
  },
  {
   "cell_type": "code",
   "execution_count": 82,
   "id": "87c2138f",
   "metadata": {},
   "outputs": [
    {
     "data": {
      "text/plain": [
       "array([ 1.23849788e+01,  6.43171532e+00,  9.99200722e-16,  4.52015452e-02,\n",
       "       -2.02206565e-01, -9.28551144e-02, -1.97389073e-01, -1.59043342e-01,\n",
       "       -8.30496943e-02,  7.95938327e-02,  1.76591081e-01,  1.99858969e-01,\n",
       "        9.86466632e-02,  2.25125248e-01,  1.40553390e-01, -5.45067168e-01,\n",
       "        2.89242562e-01,  2.87706099e-01])"
      ]
     },
     "execution_count": 82,
     "metadata": {},
     "output_type": "execute_result"
    }
   ],
   "source": [
    "lr.coef_"
   ]
  },
  {
   "cell_type": "markdown",
   "id": "873e3c93",
   "metadata": {},
   "source": [
    "# Plotting the coefficients"
   ]
  },
  {
   "cell_type": "code",
   "execution_count": 83,
   "id": "bd3867b4",
   "metadata": {},
   "outputs": [
    {
     "data": {
      "image/png": "[encoded data removed]",
      "text/plain": [
       "<Figure size 960x720 with 1 Axes>"
      ]
     },
     "metadata": {},
     "output_type": "display_data"
    }
   ],
   "source": [
    "plt.figure(figsize=(8, 6), dpi=120, facecolor='w', edgecolor='b')\n",
    "x = range(len(train_x.columns))\n",
    "y = lr.coef_\n",
    "plt.bar( x, y )\n",
    "plt.xlabel(\"Variables\")\n",
    "plt.ylabel('Coefficients')\n",
    "plt.title('Normalized Coefficient plot')\n",
    "plt.show()"
   ]
  },
  {
   "cell_type": "markdown",
   "id": "33e047e3",
   "metadata": {},
   "source": [
    "# Creating new subsets of data"
   ]
  },
  {
   "cell_type": "code",
   "execution_count": 84,
   "id": "382c1fbe",
   "metadata": {},
   "outputs": [
    {
     "data": {
      "text/plain": [
       "((413, 18), (413,))"
      ]
     },
     "execution_count": 84,
     "metadata": {},
     "output_type": "execute_result"
    }
   ],
   "source": [
    "# Seperating independent and dependent variables\n",
    "x = data.drop(['log_House_Price'], axis=1)\n",
    "y = data['log_House_Price']\n",
    "x.shape, y.shape"
   ]
  },
  {
   "cell_type": "markdown",
   "id": "03be01d8",
   "metadata": {},
   "source": [
    "# Arranging coefficients with features"
   ]
  },
  {
   "cell_type": "code",
   "execution_count": 85,
   "id": "088260b0",
   "metadata": {},
   "outputs": [
    {
     "data": {
      "text/html": [
       "<div>\n",
       "<style scoped>\n",
       "    .dataframe tbody tr th:only-of-type {\n",
       "        vertical-align: middle;\n",
       "    }\n",
       "\n",
       "    .dataframe tbody tr th {\n",
       "        vertical-align: top;\n",
       "    }\n",
       "\n",
       "    .dataframe thead th {\n",
       "        text-align: right;\n",
       "    }\n",
       "</style>\n",
       "<table border=\"1\" class=\"dataframe\">\n",
       "  <thead>\n",
       "    <tr style=\"text-align: right;\">\n",
       "      <th></th>\n",
       "      <th>Variable</th>\n",
       "      <th>coefficient</th>\n",
       "    </tr>\n",
       "  </thead>\n",
       "  <tbody>\n",
       "    <tr>\n",
       "      <th>0</th>\n",
       "      <td>latitude</td>\n",
       "      <td>1.238498e+01</td>\n",
       "    </tr>\n",
       "    <tr>\n",
       "      <th>1</th>\n",
       "      <td>longitude</td>\n",
       "      <td>6.431715e+00</td>\n",
       "    </tr>\n",
       "    <tr>\n",
       "      <th>2</th>\n",
       "      <td>month</td>\n",
       "      <td>9.992007e-16</td>\n",
       "    </tr>\n",
       "    <tr>\n",
       "      <th>3</th>\n",
       "      <td>day_of_week</td>\n",
       "      <td>4.520155e-02</td>\n",
       "    </tr>\n",
       "    <tr>\n",
       "      <th>4</th>\n",
       "      <td>Number of convenience stores_0</td>\n",
       "      <td>-2.022066e-01</td>\n",
       "    </tr>\n",
       "  </tbody>\n",
       "</table>\n",
       "</div>"
      ],
      "text/plain": [
       "                         Variable   coefficient\n",
       "0                        latitude  1.238498e+01\n",
       "1                       longitude  6.431715e+00\n",
       "2                           month  9.992007e-16\n",
       "3                     day_of_week  4.520155e-02\n",
       "4  Number of convenience stores_0 -2.022066e-01"
      ]
     },
     "execution_count": 85,
     "metadata": {},
     "output_type": "execute_result"
    }
   ],
   "source": [
    "Coefficients = pd.DataFrame({\n",
    "    'Variable'    : x.columns,\n",
    "    'coefficient' : lr.coef_\n",
    "})\n",
    "Coefficients.head()"
   ]
  },
  {
   "cell_type": "markdown",
   "id": "2dde093a",
   "metadata": {},
   "source": [
    "# Choosing variables with sigificance greater than 0.5 ( Filtering Significant Features)"
   ]
  },
  {
   "cell_type": "code",
   "execution_count": 86,
   "id": "18583661",
   "metadata": {},
   "outputs": [],
   "source": [
    "sig_var = Coefficients[Coefficients.coefficient > 0.5]"
   ]
  },
  {
   "cell_type": "markdown",
   "id": "bc792901",
   "metadata": {},
   "source": [
    "# Extracting the significant subset do independent Variables"
   ]
  },
  {
   "cell_type": "code",
   "execution_count": 87,
   "id": "52ef3441",
   "metadata": {},
   "outputs": [
    {
     "data": {
      "text/html": [
       "<div>\n",
       "<style scoped>\n",
       "    .dataframe tbody tr th:only-of-type {\n",
       "        vertical-align: middle;\n",
       "    }\n",
       "\n",
       "    .dataframe tbody tr th {\n",
       "        vertical-align: top;\n",
       "    }\n",
       "\n",
       "    .dataframe thead th {\n",
       "        text-align: right;\n",
       "    }\n",
       "</style>\n",
       "<table border=\"1\" class=\"dataframe\">\n",
       "  <thead>\n",
       "    <tr style=\"text-align: right;\">\n",
       "      <th></th>\n",
       "      <th>latitude</th>\n",
       "      <th>longitude</th>\n",
       "    </tr>\n",
       "  </thead>\n",
       "  <tbody>\n",
       "    <tr>\n",
       "      <th>358</th>\n",
       "      <td>24.96571</td>\n",
       "      <td>121.54089</td>\n",
       "    </tr>\n",
       "    <tr>\n",
       "      <th>350</th>\n",
       "      <td>24.96515</td>\n",
       "      <td>121.53737</td>\n",
       "    </tr>\n",
       "    <tr>\n",
       "      <th>373</th>\n",
       "      <td>24.97480</td>\n",
       "      <td>121.53059</td>\n",
       "    </tr>\n",
       "    <tr>\n",
       "      <th>399</th>\n",
       "      <td>24.97371</td>\n",
       "      <td>121.52984</td>\n",
       "    </tr>\n",
       "    <tr>\n",
       "      <th>369</th>\n",
       "      <td>24.96322</td>\n",
       "      <td>121.51237</td>\n",
       "    </tr>\n",
       "  </tbody>\n",
       "</table>\n",
       "</div>"
      ],
      "text/plain": [
       "     latitude  longitude\n",
       "358  24.96571  121.54089\n",
       "350  24.96515  121.53737\n",
       "373  24.97480  121.53059\n",
       "399  24.97371  121.52984\n",
       "369  24.96322  121.51237"
      ]
     },
     "execution_count": 87,
     "metadata": {},
     "output_type": "execute_result"
    }
   ],
   "source": [
    "subset = data[sig_var['Variable'].values]\n",
    "subset.head()"
   ]
  },
  {
   "cell_type": "code",
   "execution_count": 88,
   "id": "61adb7ed",
   "metadata": {},
   "outputs": [],
   "source": [
    "# Importing the train test split function\n",
    "from sklearn.model_selection import train_test_split\n",
    "train_x,test_x,train_y,test_y = train_test_split(subset, y , random_state = 56)"
   ]
  },
  {
   "cell_type": "code",
   "execution_count": 89,
   "id": "983052e5",
   "metadata": {},
   "outputs": [],
   "source": [
    "# Importing Linear Regression and metric mean square error\n",
    "from sklearn.linear_model import LinearRegression as LR\n",
    "from sklearn.metrics import mean_absolute_error as mae"
   ]
  },
  {
   "cell_type": "code",
   "execution_count": 90,
   "id": "8b75eade",
   "metadata": {},
   "outputs": [
    {
     "data": {
      "text/plain": [
       "LinearRegression(normalize=True)"
      ]
     },
     "execution_count": 90,
     "metadata": {},
     "output_type": "execute_result"
    }
   ],
   "source": [
    "# Creating instance of Linear Regresssion with Normalised Data\n",
    "lr = LR(normalize = True)\n",
    "\n",
    "# Fitting the model\n",
    "lr.fit(train_x, train_y)"
   ]
  },
  {
   "cell_type": "code",
   "execution_count": 91,
   "id": "3b0e0759",
   "metadata": {},
   "outputs": [
    {
     "name": "stdout",
     "output_type": "stream",
     "text": [
      "Train Error :  0.25959324260823263\n",
      "Test Error  :  0.2228372760296115\n"
     ]
    }
   ],
   "source": [
    "train_y_pred = lr.predict(train_x)\n",
    "test_y_pred = lr.predict(test_x)\n",
    "    \n",
    "mrss_train_regression = sum((train_y_pred-train_y)**2)/train_x.shape[0]\n",
    "mrss_test_regression = sum((test_y_pred-test_y)**2)/test_x.shape[0]\n",
    "\n",
    "print('Train Error : ', mrss_train_regression)\n",
    "print('Test Error  : ', mrss_test_regression)"
   ]
  },
  {
   "cell_type": "markdown",
   "id": "dd6a409c",
   "metadata": {},
   "source": [
    "# Plotting the coefficients"
   ]
  },
  {
   "cell_type": "code",
   "execution_count": 92,
   "id": "cdb05ae7",
   "metadata": {},
   "outputs": [
    {
     "data": {
      "image/png": "[encoded data removed]",
      "text/plain": [
       "<Figure size 960x720 with 1 Axes>"
      ]
     },
     "metadata": {},
     "output_type": "display_data"
    }
   ],
   "source": [
    "plt.figure(figsize=(8, 6), dpi=120, facecolor='w', edgecolor='b')\n",
    "columns = range(len(train_x.columns))\n",
    "coef = lr.coef_\n",
    "plt.bar(columns, coef)\n",
    "plt.xlabel(\"Variables\")\n",
    "plt.ylabel('Coefficients')\n",
    "plt.title('Normalized Coefficient plot')\n",
    "plt.show()"
   ]
  },
  {
   "cell_type": "markdown",
   "id": "dbb0666b",
   "metadata": {},
   "source": [
    "Interpretation from the linear variable Coefficients -\n",
    "\n",
    "• The above coefficient is normalized which can be used for making final inferences out of it.\n",
    "\n",
    "• From the above coefficient plot, we can observe that most of the variables aren't contributing in the linear model, only 2 variables are mostly contributing in the linear regression model."
   ]
  },
  {
   "cell_type": "markdown",
   "id": "4aa86b0e",
   "metadata": {},
   "source": [
    "# Regularisation:"
   ]
  },
  {
   "cell_type": "markdown",
   "id": "c955bc21",
   "metadata": {},
   "source": [
    "# Ridge"
   ]
  },
  {
   "cell_type": "code",
   "execution_count": 93,
   "id": "c9fdeeee",
   "metadata": {},
   "outputs": [],
   "source": [
    "# Importing ridge from sklearn's linear_model module\n",
    "from sklearn.linear_model import Ridge"
   ]
  },
  {
   "cell_type": "code",
   "execution_count": 94,
   "id": "306a7c46",
   "metadata": {},
   "outputs": [],
   "source": [
    "# Setting the different values of alpha to be tested\n",
    "alpha_ridge = [0, 1e-8, 1e-4, 1e-3,1e-2, 1, 5, 10, 20, 25]"
   ]
  },
  {
   "cell_type": "code",
   "execution_count": 95,
   "id": "7b169dca",
   "metadata": {},
   "outputs": [],
   "source": [
    "train_error_ridge = []\n",
    "test_error_ridge = []\n",
    "\n",
    "for i in alpha_ridge:\n",
    "    \n",
    "    R = Ridge(alpha = i, normalize=True)\n",
    "    R.fit(train_x, train_y)\n",
    "    train_y_pred = R.predict(train_x)\n",
    "    test_y_pred = R.predict(test_x)\n",
    "    \n",
    "    mrss_train = sum((train_y_pred-train_y)**2)/train_x.shape[0]\n",
    "    mrss_test = sum((test_y_pred-test_y)**2)/test_x.shape[0]\n",
    "    \n",
    "    train_error_ridge.append(mrss_train)\n",
    "    test_error_ridge.append(mrss_test)"
   ]
  },
  {
   "cell_type": "code",
   "execution_count": 96,
   "id": "15b701f4",
   "metadata": {},
   "outputs": [
    {
     "data": {
      "text/plain": [
       "array([0.74225349, 0.544112  ])"
      ]
     },
     "execution_count": 96,
     "metadata": {},
     "output_type": "execute_result"
    }
   ],
   "source": [
    "R.coef_"
   ]
  },
  {
   "cell_type": "code",
   "execution_count": 97,
   "id": "7d4fafea",
   "metadata": {},
   "outputs": [],
   "source": [
    "# Initializing the dataframe to store error\n",
    "\n",
    "col = ['train_error_ridge','test_error_ridge']\n",
    "ind = ['alpha_%.2g'%alpha_ridge[i] for i in range(0,10)]\n",
    "matrix_ridge = pd.DataFrame(index=ind, columns=col)"
   ]
  },
  {
   "cell_type": "code",
   "execution_count": 98,
   "id": "a67270c7",
   "metadata": {},
   "outputs": [
    {
     "data": {
      "text/html": [
       "<div>\n",
       "<style scoped>\n",
       "    .dataframe tbody tr th:only-of-type {\n",
       "        vertical-align: middle;\n",
       "    }\n",
       "\n",
       "    .dataframe tbody tr th {\n",
       "        vertical-align: top;\n",
       "    }\n",
       "\n",
       "    .dataframe thead th {\n",
       "        text-align: right;\n",
       "    }\n",
       "</style>\n",
       "<table border=\"1\" class=\"dataframe\">\n",
       "  <thead>\n",
       "    <tr style=\"text-align: right;\">\n",
       "      <th></th>\n",
       "      <th>train_error_ridge</th>\n",
       "      <th>test_error_ridge</th>\n",
       "    </tr>\n",
       "  </thead>\n",
       "  <tbody>\n",
       "    <tr>\n",
       "      <th>alpha_0</th>\n",
       "      <td>0.259593</td>\n",
       "      <td>0.222837</td>\n",
       "    </tr>\n",
       "    <tr>\n",
       "      <th>alpha_1e-08</th>\n",
       "      <td>0.259593</td>\n",
       "      <td>0.222837</td>\n",
       "    </tr>\n",
       "    <tr>\n",
       "      <th>alpha_0.0001</th>\n",
       "      <td>0.259593</td>\n",
       "      <td>0.222839</td>\n",
       "    </tr>\n",
       "    <tr>\n",
       "      <th>alpha_0.001</th>\n",
       "      <td>0.259593</td>\n",
       "      <td>0.222854</td>\n",
       "    </tr>\n",
       "    <tr>\n",
       "      <th>alpha_0.01</th>\n",
       "      <td>0.259597</td>\n",
       "      <td>0.223006</td>\n",
       "    </tr>\n",
       "    <tr>\n",
       "      <th>alpha_1</th>\n",
       "      <td>0.272915</td>\n",
       "      <td>0.244410</td>\n",
       "    </tr>\n",
       "    <tr>\n",
       "      <th>alpha_5</th>\n",
       "      <td>0.306715</td>\n",
       "      <td>0.282695</td>\n",
       "    </tr>\n",
       "    <tr>\n",
       "      <th>alpha_10</th>\n",
       "      <td>0.319112</td>\n",
       "      <td>0.295816</td>\n",
       "    </tr>\n",
       "    <tr>\n",
       "      <th>alpha_20</th>\n",
       "      <td>0.327233</td>\n",
       "      <td>0.304277</td>\n",
       "    </tr>\n",
       "    <tr>\n",
       "      <th>alpha_25</th>\n",
       "      <td>0.329056</td>\n",
       "      <td>0.306164</td>\n",
       "    </tr>\n",
       "  </tbody>\n",
       "</table>\n",
       "</div>"
      ],
      "text/plain": [
       "              train_error_ridge  test_error_ridge\n",
       "alpha_0                0.259593          0.222837\n",
       "alpha_1e-08            0.259593          0.222837\n",
       "alpha_0.0001           0.259593          0.222839\n",
       "alpha_0.001            0.259593          0.222854\n",
       "alpha_0.01             0.259597          0.223006\n",
       "alpha_1                0.272915          0.244410\n",
       "alpha_5                0.306715          0.282695\n",
       "alpha_10               0.319112          0.295816\n",
       "alpha_20               0.327233          0.304277\n",
       "alpha_25               0.329056          0.306164"
      ]
     },
     "execution_count": 98,
     "metadata": {},
     "output_type": "execute_result"
    }
   ],
   "source": [
    "matrix_ridge['train_error_ridge'] = train_error_ridge\n",
    "matrix_ridge['test_error_ridge'] = test_error_ridge\n",
    "matrix_ridge"
   ]
  },
  {
   "cell_type": "code",
   "execution_count": 99,
   "id": "17041735",
   "metadata": {},
   "outputs": [
    {
     "data": {
      "image/png": "[encoded data removed]",
      "text/plain": [
       "<Figure size 432x288 with 1 Axes>"
      ]
     },
     "metadata": {},
     "output_type": "display_data"
    }
   ],
   "source": [
    "# Plotting the Alpha Values VS Error graph\n",
    "\n",
    "matrix_ridge[['train_error_ridge','test_error_ridge']].plot()\n",
    "plt.xlabel('Alpha Values')\n",
    "plt.ylabel('Error')\n",
    "plt.legend(['Train', 'Test'])\n",
    "plt.show()"
   ]
  },
  {
   "cell_type": "markdown",
   "id": "c3d42d95",
   "metadata": {},
   "source": [
    "From the above plot, we can observe that the least error we can get is at alpha_0.01."
   ]
  },
  {
   "cell_type": "code",
   "execution_count": 100,
   "id": "4f83a38c",
   "metadata": {},
   "outputs": [
    {
     "data": {
      "text/plain": [
       "0.25959324260823274"
      ]
     },
     "execution_count": 100,
     "metadata": {},
     "output_type": "execute_result"
    }
   ],
   "source": [
    "matrix_ridge.min()[0]"
   ]
  },
  {
   "cell_type": "markdown",
   "id": "a3071db8",
   "metadata": {},
   "source": [
    "# Interpreting the coefficients"
   ]
  },
  {
   "cell_type": "code",
   "execution_count": 101,
   "id": "f7ebf1e3",
   "metadata": {
    "scrolled": false
   },
   "outputs": [
    {
     "data": {
      "image/png": "[encoded data removed]",
      "text/plain": [
       "<Figure size 960x720 with 1 Axes>"
      ]
     },
     "metadata": {},
     "output_type": "display_data"
    }
   ],
   "source": [
    "plt.figure(figsize=(8, 6), dpi=120, facecolor='w', edgecolor='b')\n",
    "x = range(len(train_x.columns))\n",
    "y = R.coef_\n",
    "plt.bar( x, y )\n",
    "plt.xlabel( \"Variables\")\n",
    "plt.ylabel('Coefficients')\n",
    "plt.title('Coefficient plot')\n",
    "plt.show()"
   ]
  },
  {
   "cell_type": "markdown",
   "id": "6ba89554",
   "metadata": {},
   "source": [
    "Interpretation from the linear variable Coefficients -\n",
    "\n",
    "• The above coefficient is normalized which can be used for making final inferences out of it.\n",
    "\n",
    "• From the above coefficient plot, we can interpret that 2 of the variables are mostly contributing in the linear model while rest a=do not have any major impact on the ridge regression model."
   ]
  },
  {
   "cell_type": "markdown",
   "id": "39850565",
   "metadata": {},
   "source": [
    "# Lasso"
   ]
  },
  {
   "cell_type": "code",
   "execution_count": 102,
   "id": "5e0b0baa",
   "metadata": {},
   "outputs": [],
   "source": [
    "# Importing Lasso model from sklearn's linear_model module\n",
    "from sklearn.linear_model import Lasso"
   ]
  },
  {
   "cell_type": "code",
   "execution_count": 103,
   "id": "30b52481",
   "metadata": {},
   "outputs": [],
   "source": [
    "# Definining the alpha values to test\n",
    "alpha_lasso = [0, 1e-10, 1e-8, 1e-5,1e-4, 1e-3,1e-2, 1, 5, 10]"
   ]
  },
  {
   "cell_type": "code",
   "execution_count": 104,
   "id": "894a190a",
   "metadata": {},
   "outputs": [],
   "source": [
    "train_error_lasso = []\n",
    "test_error_lasso = []\n",
    "\n",
    "for i in alpha_lasso:\n",
    "    \n",
    "    L = Lasso(alpha = i, normalize=True)\n",
    "    L.fit(train_x, train_y)\n",
    "    train_y_pred = L.predict(train_x)\n",
    "    test_y_pred = L.predict(test_x)\n",
    "    \n",
    "    mrss_train = sum((train_y_pred-train_y)**2)/train_x.shape[0]\n",
    "    mrss_test = sum((test_y_pred-test_y)**2)/test_x.shape[0]\n",
    "    \n",
    "    train_error_lasso.append(mrss_train)\n",
    "    test_error_lasso.append(mrss_test)"
   ]
  },
  {
   "cell_type": "code",
   "execution_count": 105,
   "id": "81753fc8",
   "metadata": {},
   "outputs": [],
   "source": [
    "# Initializing the dataframe to store error\n",
    "\n",
    "col = ['train_error_lasso','test_error_lasso']\n",
    "ind = ['alpha_%.2g'%alpha_lasso[i] for i in range(0,10)]\n",
    "matrix_lasso = pd.DataFrame(index=ind, columns=col)"
   ]
  },
  {
   "cell_type": "code",
   "execution_count": 106,
   "id": "7bb97193",
   "metadata": {},
   "outputs": [
    {
     "data": {
      "text/html": [
       "<div>\n",
       "<style scoped>\n",
       "    .dataframe tbody tr th:only-of-type {\n",
       "        vertical-align: middle;\n",
       "    }\n",
       "\n",
       "    .dataframe tbody tr th {\n",
       "        vertical-align: top;\n",
       "    }\n",
       "\n",
       "    .dataframe thead th {\n",
       "        text-align: right;\n",
       "    }\n",
       "</style>\n",
       "<table border=\"1\" class=\"dataframe\">\n",
       "  <thead>\n",
       "    <tr style=\"text-align: right;\">\n",
       "      <th></th>\n",
       "      <th>train_error_lasso</th>\n",
       "      <th>test_error_lasso</th>\n",
       "    </tr>\n",
       "  </thead>\n",
       "  <tbody>\n",
       "    <tr>\n",
       "      <th>alpha_0</th>\n",
       "      <td>0.259593</td>\n",
       "      <td>0.222837</td>\n",
       "    </tr>\n",
       "    <tr>\n",
       "      <th>alpha_1e-10</th>\n",
       "      <td>0.259593</td>\n",
       "      <td>0.222837</td>\n",
       "    </tr>\n",
       "    <tr>\n",
       "      <th>alpha_1e-08</th>\n",
       "      <td>0.259593</td>\n",
       "      <td>0.222837</td>\n",
       "    </tr>\n",
       "    <tr>\n",
       "      <th>alpha_1e-05</th>\n",
       "      <td>0.259593</td>\n",
       "      <td>0.222855</td>\n",
       "    </tr>\n",
       "    <tr>\n",
       "      <th>alpha_0.0001</th>\n",
       "      <td>0.259598</td>\n",
       "      <td>0.223022</td>\n",
       "    </tr>\n",
       "    <tr>\n",
       "      <th>alpha_0.001</th>\n",
       "      <td>0.260029</td>\n",
       "      <td>0.225019</td>\n",
       "    </tr>\n",
       "    <tr>\n",
       "      <th>alpha_0.01</th>\n",
       "      <td>0.303214</td>\n",
       "      <td>0.278454</td>\n",
       "    </tr>\n",
       "    <tr>\n",
       "      <th>alpha_1</th>\n",
       "      <td>0.337138</td>\n",
       "      <td>0.314485</td>\n",
       "    </tr>\n",
       "    <tr>\n",
       "      <th>alpha_5</th>\n",
       "      <td>0.337138</td>\n",
       "      <td>0.314485</td>\n",
       "    </tr>\n",
       "    <tr>\n",
       "      <th>alpha_10</th>\n",
       "      <td>0.337138</td>\n",
       "      <td>0.314485</td>\n",
       "    </tr>\n",
       "  </tbody>\n",
       "</table>\n",
       "</div>"
      ],
      "text/plain": [
       "              train_error_lasso  test_error_lasso\n",
       "alpha_0                0.259593          0.222837\n",
       "alpha_1e-10            0.259593          0.222837\n",
       "alpha_1e-08            0.259593          0.222837\n",
       "alpha_1e-05            0.259593          0.222855\n",
       "alpha_0.0001           0.259598          0.223022\n",
       "alpha_0.001            0.260029          0.225019\n",
       "alpha_0.01             0.303214          0.278454\n",
       "alpha_1                0.337138          0.314485\n",
       "alpha_5                0.337138          0.314485\n",
       "alpha_10               0.337138          0.314485"
      ]
     },
     "execution_count": 106,
     "metadata": {},
     "output_type": "execute_result"
    }
   ],
   "source": [
    "matrix_lasso['train_error_lasso'] = train_error_lasso\n",
    "matrix_lasso['test_error_lasso'] = test_error_lasso\n",
    "matrix_lasso"
   ]
  },
  {
   "cell_type": "code",
   "execution_count": 107,
   "id": "f437fc33",
   "metadata": {},
   "outputs": [
    {
     "data": {
      "image/png": "[encoded data removed]",
      "text/plain": [
       "<Figure size 432x288 with 1 Axes>"
      ]
     },
     "metadata": {},
     "output_type": "display_data"
    }
   ],
   "source": [
    "# Plotting the Alpha Values VS Error graph\n",
    "\n",
    "matrix_lasso[['train_error_lasso','test_error_lasso']].plot()\n",
    "plt.xlabel('Alpha Values')\n",
    "plt.ylabel('Error')\n",
    "plt.legend(['Train', 'Test'])\n",
    "plt.show()"
   ]
  },
  {
   "cell_type": "markdown",
   "id": "d50d7d05",
   "metadata": {},
   "source": [
    "From the above plot, we can observe that the least error we can get is at alpha_0.01."
   ]
  },
  {
   "cell_type": "code",
   "execution_count": 108,
   "id": "8a773f0e",
   "metadata": {},
   "outputs": [
    {
     "data": {
      "text/plain": [
       "train_error_lasso    0.259593\n",
       "test_error_lasso     0.222837\n",
       "dtype: float64"
      ]
     },
     "execution_count": 108,
     "metadata": {},
     "output_type": "execute_result"
    }
   ],
   "source": [
    "matrix_lasso.min()"
   ]
  },
  {
   "cell_type": "markdown",
   "id": "fbf187ab",
   "metadata": {},
   "source": [
    "# Plotting the coefficients"
   ]
  },
  {
   "cell_type": "code",
   "execution_count": 109,
   "id": "16f2761e",
   "metadata": {},
   "outputs": [
    {
     "data": {
      "text/plain": [
       "array([0., 0.])"
      ]
     },
     "execution_count": 109,
     "metadata": {},
     "output_type": "execute_result"
    }
   ],
   "source": [
    "L.coef_"
   ]
  },
  {
   "cell_type": "code",
   "execution_count": 110,
   "id": "92d24d59",
   "metadata": {},
   "outputs": [
    {
     "data": {
      "image/png": "[encoded data removed]",
      "text/plain": [
       "<Figure size 480x480 with 1 Axes>"
      ]
     },
     "metadata": {},
     "output_type": "display_data"
    }
   ],
   "source": [
    "plt.figure(figsize=(4, 4), dpi=120, facecolor='w', edgecolor='b')\n",
    "x = range(len(train_x.columns))\n",
    "y = L.coef_\n",
    "plt.bar( x, y )\n",
    "plt.xlabel( \"Variables\")\n",
    "plt.ylabel('Coefficients')\n",
    "plt.title('Normalized Coefficient plot')\n",
    "plt.show()"
   ]
  },
  {
   "cell_type": "markdown",
   "id": "f794c8cd",
   "metadata": {},
   "source": [
    "Interpretation from the linear variable Coefficients -\n",
    "\n",
    "• The above coefficient is normalized which can be used for making final inferences out of it.\n",
    "\n",
    "• From the above coefficient plot, we can interpret that none of the variables are contributing in the lasso modeling."
   ]
  },
  {
   "cell_type": "markdown",
   "id": "f158162c",
   "metadata": {},
   "source": [
    "# Plotting the following Barplots:"
   ]
  },
  {
   "cell_type": "markdown",
   "id": "e69ae5ca",
   "metadata": {},
   "source": [
    "a. train score of all the above models.\n",
    "\n",
    "b. test (not validation!) score of all the above models.\n",
    "\n",
    "c. Attempt to explain the observations from the plots (optional)."
   ]
  },
  {
   "cell_type": "code",
   "execution_count": 111,
   "id": "68aff218",
   "metadata": {},
   "outputs": [],
   "source": [
    "# Collecting scores from the models and putting them in respective variables.\n",
    "\n",
    "# KNN\n",
    "a = (1 - k_train_knn)*100\n",
    "b = (1 - k_test_knn)*100\n",
    "\n",
    "# Linear Regression\n",
    "c = (1 - mrss_train_regression)*100\n",
    "d = (1 - mrss_test_regression)*100\n",
    "\n",
    "# Ridge Regression\n",
    "e = (1 - matrix_ridge.min()[0])*100\n",
    "f = (1 - matrix_ridge.min()[1])*100\n",
    "\n",
    "# Lasso Regression\n",
    "g = (1 - matrix_lasso.min()[0])*100\n",
    "h = (1 - matrix_lasso.min()[1])*100"
   ]
  },
  {
   "cell_type": "markdown",
   "id": "b179b413",
   "metadata": {},
   "source": [
    "# Train Error Bar plot"
   ]
  },
  {
   "cell_type": "code",
   "execution_count": 112,
   "id": "b48cc476",
   "metadata": {},
   "outputs": [],
   "source": [
    "train_error_name = ['Train Score KNN',\n",
    "                    'Train Score Linear Regression',\n",
    "                    'Train Score Ridge',\n",
    "                    'Train Score Lasso']\n",
    "score_train = [a, c, e, g]"
   ]
  },
  {
   "cell_type": "code",
   "execution_count": 113,
   "id": "1bdc4b98",
   "metadata": {},
   "outputs": [
    {
     "data": {
      "image/png": "[encoded data removed]",
      "text/plain": [
       "<Figure size 720x576 with 1 Axes>"
      ]
     },
     "metadata": {},
     "output_type": "display_data"
    }
   ],
   "source": [
    "plt.figure(figsize = (10, 8))\n",
    "plt.ylim(0, 100)\n",
    "plt.bar(train_error_name, score_train, color=['red', 'orange', 'magenta', 'green'])\n",
    "plt.xlabel('Models')\n",
    "plt.ylabel('Score')\n",
    "plt.title('Train Score of the Models');"
   ]
  },
  {
   "cell_type": "markdown",
   "id": "0717059e",
   "metadata": {},
   "source": [
    "Observation -\n",
    "\n",
    "From the above bar plot it can be observed that the train score of KNN model has the best score among all of the other models."
   ]
  },
  {
   "cell_type": "markdown",
   "id": "85c28222",
   "metadata": {},
   "source": [
    "# Test error Bar plot"
   ]
  },
  {
   "cell_type": "code",
   "execution_count": 114,
   "id": "157446bd",
   "metadata": {},
   "outputs": [],
   "source": [
    "test_error_name = ['Test Score KNN',\n",
    "                   'Test Score Linear Regression',\n",
    "                   'Test Score Ridge',\n",
    "                   'Test Score Lasso']\n",
    "score_test = [b, d, f, h]"
   ]
  },
  {
   "cell_type": "code",
   "execution_count": 115,
   "id": "d02634ec",
   "metadata": {},
   "outputs": [
    {
     "data": {
      "image/png": "[encoded data removed]",
      "text/plain": [
       "<Figure size 720x576 with 1 Axes>"
      ]
     },
     "metadata": {},
     "output_type": "display_data"
    }
   ],
   "source": [
    "plt.figure(figsize = (10, 8))\n",
    "plt.ylim(0, 100)\n",
    "plt.bar(test_error_name, score_test, color=['red', 'orange', 'magenta', 'green', 'yellow'])\n",
    "plt.xlabel('Models')\n",
    "plt.ylabel('Score')\n",
    "plt.title('Test Score of the Models');"
   ]
  },
  {
   "cell_type": "markdown",
   "id": "943ad058",
   "metadata": {},
   "source": [
    "Observation -\n",
    "\n",
    "From the above test score bar plot, KNN model is performing best with least test error and better score among all the other models."
   ]
  },
  {
   "cell_type": "markdown",
   "id": "3b3eb5a5",
   "metadata": {},
   "source": [
    "# Overall observation -"
   ]
  },
  {
   "cell_type": "markdown",
   "id": "aeb57bfc",
   "metadata": {},
   "source": [
    "From the above bar plots, it can be seen that both the train and test score of all models are in sync with each other and out of all these models, K-Nearest Neighbor model is performing better than the other models."
   ]
  }
 ],
 "metadata": {
  "kernelspec": {
   "display_name": "Python 3 (ipykernel)",
   "language": "python",
   "name": "python3"
  },
  "language_info": {
   "codemirror_mode": {
    "name": "ipython",
    "version": 3
   },
   "file_extension": ".py",
   "mimetype": "text/x-python",
   "name": "python",
   "nbconvert_exporter": "python",
   "pygments_lexer": "ipython3",
   "version": "3.9.12"
  }
 },
 "nbformat": 4,
 "nbformat_minor": 5
}
