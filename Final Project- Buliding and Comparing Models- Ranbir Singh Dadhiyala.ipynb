{
 "cells": [
  {
   "cell_type": "markdown",
   "id": "e746ca7e",
   "metadata": {},
   "source": [
    "# Building Basic predictive models over the NYC Taxi Trip dataset"
   ]
  },
  {
   "cell_type": "markdown",
   "id": "4e6f088e",
   "metadata": {},
   "source": [
    "Q1. Choose the most suitable evaluation metric and state why you chose it.\n",
    "\n",
    "Answer: The most suitable evaluation metric for the given dataset is Mean Squared Error. As the formula for mean squared error is comprised of square of difference between the predicted value and acual value of target variable. Which will lead to the bigger error value and help us to detect the small errors."
   ]
  },
  {
   "cell_type": "markdown",
   "id": "b8e9f1ab",
   "metadata": {},
   "source": [
    "Q2. Build a benchmark model for the given dataset."
   ]
  },
  {
   "cell_type": "markdown",
   "id": "16e5ea9f",
   "metadata": {},
   "source": [
    "# Load Libraries:"
   ]
  },
  {
   "cell_type": "code",
   "execution_count": 1,
   "id": "a3846ceb",
   "metadata": {},
   "outputs": [],
   "source": [
    "import pandas as pd\n",
    "import matplotlib.pyplot as plt\n",
    "import numpy as np\n",
    "%matplotlib inline\n",
    "import seaborn as sns\n",
    "import warnings\n",
    "warnings.filterwarnings('ignore')"
   ]
  },
  {
   "cell_type": "markdown",
   "id": "55187852",
   "metadata": {},
   "source": [
    "# Load Data"
   ]
  },
  {
   "cell_type": "code",
   "execution_count": 2,
   "id": "7bed6d67",
   "metadata": {},
   "outputs": [],
   "source": [
    "data = pd.read_csv('nyc_taxi_trip_duration.csv')"
   ]
  },
  {
   "cell_type": "code",
   "execution_count": 3,
   "id": "4d7ec985",
   "metadata": {},
   "outputs": [
    {
     "data": {
      "text/html": [
       "<div>\n",
       "<style scoped>\n",
       "    .dataframe tbody tr th:only-of-type {\n",
       "        vertical-align: middle;\n",
       "    }\n",
       "\n",
       "    .dataframe tbody tr th {\n",
       "        vertical-align: top;\n",
       "    }\n",
       "\n",
       "    .dataframe thead th {\n",
       "        text-align: right;\n",
       "    }\n",
       "</style>\n",
       "<table border=\"1\" class=\"dataframe\">\n",
       "  <thead>\n",
       "    <tr style=\"text-align: right;\">\n",
       "      <th></th>\n",
       "      <th>id</th>\n",
       "      <th>vendor_id</th>\n",
       "      <th>pickup_datetime</th>\n",
       "      <th>dropoff_datetime</th>\n",
       "      <th>passenger_count</th>\n",
       "      <th>pickup_longitude</th>\n",
       "      <th>pickup_latitude</th>\n",
       "      <th>dropoff_longitude</th>\n",
       "      <th>dropoff_latitude</th>\n",
       "      <th>store_and_fwd_flag</th>\n",
       "      <th>trip_duration</th>\n",
       "    </tr>\n",
       "  </thead>\n",
       "  <tbody>\n",
       "    <tr>\n",
       "      <th>0</th>\n",
       "      <td>id1080784</td>\n",
       "      <td>2</td>\n",
       "      <td>2016-02-29 16:40:21</td>\n",
       "      <td>2016-02-29 16:47:01</td>\n",
       "      <td>1</td>\n",
       "      <td>-73.953918</td>\n",
       "      <td>40.778873</td>\n",
       "      <td>-73.963875</td>\n",
       "      <td>40.771164</td>\n",
       "      <td>N</td>\n",
       "      <td>400</td>\n",
       "    </tr>\n",
       "    <tr>\n",
       "      <th>1</th>\n",
       "      <td>id0889885</td>\n",
       "      <td>1</td>\n",
       "      <td>2016-03-11 23:35:37</td>\n",
       "      <td>2016-03-11 23:53:57</td>\n",
       "      <td>2</td>\n",
       "      <td>-73.988312</td>\n",
       "      <td>40.731743</td>\n",
       "      <td>-73.994751</td>\n",
       "      <td>40.694931</td>\n",
       "      <td>N</td>\n",
       "      <td>1100</td>\n",
       "    </tr>\n",
       "    <tr>\n",
       "      <th>2</th>\n",
       "      <td>id0857912</td>\n",
       "      <td>2</td>\n",
       "      <td>2016-02-21 17:59:33</td>\n",
       "      <td>2016-02-21 18:26:48</td>\n",
       "      <td>2</td>\n",
       "      <td>-73.997314</td>\n",
       "      <td>40.721458</td>\n",
       "      <td>-73.948029</td>\n",
       "      <td>40.774918</td>\n",
       "      <td>N</td>\n",
       "      <td>1635</td>\n",
       "    </tr>\n",
       "    <tr>\n",
       "      <th>3</th>\n",
       "      <td>id3744273</td>\n",
       "      <td>2</td>\n",
       "      <td>2016-01-05 09:44:31</td>\n",
       "      <td>2016-01-05 10:03:32</td>\n",
       "      <td>6</td>\n",
       "      <td>-73.961670</td>\n",
       "      <td>40.759720</td>\n",
       "      <td>-73.956779</td>\n",
       "      <td>40.780628</td>\n",
       "      <td>N</td>\n",
       "      <td>1141</td>\n",
       "    </tr>\n",
       "    <tr>\n",
       "      <th>4</th>\n",
       "      <td>id0232939</td>\n",
       "      <td>1</td>\n",
       "      <td>2016-02-17 06:42:23</td>\n",
       "      <td>2016-02-17 06:56:31</td>\n",
       "      <td>1</td>\n",
       "      <td>-74.017120</td>\n",
       "      <td>40.708469</td>\n",
       "      <td>-73.988182</td>\n",
       "      <td>40.740631</td>\n",
       "      <td>N</td>\n",
       "      <td>848</td>\n",
       "    </tr>\n",
       "  </tbody>\n",
       "</table>\n",
       "</div>"
      ],
      "text/plain": [
       "          id  vendor_id      pickup_datetime     dropoff_datetime  \\\n",
       "0  id1080784          2  2016-02-29 16:40:21  2016-02-29 16:47:01   \n",
       "1  id0889885          1  2016-03-11 23:35:37  2016-03-11 23:53:57   \n",
       "2  id0857912          2  2016-02-21 17:59:33  2016-02-21 18:26:48   \n",
       "3  id3744273          2  2016-01-05 09:44:31  2016-01-05 10:03:32   \n",
       "4  id0232939          1  2016-02-17 06:42:23  2016-02-17 06:56:31   \n",
       "\n",
       "   passenger_count  pickup_longitude  pickup_latitude  dropoff_longitude  \\\n",
       "0                1        -73.953918        40.778873         -73.963875   \n",
       "1                2        -73.988312        40.731743         -73.994751   \n",
       "2                2        -73.997314        40.721458         -73.948029   \n",
       "3                6        -73.961670        40.759720         -73.956779   \n",
       "4                1        -74.017120        40.708469         -73.988182   \n",
       "\n",
       "   dropoff_latitude store_and_fwd_flag  trip_duration  \n",
       "0         40.771164                  N            400  \n",
       "1         40.694931                  N           1100  \n",
       "2         40.774918                  N           1635  \n",
       "3         40.780628                  N           1141  \n",
       "4         40.740631                  N            848  "
      ]
     },
     "execution_count": 3,
     "metadata": {},
     "output_type": "execute_result"
    }
   ],
   "source": [
    "data.head()"
   ]
  },
  {
   "cell_type": "code",
   "execution_count": 4,
   "id": "16523dbc",
   "metadata": {},
   "outputs": [
    {
     "data": {
      "text/plain": [
       "id                    0\n",
       "vendor_id             0\n",
       "pickup_datetime       0\n",
       "dropoff_datetime      0\n",
       "passenger_count       0\n",
       "pickup_longitude      0\n",
       "pickup_latitude       0\n",
       "dropoff_longitude     0\n",
       "dropoff_latitude      0\n",
       "store_and_fwd_flag    0\n",
       "trip_duration         0\n",
       "dtype: int64"
      ]
     },
     "execution_count": 4,
     "metadata": {},
     "output_type": "execute_result"
    }
   ],
   "source": [
    "data.isnull().sum()"
   ]
  },
  {
   "cell_type": "code",
   "execution_count": 5,
   "id": "75116f2a",
   "metadata": {},
   "outputs": [
    {
     "data": {
      "text/plain": [
       "id                     object\n",
       "vendor_id               int64\n",
       "pickup_datetime        object\n",
       "dropoff_datetime       object\n",
       "passenger_count         int64\n",
       "pickup_longitude      float64\n",
       "pickup_latitude       float64\n",
       "dropoff_longitude     float64\n",
       "dropoff_latitude      float64\n",
       "store_and_fwd_flag     object\n",
       "trip_duration           int64\n",
       "dtype: object"
      ]
     },
     "execution_count": 5,
     "metadata": {},
     "output_type": "execute_result"
    }
   ],
   "source": [
    "data.dtypes"
   ]
  },
  {
   "cell_type": "code",
   "execution_count": 6,
   "id": "90e15a5d",
   "metadata": {},
   "outputs": [],
   "source": [
    "# converting strings to datetime features\n",
    "\n",
    "data['pickup_datetime'] = pd.to_datetime(data.pickup_datetime)\n",
    "data['dropoff_datetime'] = pd.to_datetime(data.dropoff_datetime)"
   ]
  },
  {
   "cell_type": "code",
   "execution_count": 7,
   "id": "e235d499",
   "metadata": {},
   "outputs": [],
   "source": [
    "data['day_of_week'] = data['pickup_datetime'].dt.weekday\n",
    "data['hour_of_day'] = data['pickup_datetime'].dt.hour"
   ]
  },
  {
   "cell_type": "code",
   "execution_count": 8,
   "id": "cd6bf8e7",
   "metadata": {},
   "outputs": [
    {
     "data": {
      "text/plain": [
       "id                            object\n",
       "vendor_id                      int64\n",
       "pickup_datetime       datetime64[ns]\n",
       "dropoff_datetime      datetime64[ns]\n",
       "passenger_count                int64\n",
       "pickup_longitude             float64\n",
       "pickup_latitude              float64\n",
       "dropoff_longitude            float64\n",
       "dropoff_latitude             float64\n",
       "store_and_fwd_flag            object\n",
       "trip_duration                  int64\n",
       "day_of_week                    int64\n",
       "hour_of_day                    int64\n",
       "dtype: object"
      ]
     },
     "execution_count": 8,
     "metadata": {},
     "output_type": "execute_result"
    }
   ],
   "source": [
    "data.dtypes"
   ]
  },
  {
   "cell_type": "code",
   "execution_count": 9,
   "id": "e7537c5b",
   "metadata": {},
   "outputs": [
    {
     "data": {
      "text/html": [
       "<div>\n",
       "<style scoped>\n",
       "    .dataframe tbody tr th:only-of-type {\n",
       "        vertical-align: middle;\n",
       "    }\n",
       "\n",
       "    .dataframe tbody tr th {\n",
       "        vertical-align: top;\n",
       "    }\n",
       "\n",
       "    .dataframe thead th {\n",
       "        text-align: right;\n",
       "    }\n",
       "</style>\n",
       "<table border=\"1\" class=\"dataframe\">\n",
       "  <thead>\n",
       "    <tr style=\"text-align: right;\">\n",
       "      <th></th>\n",
       "      <th>vendor_id</th>\n",
       "      <th>passenger_count</th>\n",
       "      <th>pickup_longitude</th>\n",
       "      <th>pickup_latitude</th>\n",
       "      <th>dropoff_longitude</th>\n",
       "      <th>dropoff_latitude</th>\n",
       "      <th>trip_duration</th>\n",
       "      <th>day_of_week</th>\n",
       "      <th>hour_of_day</th>\n",
       "    </tr>\n",
       "  </thead>\n",
       "  <tbody>\n",
       "    <tr>\n",
       "      <th>count</th>\n",
       "      <td>729322.000000</td>\n",
       "      <td>729322.000000</td>\n",
       "      <td>729322.000000</td>\n",
       "      <td>729322.000000</td>\n",
       "      <td>729322.000000</td>\n",
       "      <td>729322.000000</td>\n",
       "      <td>7.293220e+05</td>\n",
       "      <td>729322.000000</td>\n",
       "      <td>729322.000000</td>\n",
       "    </tr>\n",
       "    <tr>\n",
       "      <th>mean</th>\n",
       "      <td>1.535403</td>\n",
       "      <td>1.662055</td>\n",
       "      <td>-73.973513</td>\n",
       "      <td>40.750919</td>\n",
       "      <td>-73.973422</td>\n",
       "      <td>40.751775</td>\n",
       "      <td>9.522291e+02</td>\n",
       "      <td>3.049081</td>\n",
       "      <td>13.611698</td>\n",
       "    </tr>\n",
       "    <tr>\n",
       "      <th>std</th>\n",
       "      <td>0.498745</td>\n",
       "      <td>1.312446</td>\n",
       "      <td>0.069754</td>\n",
       "      <td>0.033594</td>\n",
       "      <td>0.069588</td>\n",
       "      <td>0.036037</td>\n",
       "      <td>3.864626e+03</td>\n",
       "      <td>1.954470</td>\n",
       "      <td>6.402853</td>\n",
       "    </tr>\n",
       "    <tr>\n",
       "      <th>min</th>\n",
       "      <td>1.000000</td>\n",
       "      <td>0.000000</td>\n",
       "      <td>-121.933342</td>\n",
       "      <td>34.712234</td>\n",
       "      <td>-121.933304</td>\n",
       "      <td>32.181141</td>\n",
       "      <td>1.000000e+00</td>\n",
       "      <td>0.000000</td>\n",
       "      <td>0.000000</td>\n",
       "    </tr>\n",
       "    <tr>\n",
       "      <th>25%</th>\n",
       "      <td>1.000000</td>\n",
       "      <td>1.000000</td>\n",
       "      <td>-73.991859</td>\n",
       "      <td>40.737335</td>\n",
       "      <td>-73.991318</td>\n",
       "      <td>40.735931</td>\n",
       "      <td>3.970000e+02</td>\n",
       "      <td>1.000000</td>\n",
       "      <td>9.000000</td>\n",
       "    </tr>\n",
       "    <tr>\n",
       "      <th>50%</th>\n",
       "      <td>2.000000</td>\n",
       "      <td>1.000000</td>\n",
       "      <td>-73.981758</td>\n",
       "      <td>40.754070</td>\n",
       "      <td>-73.979759</td>\n",
       "      <td>40.754509</td>\n",
       "      <td>6.630000e+02</td>\n",
       "      <td>3.000000</td>\n",
       "      <td>14.000000</td>\n",
       "    </tr>\n",
       "    <tr>\n",
       "      <th>75%</th>\n",
       "      <td>2.000000</td>\n",
       "      <td>2.000000</td>\n",
       "      <td>-73.967361</td>\n",
       "      <td>40.768314</td>\n",
       "      <td>-73.963036</td>\n",
       "      <td>40.769741</td>\n",
       "      <td>1.075000e+03</td>\n",
       "      <td>5.000000</td>\n",
       "      <td>19.000000</td>\n",
       "    </tr>\n",
       "    <tr>\n",
       "      <th>max</th>\n",
       "      <td>2.000000</td>\n",
       "      <td>9.000000</td>\n",
       "      <td>-65.897385</td>\n",
       "      <td>51.881084</td>\n",
       "      <td>-65.897385</td>\n",
       "      <td>43.921028</td>\n",
       "      <td>1.939736e+06</td>\n",
       "      <td>6.000000</td>\n",
       "      <td>23.000000</td>\n",
       "    </tr>\n",
       "  </tbody>\n",
       "</table>\n",
       "</div>"
      ],
      "text/plain": [
       "           vendor_id  passenger_count  pickup_longitude  pickup_latitude  \\\n",
       "count  729322.000000    729322.000000     729322.000000    729322.000000   \n",
       "mean        1.535403         1.662055        -73.973513        40.750919   \n",
       "std         0.498745         1.312446          0.069754         0.033594   \n",
       "min         1.000000         0.000000       -121.933342        34.712234   \n",
       "25%         1.000000         1.000000        -73.991859        40.737335   \n",
       "50%         2.000000         1.000000        -73.981758        40.754070   \n",
       "75%         2.000000         2.000000        -73.967361        40.768314   \n",
       "max         2.000000         9.000000        -65.897385        51.881084   \n",
       "\n",
       "       dropoff_longitude  dropoff_latitude  trip_duration    day_of_week  \\\n",
       "count      729322.000000     729322.000000   7.293220e+05  729322.000000   \n",
       "mean          -73.973422         40.751775   9.522291e+02       3.049081   \n",
       "std             0.069588          0.036037   3.864626e+03       1.954470   \n",
       "min          -121.933304         32.181141   1.000000e+00       0.000000   \n",
       "25%           -73.991318         40.735931   3.970000e+02       1.000000   \n",
       "50%           -73.979759         40.754509   6.630000e+02       3.000000   \n",
       "75%           -73.963036         40.769741   1.075000e+03       5.000000   \n",
       "max           -65.897385         43.921028   1.939736e+06       6.000000   \n",
       "\n",
       "         hour_of_day  \n",
       "count  729322.000000  \n",
       "mean       13.611698  \n",
       "std         6.402853  \n",
       "min         0.000000  \n",
       "25%         9.000000  \n",
       "50%        14.000000  \n",
       "75%        19.000000  \n",
       "max        23.000000  "
      ]
     },
     "execution_count": 9,
     "metadata": {},
     "output_type": "execute_result"
    }
   ],
   "source": [
    "data.describe()"
   ]
  },
  {
   "cell_type": "code",
   "execution_count": 10,
   "id": "ba67a923",
   "metadata": {},
   "outputs": [],
   "source": [
    "\n",
    "from sklearn.utils import shuffle\n",
    "\n",
    "# Shuffling the Dataset\n",
    "data = shuffle(data, random_state = 42)\n",
    "\n",
    "#creating 4 divisions\n",
    "div = int(data.shape[0]/4)\n",
    "\n",
    "# 3 parts to train set and 1 part to test set\n",
    "train = data.loc[:3*div+1,:]\n",
    "test = data.loc[3*div+1:]"
   ]
  },
  {
   "cell_type": "code",
   "execution_count": 11,
   "id": "1cac54cf",
   "metadata": {},
   "outputs": [
    {
     "data": {
      "text/html": [
       "<div>\n",
       "<style scoped>\n",
       "    .dataframe tbody tr th:only-of-type {\n",
       "        vertical-align: middle;\n",
       "    }\n",
       "\n",
       "    .dataframe tbody tr th {\n",
       "        vertical-align: top;\n",
       "    }\n",
       "\n",
       "    .dataframe thead th {\n",
       "        text-align: right;\n",
       "    }\n",
       "</style>\n",
       "<table border=\"1\" class=\"dataframe\">\n",
       "  <thead>\n",
       "    <tr style=\"text-align: right;\">\n",
       "      <th></th>\n",
       "      <th>id</th>\n",
       "      <th>vendor_id</th>\n",
       "      <th>pickup_datetime</th>\n",
       "      <th>dropoff_datetime</th>\n",
       "      <th>passenger_count</th>\n",
       "      <th>pickup_longitude</th>\n",
       "      <th>pickup_latitude</th>\n",
       "      <th>dropoff_longitude</th>\n",
       "      <th>dropoff_latitude</th>\n",
       "      <th>store_and_fwd_flag</th>\n",
       "      <th>trip_duration</th>\n",
       "      <th>day_of_week</th>\n",
       "      <th>hour_of_day</th>\n",
       "    </tr>\n",
       "  </thead>\n",
       "  <tbody>\n",
       "    <tr>\n",
       "      <th>469114</th>\n",
       "      <td>id2380741</td>\n",
       "      <td>2</td>\n",
       "      <td>2016-05-21 10:40:14</td>\n",
       "      <td>2016-05-21 10:51:11</td>\n",
       "      <td>1</td>\n",
       "      <td>-73.981796</td>\n",
       "      <td>40.762035</td>\n",
       "      <td>-73.972267</td>\n",
       "      <td>40.781265</td>\n",
       "      <td>N</td>\n",
       "      <td>657</td>\n",
       "      <td>5</td>\n",
       "      <td>10</td>\n",
       "    </tr>\n",
       "    <tr>\n",
       "      <th>694852</th>\n",
       "      <td>id3946961</td>\n",
       "      <td>2</td>\n",
       "      <td>2016-01-08 18:49:27</td>\n",
       "      <td>2016-01-08 18:52:42</td>\n",
       "      <td>5</td>\n",
       "      <td>-73.980965</td>\n",
       "      <td>40.747677</td>\n",
       "      <td>-73.982704</td>\n",
       "      <td>40.741161</td>\n",
       "      <td>N</td>\n",
       "      <td>195</td>\n",
       "      <td>4</td>\n",
       "      <td>18</td>\n",
       "    </tr>\n",
       "    <tr>\n",
       "      <th>696324</th>\n",
       "      <td>id0833913</td>\n",
       "      <td>1</td>\n",
       "      <td>2016-05-22 00:54:10</td>\n",
       "      <td>2016-05-22 01:08:10</td>\n",
       "      <td>1</td>\n",
       "      <td>-73.951065</td>\n",
       "      <td>40.782722</td>\n",
       "      <td>-73.867691</td>\n",
       "      <td>40.833664</td>\n",
       "      <td>N</td>\n",
       "      <td>840</td>\n",
       "      <td>6</td>\n",
       "      <td>0</td>\n",
       "    </tr>\n",
       "    <tr>\n",
       "      <th>356496</th>\n",
       "      <td>id1336849</td>\n",
       "      <td>1</td>\n",
       "      <td>2016-06-11 10:32:12</td>\n",
       "      <td>2016-06-11 10:38:50</td>\n",
       "      <td>1</td>\n",
       "      <td>-73.987625</td>\n",
       "      <td>40.762791</td>\n",
       "      <td>-73.973518</td>\n",
       "      <td>40.762909</td>\n",
       "      <td>N</td>\n",
       "      <td>398</td>\n",
       "      <td>5</td>\n",
       "      <td>10</td>\n",
       "    </tr>\n",
       "    <tr>\n",
       "      <th>645318</th>\n",
       "      <td>id1610858</td>\n",
       "      <td>1</td>\n",
       "      <td>2016-04-03 10:45:51</td>\n",
       "      <td>2016-04-03 10:57:13</td>\n",
       "      <td>3</td>\n",
       "      <td>-73.964333</td>\n",
       "      <td>40.792503</td>\n",
       "      <td>-73.988609</td>\n",
       "      <td>40.758369</td>\n",
       "      <td>N</td>\n",
       "      <td>682</td>\n",
       "      <td>6</td>\n",
       "      <td>10</td>\n",
       "    </tr>\n",
       "  </tbody>\n",
       "</table>\n",
       "</div>"
      ],
      "text/plain": [
       "               id  vendor_id     pickup_datetime    dropoff_datetime  \\\n",
       "469114  id2380741          2 2016-05-21 10:40:14 2016-05-21 10:51:11   \n",
       "694852  id3946961          2 2016-01-08 18:49:27 2016-01-08 18:52:42   \n",
       "696324  id0833913          1 2016-05-22 00:54:10 2016-05-22 01:08:10   \n",
       "356496  id1336849          1 2016-06-11 10:32:12 2016-06-11 10:38:50   \n",
       "645318  id1610858          1 2016-04-03 10:45:51 2016-04-03 10:57:13   \n",
       "\n",
       "        passenger_count  pickup_longitude  pickup_latitude  dropoff_longitude  \\\n",
       "469114                1        -73.981796        40.762035         -73.972267   \n",
       "694852                5        -73.980965        40.747677         -73.982704   \n",
       "696324                1        -73.951065        40.782722         -73.867691   \n",
       "356496                1        -73.987625        40.762791         -73.973518   \n",
       "645318                3        -73.964333        40.792503         -73.988609   \n",
       "\n",
       "        dropoff_latitude store_and_fwd_flag  trip_duration  day_of_week  \\\n",
       "469114         40.781265                  N            657            5   \n",
       "694852         40.741161                  N            195            4   \n",
       "696324         40.833664                  N            840            6   \n",
       "356496         40.762909                  N            398            5   \n",
       "645318         40.758369                  N            682            6   \n",
       "\n",
       "        hour_of_day  \n",
       "469114           10  \n",
       "694852           18  \n",
       "696324            0  \n",
       "356496           10  \n",
       "645318           10  "
      ]
     },
     "execution_count": 11,
     "metadata": {},
     "output_type": "execute_result"
    }
   ],
   "source": [
    "train.head()"
   ]
  },
  {
   "cell_type": "code",
   "execution_count": 12,
   "id": "6790cd32",
   "metadata": {},
   "outputs": [
    {
     "data": {
      "text/html": [
       "<div>\n",
       "<style scoped>\n",
       "    .dataframe tbody tr th:only-of-type {\n",
       "        vertical-align: middle;\n",
       "    }\n",
       "\n",
       "    .dataframe tbody tr th {\n",
       "        vertical-align: top;\n",
       "    }\n",
       "\n",
       "    .dataframe thead th {\n",
       "        text-align: right;\n",
       "    }\n",
       "</style>\n",
       "<table border=\"1\" class=\"dataframe\">\n",
       "  <thead>\n",
       "    <tr style=\"text-align: right;\">\n",
       "      <th></th>\n",
       "      <th>id</th>\n",
       "      <th>vendor_id</th>\n",
       "      <th>pickup_datetime</th>\n",
       "      <th>dropoff_datetime</th>\n",
       "      <th>passenger_count</th>\n",
       "      <th>pickup_longitude</th>\n",
       "      <th>pickup_latitude</th>\n",
       "      <th>dropoff_longitude</th>\n",
       "      <th>dropoff_latitude</th>\n",
       "      <th>store_and_fwd_flag</th>\n",
       "      <th>trip_duration</th>\n",
       "      <th>day_of_week</th>\n",
       "      <th>hour_of_day</th>\n",
       "    </tr>\n",
       "  </thead>\n",
       "  <tbody>\n",
       "    <tr>\n",
       "      <th>546991</th>\n",
       "      <td>id2240736</td>\n",
       "      <td>1</td>\n",
       "      <td>2016-05-25 07:59:16</td>\n",
       "      <td>2016-05-25 08:05:02</td>\n",
       "      <td>1</td>\n",
       "      <td>-73.991364</td>\n",
       "      <td>40.732590</td>\n",
       "      <td>-74.000526</td>\n",
       "      <td>40.742283</td>\n",
       "      <td>N</td>\n",
       "      <td>346</td>\n",
       "      <td>2</td>\n",
       "      <td>7</td>\n",
       "    </tr>\n",
       "    <tr>\n",
       "      <th>43126</th>\n",
       "      <td>id1423404</td>\n",
       "      <td>1</td>\n",
       "      <td>2016-01-18 12:17:13</td>\n",
       "      <td>2016-01-18 12:21:13</td>\n",
       "      <td>2</td>\n",
       "      <td>-73.966225</td>\n",
       "      <td>40.768059</td>\n",
       "      <td>-73.967606</td>\n",
       "      <td>40.763073</td>\n",
       "      <td>N</td>\n",
       "      <td>240</td>\n",
       "      <td>0</td>\n",
       "      <td>12</td>\n",
       "    </tr>\n",
       "    <tr>\n",
       "      <th>641450</th>\n",
       "      <td>id1317268</td>\n",
       "      <td>2</td>\n",
       "      <td>2016-03-02 18:39:01</td>\n",
       "      <td>2016-03-02 18:50:12</td>\n",
       "      <td>1</td>\n",
       "      <td>-73.994926</td>\n",
       "      <td>40.766018</td>\n",
       "      <td>-74.004219</td>\n",
       "      <td>40.742523</td>\n",
       "      <td>N</td>\n",
       "      <td>671</td>\n",
       "      <td>2</td>\n",
       "      <td>18</td>\n",
       "    </tr>\n",
       "    <tr>\n",
       "      <th>611380</th>\n",
       "      <td>id3335546</td>\n",
       "      <td>1</td>\n",
       "      <td>2016-04-06 19:17:20</td>\n",
       "      <td>2016-04-06 19:18:03</td>\n",
       "      <td>1</td>\n",
       "      <td>-73.974388</td>\n",
       "      <td>40.793781</td>\n",
       "      <td>-73.976006</td>\n",
       "      <td>40.792339</td>\n",
       "      <td>N</td>\n",
       "      <td>43</td>\n",
       "      <td>2</td>\n",
       "      <td>19</td>\n",
       "    </tr>\n",
       "    <tr>\n",
       "      <th>62690</th>\n",
       "      <td>id2174190</td>\n",
       "      <td>2</td>\n",
       "      <td>2016-06-21 18:35:31</td>\n",
       "      <td>2016-06-21 18:40:56</td>\n",
       "      <td>3</td>\n",
       "      <td>-73.963440</td>\n",
       "      <td>40.798557</td>\n",
       "      <td>-73.979736</td>\n",
       "      <td>40.777878</td>\n",
       "      <td>N</td>\n",
       "      <td>325</td>\n",
       "      <td>1</td>\n",
       "      <td>18</td>\n",
       "    </tr>\n",
       "  </tbody>\n",
       "</table>\n",
       "</div>"
      ],
      "text/plain": [
       "               id  vendor_id     pickup_datetime    dropoff_datetime  \\\n",
       "546991  id2240736          1 2016-05-25 07:59:16 2016-05-25 08:05:02   \n",
       "43126   id1423404          1 2016-01-18 12:17:13 2016-01-18 12:21:13   \n",
       "641450  id1317268          2 2016-03-02 18:39:01 2016-03-02 18:50:12   \n",
       "611380  id3335546          1 2016-04-06 19:17:20 2016-04-06 19:18:03   \n",
       "62690   id2174190          2 2016-06-21 18:35:31 2016-06-21 18:40:56   \n",
       "\n",
       "        passenger_count  pickup_longitude  pickup_latitude  dropoff_longitude  \\\n",
       "546991                1        -73.991364        40.732590         -74.000526   \n",
       "43126                 2        -73.966225        40.768059         -73.967606   \n",
       "641450                1        -73.994926        40.766018         -74.004219   \n",
       "611380                1        -73.974388        40.793781         -73.976006   \n",
       "62690                 3        -73.963440        40.798557         -73.979736   \n",
       "\n",
       "        dropoff_latitude store_and_fwd_flag  trip_duration  day_of_week  \\\n",
       "546991         40.742283                  N            346            2   \n",
       "43126          40.763073                  N            240            0   \n",
       "641450         40.742523                  N            671            2   \n",
       "611380         40.792339                  N             43            2   \n",
       "62690          40.777878                  N            325            1   \n",
       "\n",
       "        hour_of_day  \n",
       "546991            7  \n",
       "43126            12  \n",
       "641450           18  \n",
       "611380           19  \n",
       "62690            18  "
      ]
     },
     "execution_count": 12,
     "metadata": {},
     "output_type": "execute_result"
    }
   ],
   "source": [
    "test.head()"
   ]
  },
  {
   "cell_type": "code",
   "execution_count": 13,
   "id": "23d726ff",
   "metadata": {},
   "outputs": [],
   "source": [
    "# storing simple mean in a new column in the test set as \"simple_mean\"\n",
    "test['simple_mean'] = train['trip_duration'].mean()"
   ]
  },
  {
   "cell_type": "code",
   "execution_count": 14,
   "id": "6adb335d",
   "metadata": {},
   "outputs": [
    {
     "data": {
      "text/plain": [
       "546991    951.586402\n",
       "43126     951.586402\n",
       "641450    951.586402\n",
       "611380    951.586402\n",
       "62690     951.586402\n",
       "             ...    \n",
       "259178    951.586402\n",
       "365838    951.586402\n",
       "131932    951.586402\n",
       "671155    951.586402\n",
       "121958    951.586402\n",
       "Name: simple_mean, Length: 139872, dtype: float64"
      ]
     },
     "execution_count": 14,
     "metadata": {},
     "output_type": "execute_result"
    }
   ],
   "source": [
    "test['simple_mean']"
   ]
  },
  {
   "cell_type": "code",
   "execution_count": 15,
   "id": "9956f319",
   "metadata": {},
   "outputs": [
    {
     "data": {
      "text/plain": [
       "621.9954570969938"
      ]
     },
     "execution_count": 15,
     "metadata": {},
     "output_type": "execute_result"
    }
   ],
   "source": [
    "#calculating mean absolute error\n",
    "from sklearn.metrics import mean_absolute_error as MAE\n",
    "\n",
    "simple_mean_error = MAE(test['trip_duration'] , test['simple_mean'])\n",
    "simple_mean_error"
   ]
  },
  {
   "cell_type": "code",
   "execution_count": 16,
   "id": "888640b8",
   "metadata": {},
   "outputs": [
    {
     "data": {
      "text/html": [
       "<div>\n",
       "<style scoped>\n",
       "    .dataframe tbody tr th:only-of-type {\n",
       "        vertical-align: middle;\n",
       "    }\n",
       "\n",
       "    .dataframe tbody tr th {\n",
       "        vertical-align: top;\n",
       "    }\n",
       "\n",
       "    .dataframe thead th {\n",
       "        text-align: right;\n",
       "    }\n",
       "</style>\n",
       "<table border=\"1\" class=\"dataframe\">\n",
       "  <thead>\n",
       "    <tr style=\"text-align: right;\">\n",
       "      <th></th>\n",
       "      <th>trip_duration</th>\n",
       "    </tr>\n",
       "    <tr>\n",
       "      <th>day_of_week</th>\n",
       "      <th></th>\n",
       "    </tr>\n",
       "  </thead>\n",
       "  <tbody>\n",
       "    <tr>\n",
       "      <th>0</th>\n",
       "      <td>890.012810</td>\n",
       "    </tr>\n",
       "    <tr>\n",
       "      <th>1</th>\n",
       "      <td>984.251885</td>\n",
       "    </tr>\n",
       "    <tr>\n",
       "      <th>2</th>\n",
       "      <td>973.047004</td>\n",
       "    </tr>\n",
       "    <tr>\n",
       "      <th>3</th>\n",
       "      <td>1005.146720</td>\n",
       "    </tr>\n",
       "    <tr>\n",
       "      <th>4</th>\n",
       "      <td>989.699815</td>\n",
       "    </tr>\n",
       "    <tr>\n",
       "      <th>5</th>\n",
       "      <td>918.067036</td>\n",
       "    </tr>\n",
       "    <tr>\n",
       "      <th>6</th>\n",
       "      <td>888.431043</td>\n",
       "    </tr>\n",
       "  </tbody>\n",
       "</table>\n",
       "</div>"
      ],
      "text/plain": [
       "             trip_duration\n",
       "day_of_week               \n",
       "0               890.012810\n",
       "1               984.251885\n",
       "2               973.047004\n",
       "3              1005.146720\n",
       "4               989.699815\n",
       "5               918.067036\n",
       "6               888.431043"
      ]
     },
     "execution_count": 16,
     "metadata": {},
     "output_type": "execute_result"
    }
   ],
   "source": [
    "day_of_week = pd.pivot_table(train, values='trip_duration', index = ['day_of_week'], aggfunc=np.mean)\n",
    "day_of_week"
   ]
  },
  {
   "cell_type": "code",
   "execution_count": 17,
   "id": "dde8403a",
   "metadata": {},
   "outputs": [],
   "source": [
    "# initializing new column to zero\n",
    "test['day_of_week_mean'] = 0\n",
    "\n",
    "# For every unique entry in Outlet_Identifier\n",
    "for i in train['day_of_week'].unique():\n",
    "  # Assign the mean value corresponding to unique entry\n",
    "  test['day_of_week_mean'][test['day_of_week'] == i] = train['trip_duration'][train['day_of_week'] == i].mean()"
   ]
  },
  {
   "cell_type": "code",
   "execution_count": 18,
   "id": "fd20157b",
   "metadata": {},
   "outputs": [
    {
     "data": {
      "text/plain": [
       "620.6622607467708"
      ]
     },
     "execution_count": 18,
     "metadata": {},
     "output_type": "execute_result"
    }
   ],
   "source": [
    "#calculating mean absolute error\n",
    "day_of_week_error = MAE(test['trip_duration'] , test['day_of_week_mean'] )\n",
    "day_of_week_error"
   ]
  },
  {
   "cell_type": "markdown",
   "id": "327910f9",
   "metadata": {},
   "source": [
    "# Mean Trip Duration with respect to Hour of Day"
   ]
  },
  {
   "cell_type": "code",
   "execution_count": 19,
   "id": "3f72c004",
   "metadata": {},
   "outputs": [
    {
     "data": {
      "text/html": [
       "<div>\n",
       "<style scoped>\n",
       "    .dataframe tbody tr th:only-of-type {\n",
       "        vertical-align: middle;\n",
       "    }\n",
       "\n",
       "    .dataframe tbody tr th {\n",
       "        vertical-align: top;\n",
       "    }\n",
       "\n",
       "    .dataframe thead th {\n",
       "        text-align: right;\n",
       "    }\n",
       "</style>\n",
       "<table border=\"1\" class=\"dataframe\">\n",
       "  <thead>\n",
       "    <tr style=\"text-align: right;\">\n",
       "      <th></th>\n",
       "      <th>trip_duration</th>\n",
       "    </tr>\n",
       "    <tr>\n",
       "      <th>hour_of_day</th>\n",
       "      <th></th>\n",
       "    </tr>\n",
       "  </thead>\n",
       "  <tbody>\n",
       "    <tr>\n",
       "      <th>0</th>\n",
       "      <td>982.268516</td>\n",
       "    </tr>\n",
       "    <tr>\n",
       "      <th>1</th>\n",
       "      <td>915.598624</td>\n",
       "    </tr>\n",
       "    <tr>\n",
       "      <th>2</th>\n",
       "      <td>853.385638</td>\n",
       "    </tr>\n",
       "    <tr>\n",
       "      <th>3</th>\n",
       "      <td>886.535977</td>\n",
       "    </tr>\n",
       "    <tr>\n",
       "      <th>4</th>\n",
       "      <td>890.512498</td>\n",
       "    </tr>\n",
       "    <tr>\n",
       "      <th>5</th>\n",
       "      <td>829.845634</td>\n",
       "    </tr>\n",
       "    <tr>\n",
       "      <th>6</th>\n",
       "      <td>726.336661</td>\n",
       "    </tr>\n",
       "    <tr>\n",
       "      <th>7</th>\n",
       "      <td>812.179002</td>\n",
       "    </tr>\n",
       "    <tr>\n",
       "      <th>8</th>\n",
       "      <td>937.732130</td>\n",
       "    </tr>\n",
       "    <tr>\n",
       "      <th>9</th>\n",
       "      <td>930.980245</td>\n",
       "    </tr>\n",
       "    <tr>\n",
       "      <th>10</th>\n",
       "      <td>951.272356</td>\n",
       "    </tr>\n",
       "    <tr>\n",
       "      <th>11</th>\n",
       "      <td>950.944420</td>\n",
       "    </tr>\n",
       "    <tr>\n",
       "      <th>12</th>\n",
       "      <td>979.790870</td>\n",
       "    </tr>\n",
       "    <tr>\n",
       "      <th>13</th>\n",
       "      <td>1014.624609</td>\n",
       "    </tr>\n",
       "    <tr>\n",
       "      <th>14</th>\n",
       "      <td>1084.491606</td>\n",
       "    </tr>\n",
       "    <tr>\n",
       "      <th>15</th>\n",
       "      <td>1117.583598</td>\n",
       "    </tr>\n",
       "    <tr>\n",
       "      <th>16</th>\n",
       "      <td>1093.067599</td>\n",
       "    </tr>\n",
       "    <tr>\n",
       "      <th>17</th>\n",
       "      <td>1041.374211</td>\n",
       "    </tr>\n",
       "    <tr>\n",
       "      <th>18</th>\n",
       "      <td>981.165605</td>\n",
       "    </tr>\n",
       "    <tr>\n",
       "      <th>19</th>\n",
       "      <td>895.084902</td>\n",
       "    </tr>\n",
       "    <tr>\n",
       "      <th>20</th>\n",
       "      <td>848.850640</td>\n",
       "    </tr>\n",
       "    <tr>\n",
       "      <th>21</th>\n",
       "      <td>889.002788</td>\n",
       "    </tr>\n",
       "    <tr>\n",
       "      <th>22</th>\n",
       "      <td>938.585268</td>\n",
       "    </tr>\n",
       "    <tr>\n",
       "      <th>23</th>\n",
       "      <td>916.715693</td>\n",
       "    </tr>\n",
       "  </tbody>\n",
       "</table>\n",
       "</div>"
      ],
      "text/plain": [
       "             trip_duration\n",
       "hour_of_day               \n",
       "0               982.268516\n",
       "1               915.598624\n",
       "2               853.385638\n",
       "3               886.535977\n",
       "4               890.512498\n",
       "5               829.845634\n",
       "6               726.336661\n",
       "7               812.179002\n",
       "8               937.732130\n",
       "9               930.980245\n",
       "10              951.272356\n",
       "11              950.944420\n",
       "12              979.790870\n",
       "13             1014.624609\n",
       "14             1084.491606\n",
       "15             1117.583598\n",
       "16             1093.067599\n",
       "17             1041.374211\n",
       "18              981.165605\n",
       "19              895.084902\n",
       "20              848.850640\n",
       "21              889.002788\n",
       "22              938.585268\n",
       "23              916.715693"
      ]
     },
     "execution_count": 19,
     "metadata": {},
     "output_type": "execute_result"
    }
   ],
   "source": [
    "hour_of_day = pd.pivot_table(train, values='trip_duration', index = ['hour_of_day'], aggfunc=np.mean)\n",
    "hour_of_day"
   ]
  },
  {
   "cell_type": "code",
   "execution_count": 20,
   "id": "60232373",
   "metadata": {},
   "outputs": [],
   "source": [
    "# initializing new column to zero\n",
    "test['hour_of_day_mean'] = 0\n",
    "\n",
    "# For every unique entry in Outlet_Identifier\n",
    "for i in train['hour_of_day'].unique():\n",
    "  # Assign the mean value corresponding to unique entry\n",
    "  test['hour_of_day_mean'][test['hour_of_day'] == i] = train['trip_duration'][train['hour_of_day'] == i].mean()"
   ]
  },
  {
   "cell_type": "code",
   "execution_count": 21,
   "id": "5826d767",
   "metadata": {},
   "outputs": [
    {
     "data": {
      "text/plain": [
       "620.3242746375885"
      ]
     },
     "execution_count": 21,
     "metadata": {},
     "output_type": "execute_result"
    }
   ],
   "source": [
    "#calculating mean absolute error\n",
    "hour_of_day_error = MAE(test['trip_duration'] , test['hour_of_day_mean'] )\n",
    "hour_of_day_error"
   ]
  },
  {
   "cell_type": "markdown",
   "id": "b96e9957",
   "metadata": {},
   "source": [
    "# Mean Trip Duration with respect to Vendor ID"
   ]
  },
  {
   "cell_type": "code",
   "execution_count": 22,
   "id": "69209df4",
   "metadata": {},
   "outputs": [
    {
     "data": {
      "text/html": [
       "<div>\n",
       "<style scoped>\n",
       "    .dataframe tbody tr th:only-of-type {\n",
       "        vertical-align: middle;\n",
       "    }\n",
       "\n",
       "    .dataframe tbody tr th {\n",
       "        vertical-align: top;\n",
       "    }\n",
       "\n",
       "    .dataframe thead th {\n",
       "        text-align: right;\n",
       "    }\n",
       "</style>\n",
       "<table border=\"1\" class=\"dataframe\">\n",
       "  <thead>\n",
       "    <tr style=\"text-align: right;\">\n",
       "      <th></th>\n",
       "      <th>trip_duration</th>\n",
       "    </tr>\n",
       "    <tr>\n",
       "      <th>vendor_id</th>\n",
       "      <th></th>\n",
       "    </tr>\n",
       "  </thead>\n",
       "  <tbody>\n",
       "    <tr>\n",
       "      <th>1</th>\n",
       "      <td>838.174354</td>\n",
       "    </tr>\n",
       "    <tr>\n",
       "      <th>2</th>\n",
       "      <td>1049.946134</td>\n",
       "    </tr>\n",
       "  </tbody>\n",
       "</table>\n",
       "</div>"
      ],
      "text/plain": [
       "           trip_duration\n",
       "vendor_id               \n",
       "1             838.174354\n",
       "2            1049.946134"
      ]
     },
     "execution_count": 22,
     "metadata": {},
     "output_type": "execute_result"
    }
   ],
   "source": [
    "vendor = pd.pivot_table(train, values='trip_duration', index = ['vendor_id'], aggfunc=np.mean)\n",
    "vendor"
   ]
  },
  {
   "cell_type": "code",
   "execution_count": 23,
   "id": "7371c8c0",
   "metadata": {},
   "outputs": [],
   "source": [
    "# initializing new column to zero\n",
    "test['vendor_id_mean'] = 0\n",
    "\n",
    "# For every unique entry in Outlet_Identifier\n",
    "for i in train['vendor_id'].unique():\n",
    "  # Assign the mean value corresponding to unique entry\n",
    "  test['vendor_id_mean'][test['vendor_id'] == i] = train['trip_duration'][train['vendor_id'] == i].mean()"
   ]
  },
  {
   "cell_type": "code",
   "execution_count": 24,
   "id": "95e3c202",
   "metadata": {},
   "outputs": [
    {
     "data": {
      "text/plain": [
       "627.1274504364544"
      ]
     },
     "execution_count": 24,
     "metadata": {},
     "output_type": "execute_result"
    }
   ],
   "source": [
    "#calculating mean absolute error\n",
    "vendor_error = MAE(test['trip_duration'] , test['vendor_id_mean'] )\n",
    "vendor_error"
   ]
  },
  {
   "cell_type": "markdown",
   "id": "052d8033",
   "metadata": {},
   "source": [
    "# Mean Trip Duration with respect to Passenger Count"
   ]
  },
  {
   "cell_type": "code",
   "execution_count": 25,
   "id": "8932c602",
   "metadata": {},
   "outputs": [
    {
     "data": {
      "text/html": [
       "<div>\n",
       "<style scoped>\n",
       "    .dataframe tbody tr th:only-of-type {\n",
       "        vertical-align: middle;\n",
       "    }\n",
       "\n",
       "    .dataframe tbody tr th {\n",
       "        vertical-align: top;\n",
       "    }\n",
       "\n",
       "    .dataframe thead th {\n",
       "        text-align: right;\n",
       "    }\n",
       "</style>\n",
       "<table border=\"1\" class=\"dataframe\">\n",
       "  <thead>\n",
       "    <tr style=\"text-align: right;\">\n",
       "      <th></th>\n",
       "      <th>trip_duration</th>\n",
       "    </tr>\n",
       "    <tr>\n",
       "      <th>passenger_count</th>\n",
       "      <th></th>\n",
       "    </tr>\n",
       "  </thead>\n",
       "  <tbody>\n",
       "    <tr>\n",
       "      <th>0</th>\n",
       "      <td>334.733333</td>\n",
       "    </tr>\n",
       "    <tr>\n",
       "      <th>1</th>\n",
       "      <td>919.236280</td>\n",
       "    </tr>\n",
       "    <tr>\n",
       "      <th>2</th>\n",
       "      <td>1000.159939</td>\n",
       "    </tr>\n",
       "    <tr>\n",
       "      <th>3</th>\n",
       "      <td>1034.393923</td>\n",
       "    </tr>\n",
       "    <tr>\n",
       "      <th>4</th>\n",
       "      <td>1028.731304</td>\n",
       "    </tr>\n",
       "    <tr>\n",
       "      <th>5</th>\n",
       "      <td>1078.708147</td>\n",
       "    </tr>\n",
       "    <tr>\n",
       "      <th>6</th>\n",
       "      <td>1080.694100</td>\n",
       "    </tr>\n",
       "  </tbody>\n",
       "</table>\n",
       "</div>"
      ],
      "text/plain": [
       "                 trip_duration\n",
       "passenger_count               \n",
       "0                   334.733333\n",
       "1                   919.236280\n",
       "2                  1000.159939\n",
       "3                  1034.393923\n",
       "4                  1028.731304\n",
       "5                  1078.708147\n",
       "6                  1080.694100"
      ]
     },
     "execution_count": 25,
     "metadata": {},
     "output_type": "execute_result"
    }
   ],
   "source": [
    "passenger = pd.pivot_table(train, values='trip_duration', index = ['passenger_count'], aggfunc=np.mean)\n",
    "passenger"
   ]
  },
  {
   "cell_type": "code",
   "execution_count": 26,
   "id": "66ff1f9e",
   "metadata": {},
   "outputs": [],
   "source": [
    "# initializing new column to zero\n",
    "test['passenger_count_mean'] = 0\n",
    "\n",
    "# For every unique entry in Outlet_Identifier\n",
    "for i in train['passenger_count'].unique():\n",
    "  # Assign the mean value corresponding to unique entry\n",
    "  test['passenger_count_mean'][test['passenger_count'] == i] = train['trip_duration'][train['passenger_count'] == i].mean()"
   ]
  },
  {
   "cell_type": "code",
   "execution_count": 27,
   "id": "7b3a493e",
   "metadata": {},
   "outputs": [
    {
     "data": {
      "text/plain": [
       "622.5222915139927"
      ]
     },
     "execution_count": 27,
     "metadata": {},
     "output_type": "execute_result"
    }
   ],
   "source": [
    "#calculating mean absolute error\n",
    "passenger_error = MAE(test['trip_duration'] , test['passenger_count_mean'] )\n",
    "passenger_error"
   ]
  },
  {
   "cell_type": "markdown",
   "id": "b3edd2e5",
   "metadata": {},
   "source": [
    "# Mean Trip Duration with respect to both Vendor Id and Passenger Count"
   ]
  },
  {
   "cell_type": "code",
   "execution_count": 28,
   "id": "5f44dd4d",
   "metadata": {},
   "outputs": [
    {
     "data": {
      "text/html": [
       "<div>\n",
       "<style scoped>\n",
       "    .dataframe tbody tr th:only-of-type {\n",
       "        vertical-align: middle;\n",
       "    }\n",
       "\n",
       "    .dataframe tbody tr th {\n",
       "        vertical-align: top;\n",
       "    }\n",
       "\n",
       "    .dataframe thead th {\n",
       "        text-align: right;\n",
       "    }\n",
       "</style>\n",
       "<table border=\"1\" class=\"dataframe\">\n",
       "  <thead>\n",
       "    <tr style=\"text-align: right;\">\n",
       "      <th></th>\n",
       "      <th></th>\n",
       "      <th>trip_duration</th>\n",
       "    </tr>\n",
       "    <tr>\n",
       "      <th>vendor_id</th>\n",
       "      <th>passenger_count</th>\n",
       "      <th></th>\n",
       "    </tr>\n",
       "  </thead>\n",
       "  <tbody>\n",
       "    <tr>\n",
       "      <th rowspan=\"7\" valign=\"top\">1</th>\n",
       "      <th>0</th>\n",
       "      <td>514.625000</td>\n",
       "    </tr>\n",
       "    <tr>\n",
       "      <th>1</th>\n",
       "      <td>815.544883</td>\n",
       "    </tr>\n",
       "    <tr>\n",
       "      <th>2</th>\n",
       "      <td>932.030630</td>\n",
       "    </tr>\n",
       "    <tr>\n",
       "      <th>3</th>\n",
       "      <td>935.655634</td>\n",
       "    </tr>\n",
       "    <tr>\n",
       "      <th>4</th>\n",
       "      <td>966.265018</td>\n",
       "    </tr>\n",
       "    <tr>\n",
       "      <th>5</th>\n",
       "      <td>936.784722</td>\n",
       "    </tr>\n",
       "    <tr>\n",
       "      <th>6</th>\n",
       "      <td>1133.650000</td>\n",
       "    </tr>\n",
       "    <tr>\n",
       "      <th rowspan=\"7\" valign=\"top\">2</th>\n",
       "      <th>0</th>\n",
       "      <td>129.142857</td>\n",
       "    </tr>\n",
       "    <tr>\n",
       "      <th>1</th>\n",
       "      <td>1037.136612</td>\n",
       "    </tr>\n",
       "    <tr>\n",
       "      <th>2</th>\n",
       "      <td>1053.281189</td>\n",
       "    </tr>\n",
       "    <tr>\n",
       "      <th>3</th>\n",
       "      <td>1095.370941</td>\n",
       "    </tr>\n",
       "    <tr>\n",
       "      <th>4</th>\n",
       "      <td>1074.578032</td>\n",
       "    </tr>\n",
       "    <tr>\n",
       "      <th>5</th>\n",
       "      <td>1079.358240</td>\n",
       "    </tr>\n",
       "    <tr>\n",
       "      <th>6</th>\n",
       "      <td>1080.531284</td>\n",
       "    </tr>\n",
       "  </tbody>\n",
       "</table>\n",
       "</div>"
      ],
      "text/plain": [
       "                           trip_duration\n",
       "vendor_id passenger_count               \n",
       "1         0                   514.625000\n",
       "          1                   815.544883\n",
       "          2                   932.030630\n",
       "          3                   935.655634\n",
       "          4                   966.265018\n",
       "          5                   936.784722\n",
       "          6                  1133.650000\n",
       "2         0                   129.142857\n",
       "          1                  1037.136612\n",
       "          2                  1053.281189\n",
       "          3                  1095.370941\n",
       "          4                  1074.578032\n",
       "          5                  1079.358240\n",
       "          6                  1080.531284"
      ]
     },
     "execution_count": 28,
     "metadata": {},
     "output_type": "execute_result"
    }
   ],
   "source": [
    "combo = pd.pivot_table(train, values = 'trip_duration', index = ['vendor_id','passenger_count'], aggfunc = np.mean)\n",
    "combo"
   ]
  },
  {
   "cell_type": "code",
   "execution_count": 29,
   "id": "fa0408dd",
   "metadata": {},
   "outputs": [],
   "source": [
    "# Initiating new empty column\n",
    "test['Super_mean'] = 0\n",
    "\n",
    "# Assigning variables to strings ( to shorten code length)\n",
    "s1 = 'passenger_count'\n",
    "s2 = 'vendor_id'\n",
    "# For every Unique Value in s1\n",
    "for i in test[s1].unique():\n",
    "  # For every Unique Value in s2\n",
    "  for j in test[s2].unique():\n",
    "    # Calculate and Assign mean to new column, corresponding to both unique values of s1 and s2 simultaneously\n",
    "    test['Super_mean'][(test[s1] == i) & (test[s2]==str(j))] = train['trip_duration'][(train[s1] == i) & (train[s2]==str(j))].mean()"
   ]
  },
  {
   "cell_type": "code",
   "execution_count": 30,
   "id": "224a8a1e",
   "metadata": {},
   "outputs": [
    {
     "data": {
      "text/plain": [
       "954.9334105467856"
      ]
     },
     "execution_count": 30,
     "metadata": {},
     "output_type": "execute_result"
    }
   ],
   "source": [
    "#calculating mean absolute error\n",
    "super_mean_error = MAE(test['trip_duration'] , test['Super_mean'] )\n",
    "super_mean_error"
   ]
  },
  {
   "cell_type": "markdown",
   "id": "170d1990",
   "metadata": {},
   "source": [
    "# Q3. Build a K-Nearest neighbours model for the given dataset and find the best value of K."
   ]
  },
  {
   "cell_type": "code",
   "execution_count": 31,
   "id": "35aef6a6",
   "metadata": {},
   "outputs": [],
   "source": [
    "data['vendor_id'] = data['vendor_id'].astype('category')"
   ]
  },
  {
   "cell_type": "code",
   "execution_count": 32,
   "id": "7a4e73ea",
   "metadata": {},
   "outputs": [
    {
     "data": {
      "text/plain": [
       "id                            object\n",
       "vendor_id                   category\n",
       "pickup_datetime       datetime64[ns]\n",
       "dropoff_datetime      datetime64[ns]\n",
       "passenger_count                int64\n",
       "pickup_longitude             float64\n",
       "pickup_latitude              float64\n",
       "dropoff_longitude            float64\n",
       "dropoff_latitude             float64\n",
       "store_and_fwd_flag            object\n",
       "trip_duration                  int64\n",
       "day_of_week                    int64\n",
       "hour_of_day                    int64\n",
       "dtype: object"
      ]
     },
     "execution_count": 32,
     "metadata": {},
     "output_type": "execute_result"
    }
   ],
   "source": [
    "data.dtypes"
   ]
  },
  {
   "cell_type": "markdown",
   "id": "9241454d",
   "metadata": {},
   "source": [
    "# Load the data"
   ]
  },
  {
   "cell_type": "code",
   "execution_count": 33,
   "id": "bb3401f1",
   "metadata": {},
   "outputs": [],
   "source": [
    "data = pd.read_csv('nyc_taxi_trip_duration.csv')"
   ]
  },
  {
   "cell_type": "code",
   "execution_count": 34,
   "id": "8fc02511",
   "metadata": {},
   "outputs": [
    {
     "data": {
      "text/html": [
       "<div>\n",
       "<style scoped>\n",
       "    .dataframe tbody tr th:only-of-type {\n",
       "        vertical-align: middle;\n",
       "    }\n",
       "\n",
       "    .dataframe tbody tr th {\n",
       "        vertical-align: top;\n",
       "    }\n",
       "\n",
       "    .dataframe thead th {\n",
       "        text-align: right;\n",
       "    }\n",
       "</style>\n",
       "<table border=\"1\" class=\"dataframe\">\n",
       "  <thead>\n",
       "    <tr style=\"text-align: right;\">\n",
       "      <th></th>\n",
       "      <th>id</th>\n",
       "      <th>vendor_id</th>\n",
       "      <th>pickup_datetime</th>\n",
       "      <th>dropoff_datetime</th>\n",
       "      <th>passenger_count</th>\n",
       "      <th>pickup_longitude</th>\n",
       "      <th>pickup_latitude</th>\n",
       "      <th>dropoff_longitude</th>\n",
       "      <th>dropoff_latitude</th>\n",
       "      <th>store_and_fwd_flag</th>\n",
       "      <th>trip_duration</th>\n",
       "    </tr>\n",
       "  </thead>\n",
       "  <tbody>\n",
       "    <tr>\n",
       "      <th>0</th>\n",
       "      <td>id1080784</td>\n",
       "      <td>2</td>\n",
       "      <td>2016-02-29 16:40:21</td>\n",
       "      <td>2016-02-29 16:47:01</td>\n",
       "      <td>1</td>\n",
       "      <td>-73.953918</td>\n",
       "      <td>40.778873</td>\n",
       "      <td>-73.963875</td>\n",
       "      <td>40.771164</td>\n",
       "      <td>N</td>\n",
       "      <td>400</td>\n",
       "    </tr>\n",
       "    <tr>\n",
       "      <th>1</th>\n",
       "      <td>id0889885</td>\n",
       "      <td>1</td>\n",
       "      <td>2016-03-11 23:35:37</td>\n",
       "      <td>2016-03-11 23:53:57</td>\n",
       "      <td>2</td>\n",
       "      <td>-73.988312</td>\n",
       "      <td>40.731743</td>\n",
       "      <td>-73.994751</td>\n",
       "      <td>40.694931</td>\n",
       "      <td>N</td>\n",
       "      <td>1100</td>\n",
       "    </tr>\n",
       "    <tr>\n",
       "      <th>2</th>\n",
       "      <td>id0857912</td>\n",
       "      <td>2</td>\n",
       "      <td>2016-02-21 17:59:33</td>\n",
       "      <td>2016-02-21 18:26:48</td>\n",
       "      <td>2</td>\n",
       "      <td>-73.997314</td>\n",
       "      <td>40.721458</td>\n",
       "      <td>-73.948029</td>\n",
       "      <td>40.774918</td>\n",
       "      <td>N</td>\n",
       "      <td>1635</td>\n",
       "    </tr>\n",
       "    <tr>\n",
       "      <th>3</th>\n",
       "      <td>id3744273</td>\n",
       "      <td>2</td>\n",
       "      <td>2016-01-05 09:44:31</td>\n",
       "      <td>2016-01-05 10:03:32</td>\n",
       "      <td>6</td>\n",
       "      <td>-73.961670</td>\n",
       "      <td>40.759720</td>\n",
       "      <td>-73.956779</td>\n",
       "      <td>40.780628</td>\n",
       "      <td>N</td>\n",
       "      <td>1141</td>\n",
       "    </tr>\n",
       "    <tr>\n",
       "      <th>4</th>\n",
       "      <td>id0232939</td>\n",
       "      <td>1</td>\n",
       "      <td>2016-02-17 06:42:23</td>\n",
       "      <td>2016-02-17 06:56:31</td>\n",
       "      <td>1</td>\n",
       "      <td>-74.017120</td>\n",
       "      <td>40.708469</td>\n",
       "      <td>-73.988182</td>\n",
       "      <td>40.740631</td>\n",
       "      <td>N</td>\n",
       "      <td>848</td>\n",
       "    </tr>\n",
       "  </tbody>\n",
       "</table>\n",
       "</div>"
      ],
      "text/plain": [
       "          id  vendor_id      pickup_datetime     dropoff_datetime  \\\n",
       "0  id1080784          2  2016-02-29 16:40:21  2016-02-29 16:47:01   \n",
       "1  id0889885          1  2016-03-11 23:35:37  2016-03-11 23:53:57   \n",
       "2  id0857912          2  2016-02-21 17:59:33  2016-02-21 18:26:48   \n",
       "3  id3744273          2  2016-01-05 09:44:31  2016-01-05 10:03:32   \n",
       "4  id0232939          1  2016-02-17 06:42:23  2016-02-17 06:56:31   \n",
       "\n",
       "   passenger_count  pickup_longitude  pickup_latitude  dropoff_longitude  \\\n",
       "0                1        -73.953918        40.778873         -73.963875   \n",
       "1                2        -73.988312        40.731743         -73.994751   \n",
       "2                2        -73.997314        40.721458         -73.948029   \n",
       "3                6        -73.961670        40.759720         -73.956779   \n",
       "4                1        -74.017120        40.708469         -73.988182   \n",
       "\n",
       "   dropoff_latitude store_and_fwd_flag  trip_duration  \n",
       "0         40.771164                  N            400  \n",
       "1         40.694931                  N           1100  \n",
       "2         40.774918                  N           1635  \n",
       "3         40.780628                  N           1141  \n",
       "4         40.740631                  N            848  "
      ]
     },
     "execution_count": 34,
     "metadata": {},
     "output_type": "execute_result"
    }
   ],
   "source": [
    "data.head()"
   ]
  },
  {
   "cell_type": "code",
   "execution_count": 35,
   "id": "858cc1bf",
   "metadata": {},
   "outputs": [
    {
     "data": {
      "text/plain": [
       "id                     object\n",
       "vendor_id               int64\n",
       "pickup_datetime        object\n",
       "dropoff_datetime       object\n",
       "passenger_count         int64\n",
       "pickup_longitude      float64\n",
       "pickup_latitude       float64\n",
       "dropoff_longitude     float64\n",
       "dropoff_latitude      float64\n",
       "store_and_fwd_flag     object\n",
       "trip_duration           int64\n",
       "dtype: object"
      ]
     },
     "execution_count": 35,
     "metadata": {},
     "output_type": "execute_result"
    }
   ],
   "source": [
    "data.dtypes"
   ]
  },
  {
   "cell_type": "code",
   "execution_count": 36,
   "id": "9abc70d9",
   "metadata": {},
   "outputs": [],
   "source": [
    "# converting strings to datetime features\n",
    "\n",
    "data['pickup_datetime'] = pd.to_datetime(data.pickup_datetime)\n",
    "data['dropoff_datetime'] = pd.to_datetime(data.dropoff_datetime)\n",
    "\n",
    "data['day_of_week'] = data['pickup_datetime'].dt.weekday\n",
    "data['hour_of_day'] = data['pickup_datetime'].dt.hour"
   ]
  },
  {
   "cell_type": "code",
   "execution_count": 37,
   "id": "3949259b",
   "metadata": {},
   "outputs": [],
   "source": [
    "data['vendor_id'] = data['vendor_id'].astype('category')"
   ]
  },
  {
   "cell_type": "code",
   "execution_count": 38,
   "id": "c4960800",
   "metadata": {},
   "outputs": [
    {
     "data": {
      "text/plain": [
       "id                            object\n",
       "vendor_id                   category\n",
       "pickup_datetime       datetime64[ns]\n",
       "dropoff_datetime      datetime64[ns]\n",
       "passenger_count                int64\n",
       "pickup_longitude             float64\n",
       "pickup_latitude              float64\n",
       "dropoff_longitude            float64\n",
       "dropoff_latitude             float64\n",
       "store_and_fwd_flag            object\n",
       "trip_duration                  int64\n",
       "day_of_week                    int64\n",
       "hour_of_day                    int64\n",
       "dtype: object"
      ]
     },
     "execution_count": 38,
     "metadata": {},
     "output_type": "execute_result"
    }
   ],
   "source": [
    "data.dtypes"
   ]
  },
  {
   "cell_type": "markdown",
   "id": "c34fc772",
   "metadata": {},
   "source": [
    "# Outlier Detection and Removal"
   ]
  },
  {
   "cell_type": "markdown",
   "id": "657707bc",
   "metadata": {},
   "source": [
    "a. trip_duration"
   ]
  },
  {
   "cell_type": "code",
   "execution_count": 39,
   "id": "4ea8e0c6",
   "metadata": {},
   "outputs": [
    {
     "data": {
      "image/png": "[encoded data removed]",
      "text/plain": [
       "<Figure size 432x288 with 1 Axes>"
      ]
     },
     "metadata": {
      "needs_background": "light"
     },
     "output_type": "display_data"
    }
   ],
   "source": [
    "data.boxplot(column = ['trip_duration'])\n",
    "plt.show()"
   ]
  },
  {
   "cell_type": "code",
   "execution_count": 40,
   "id": "f63047e1",
   "metadata": {},
   "outputs": [],
   "source": [
    "data['log_trip_duration'] = np.log(data['trip_duration'].values + 1)\n",
    "data['log_trip_duration'] = data['log_trip_duration'].astype('float16')"
   ]
  },
  {
   "cell_type": "code",
   "execution_count": 41,
   "id": "69c9294e",
   "metadata": {},
   "outputs": [
    {
     "data": {
      "image/png": "[encoded data removed]",
      "text/plain": [
       "<Figure size 432x288 with 1 Axes>"
      ]
     },
     "metadata": {
      "needs_background": "light"
     },
     "output_type": "display_data"
    }
   ],
   "source": [
    "data.boxplot(column = ['log_trip_duration'])\n",
    "plt.show()"
   ]
  },
  {
   "cell_type": "code",
   "execution_count": 42,
   "id": "e7a24f03",
   "metadata": {},
   "outputs": [],
   "source": [
    "data = data.loc[(data.log_trip_duration > 4.53) & (data.log_trip_duration < 8.45)]"
   ]
  },
  {
   "cell_type": "code",
   "execution_count": 43,
   "id": "010801b5",
   "metadata": {},
   "outputs": [
    {
     "data": {
      "image/png": "[encoded data removed]",
      "text/plain": [
       "<Figure size 432x288 with 1 Axes>"
      ]
     },
     "metadata": {
      "needs_background": "light"
     },
     "output_type": "display_data"
    }
   ],
   "source": [
    "data.boxplot(column = ['log_trip_duration'])\n",
    "plt.show()"
   ]
  },
  {
   "cell_type": "markdown",
   "id": "025245d0",
   "metadata": {},
   "source": [
    "b. pickup_latitude, pickup_longitude, dropoff_latitude & dropoff_longitude"
   ]
  },
  {
   "cell_type": "code",
   "execution_count": 44,
   "id": "bea58095",
   "metadata": {},
   "outputs": [
    {
     "data": {
      "image/png": "[encoded data removed]",
      "text/plain": [
       "<Figure size 720x720 with 4 Axes>"
      ]
     },
     "metadata": {},
     "output_type": "display_data"
    }
   ],
   "source": [
    "# Analysing Longitudes and Latitudes of the trips.\n",
    "\n",
    "sns.set(style=\"white\", palette=\"muted\")\n",
    "f, axes = plt.subplots(nrows = 2, ncols = 2, figsize=(10, 10), sharex = False, sharey = False)\n",
    "sns.distplot(data['pickup_latitude'].values, label = 'pickup_latitude', color=\"b\", bins = 100, ax=axes[0,0])\n",
    "sns.distplot(data['pickup_longitude'].values, label = 'pickup_longitude', color=\"r\", bins =100, ax=axes[1,0])\n",
    "sns.distplot(data['dropoff_latitude'].values, label = 'dropoff_latitude', color=\"b\", bins =100, ax=axes[0,1])\n",
    "sns.distplot(data['dropoff_longitude'].values, label = 'dropoff_longitude', color=\"r\", bins =100, ax=axes[1,1])\n",
    "plt.show()"
   ]
  },
  {
   "cell_type": "code",
   "execution_count": 45,
   "id": "cd215148",
   "metadata": {},
   "outputs": [],
   "source": [
    "# Removing Outliers\n",
    "\n",
    "data = data.loc[(data.pickup_latitude > 40.6) & (data.pickup_latitude < 40.9)]\n",
    "data = data.loc[(data.dropoff_latitude>40.6) & (data.dropoff_latitude < 40.9)]\n",
    "data = data.loc[(data.dropoff_longitude > -74.05) & (data.dropoff_longitude < -73.7)]\n",
    "data = data.loc[(data.pickup_longitude > -74.05) & (data.pickup_longitude < -73.7)]"
   ]
  },
  {
   "cell_type": "code",
   "execution_count": 46,
   "id": "96bac12d",
   "metadata": {},
   "outputs": [
    {
     "data": {
      "image/png": "[encoded data removed]",
      "text/plain": [
       "<Figure size 720x720 with 4 Axes>"
      ]
     },
     "metadata": {},
     "output_type": "display_data"
    }
   ],
   "source": [
    "# Visualisation after removing outliers\n",
    "\n",
    "sns.set(style=\"white\", palette=\"muted\")\n",
    "f, axes = plt.subplots(2,2,figsize=(10, 10), sharex=False, sharey = False)\n",
    "sns.distplot(data['pickup_latitude'].values, label = 'pickup_latitude',color=\"b\",bins = 100, ax=axes[0, 0])\n",
    "sns.distplot(data['pickup_longitude'].values, label = 'pickup_longitude',color=\"r\",bins =100, ax=axes[1, 0])\n",
    "sns.distplot(data['dropoff_latitude'].values, label = 'dropoff_latitude',color=\"b\",bins =100, ax=axes[0, 1])\n",
    "sns.distplot(data['dropoff_longitude'].values, label = 'dropoff_longitude',color=\"r\",bins =100, ax=axes[1, 1])\n",
    "plt.show()"
   ]
  },
  {
   "cell_type": "code",
   "execution_count": 47,
   "id": "39ca83b7",
   "metadata": {},
   "outputs": [],
   "source": [
    "data = pd.get_dummies(data.drop(['trip_duration', 'pickup_datetime', 'dropoff_datetime', 'id'], axis = 1))"
   ]
  },
  {
   "cell_type": "code",
   "execution_count": 48,
   "id": "69c6b6d2",
   "metadata": {},
   "outputs": [
    {
     "data": {
      "text/html": [
       "<div>\n",
       "<style scoped>\n",
       "    .dataframe tbody tr th:only-of-type {\n",
       "        vertical-align: middle;\n",
       "    }\n",
       "\n",
       "    .dataframe tbody tr th {\n",
       "        vertical-align: top;\n",
       "    }\n",
       "\n",
       "    .dataframe thead th {\n",
       "        text-align: right;\n",
       "    }\n",
       "</style>\n",
       "<table border=\"1\" class=\"dataframe\">\n",
       "  <thead>\n",
       "    <tr style=\"text-align: right;\">\n",
       "      <th></th>\n",
       "      <th>passenger_count</th>\n",
       "      <th>pickup_longitude</th>\n",
       "      <th>pickup_latitude</th>\n",
       "      <th>dropoff_longitude</th>\n",
       "      <th>dropoff_latitude</th>\n",
       "      <th>day_of_week</th>\n",
       "      <th>hour_of_day</th>\n",
       "      <th>log_trip_duration</th>\n",
       "      <th>vendor_id_1</th>\n",
       "      <th>vendor_id_2</th>\n",
       "      <th>store_and_fwd_flag_N</th>\n",
       "      <th>store_and_fwd_flag_Y</th>\n",
       "    </tr>\n",
       "  </thead>\n",
       "  <tbody>\n",
       "    <tr>\n",
       "      <th>0</th>\n",
       "      <td>1</td>\n",
       "      <td>-73.953918</td>\n",
       "      <td>40.778873</td>\n",
       "      <td>-73.963875</td>\n",
       "      <td>40.771164</td>\n",
       "      <td>0</td>\n",
       "      <td>16</td>\n",
       "      <td>5.992188</td>\n",
       "      <td>0</td>\n",
       "      <td>1</td>\n",
       "      <td>1</td>\n",
       "      <td>0</td>\n",
       "    </tr>\n",
       "    <tr>\n",
       "      <th>1</th>\n",
       "      <td>2</td>\n",
       "      <td>-73.988312</td>\n",
       "      <td>40.731743</td>\n",
       "      <td>-73.994751</td>\n",
       "      <td>40.694931</td>\n",
       "      <td>4</td>\n",
       "      <td>23</td>\n",
       "      <td>7.003906</td>\n",
       "      <td>1</td>\n",
       "      <td>0</td>\n",
       "      <td>1</td>\n",
       "      <td>0</td>\n",
       "    </tr>\n",
       "    <tr>\n",
       "      <th>2</th>\n",
       "      <td>2</td>\n",
       "      <td>-73.997314</td>\n",
       "      <td>40.721458</td>\n",
       "      <td>-73.948029</td>\n",
       "      <td>40.774918</td>\n",
       "      <td>6</td>\n",
       "      <td>17</td>\n",
       "      <td>7.398438</td>\n",
       "      <td>0</td>\n",
       "      <td>1</td>\n",
       "      <td>1</td>\n",
       "      <td>0</td>\n",
       "    </tr>\n",
       "    <tr>\n",
       "      <th>3</th>\n",
       "      <td>6</td>\n",
       "      <td>-73.961670</td>\n",
       "      <td>40.759720</td>\n",
       "      <td>-73.956779</td>\n",
       "      <td>40.780628</td>\n",
       "      <td>1</td>\n",
       "      <td>9</td>\n",
       "      <td>7.039062</td>\n",
       "      <td>0</td>\n",
       "      <td>1</td>\n",
       "      <td>1</td>\n",
       "      <td>0</td>\n",
       "    </tr>\n",
       "    <tr>\n",
       "      <th>4</th>\n",
       "      <td>1</td>\n",
       "      <td>-74.017120</td>\n",
       "      <td>40.708469</td>\n",
       "      <td>-73.988182</td>\n",
       "      <td>40.740631</td>\n",
       "      <td>2</td>\n",
       "      <td>6</td>\n",
       "      <td>6.742188</td>\n",
       "      <td>1</td>\n",
       "      <td>0</td>\n",
       "      <td>1</td>\n",
       "      <td>0</td>\n",
       "    </tr>\n",
       "  </tbody>\n",
       "</table>\n",
       "</div>"
      ],
      "text/plain": [
       "   passenger_count  pickup_longitude  pickup_latitude  dropoff_longitude  \\\n",
       "0                1        -73.953918        40.778873         -73.963875   \n",
       "1                2        -73.988312        40.731743         -73.994751   \n",
       "2                2        -73.997314        40.721458         -73.948029   \n",
       "3                6        -73.961670        40.759720         -73.956779   \n",
       "4                1        -74.017120        40.708469         -73.988182   \n",
       "\n",
       "   dropoff_latitude  day_of_week  hour_of_day  log_trip_duration  vendor_id_1  \\\n",
       "0         40.771164            0           16           5.992188            0   \n",
       "1         40.694931            4           23           7.003906            1   \n",
       "2         40.774918            6           17           7.398438            0   \n",
       "3         40.780628            1            9           7.039062            0   \n",
       "4         40.740631            2            6           6.742188            1   \n",
       "\n",
       "   vendor_id_2  store_and_fwd_flag_N  store_and_fwd_flag_Y  \n",
       "0            1                     1                     0  \n",
       "1            0                     1                     0  \n",
       "2            1                     1                     0  \n",
       "3            1                     1                     0  \n",
       "4            0                     1                     0  "
      ]
     },
     "execution_count": 48,
     "metadata": {},
     "output_type": "execute_result"
    }
   ],
   "source": [
    "data.head()"
   ]
  },
  {
   "cell_type": "markdown",
   "id": "b326272e",
   "metadata": {},
   "source": [
    "# Segregating variables: Independent and Dependent Variables"
   ]
  },
  {
   "cell_type": "code",
   "execution_count": 49,
   "id": "898ae359",
   "metadata": {},
   "outputs": [
    {
     "data": {
      "text/plain": [
       "((715982, 11), (715982,))"
      ]
     },
     "execution_count": 49,
     "metadata": {},
     "output_type": "execute_result"
    }
   ],
   "source": [
    "#seperating independent and dependent variables\n",
    "\n",
    "#features\n",
    "x = data.drop(['log_trip_duration'], axis=1)\n",
    "\n",
    "#target\n",
    "y = data['log_trip_duration']\n",
    "\n",
    "x.shape, y.shape"
   ]
  },
  {
   "cell_type": "markdown",
   "id": "3da03bb5",
   "metadata": {},
   "source": [
    "# Scaling the data (Using MinMax Scaler)"
   ]
  },
  {
   "cell_type": "code",
   "execution_count": 50,
   "id": "e82d32db",
   "metadata": {},
   "outputs": [],
   "source": [
    "# Importing the MinMax Scaler\n",
    "from sklearn.preprocessing import MinMaxScaler\n",
    "scaler = MinMaxScaler()\n",
    "x_scaled = scaler.fit_transform(x)"
   ]
  },
  {
   "cell_type": "code",
   "execution_count": 51,
   "id": "a209cd3c",
   "metadata": {},
   "outputs": [
    {
     "data": {
      "text/html": [
       "<div>\n",
       "<style scoped>\n",
       "    .dataframe tbody tr th:only-of-type {\n",
       "        vertical-align: middle;\n",
       "    }\n",
       "\n",
       "    .dataframe tbody tr th {\n",
       "        vertical-align: top;\n",
       "    }\n",
       "\n",
       "    .dataframe thead th {\n",
       "        text-align: right;\n",
       "    }\n",
       "</style>\n",
       "<table border=\"1\" class=\"dataframe\">\n",
       "  <thead>\n",
       "    <tr style=\"text-align: right;\">\n",
       "      <th></th>\n",
       "      <th>passenger_count</th>\n",
       "      <th>pickup_longitude</th>\n",
       "      <th>pickup_latitude</th>\n",
       "      <th>dropoff_longitude</th>\n",
       "      <th>dropoff_latitude</th>\n",
       "      <th>day_of_week</th>\n",
       "      <th>hour_of_day</th>\n",
       "      <th>vendor_id_1</th>\n",
       "      <th>vendor_id_2</th>\n",
       "      <th>store_and_fwd_flag_N</th>\n",
       "      <th>store_and_fwd_flag_Y</th>\n",
       "    </tr>\n",
       "  </thead>\n",
       "  <tbody>\n",
       "    <tr>\n",
       "      <th>0</th>\n",
       "      <td>0.111111</td>\n",
       "      <td>0.282868</td>\n",
       "      <td>0.596506</td>\n",
       "      <td>0.246491</td>\n",
       "      <td>0.570696</td>\n",
       "      <td>0.000000</td>\n",
       "      <td>0.695652</td>\n",
       "      <td>0.0</td>\n",
       "      <td>1.0</td>\n",
       "      <td>1.0</td>\n",
       "      <td>0.0</td>\n",
       "    </tr>\n",
       "    <tr>\n",
       "      <th>1</th>\n",
       "      <td>0.222222</td>\n",
       "      <td>0.181487</td>\n",
       "      <td>0.438738</td>\n",
       "      <td>0.158009</td>\n",
       "      <td>0.316460</td>\n",
       "      <td>0.666667</td>\n",
       "      <td>1.000000</td>\n",
       "      <td>1.0</td>\n",
       "      <td>0.0</td>\n",
       "      <td>1.0</td>\n",
       "      <td>0.0</td>\n",
       "    </tr>\n",
       "    <tr>\n",
       "      <th>2</th>\n",
       "      <td>0.222222</td>\n",
       "      <td>0.154950</td>\n",
       "      <td>0.404311</td>\n",
       "      <td>0.291902</td>\n",
       "      <td>0.583215</td>\n",
       "      <td>1.000000</td>\n",
       "      <td>0.739130</td>\n",
       "      <td>0.0</td>\n",
       "      <td>1.0</td>\n",
       "      <td>1.0</td>\n",
       "      <td>0.0</td>\n",
       "    </tr>\n",
       "    <tr>\n",
       "      <th>3</th>\n",
       "      <td>0.666667</td>\n",
       "      <td>0.260019</td>\n",
       "      <td>0.532390</td>\n",
       "      <td>0.266824</td>\n",
       "      <td>0.602259</td>\n",
       "      <td>0.166667</td>\n",
       "      <td>0.391304</td>\n",
       "      <td>0.0</td>\n",
       "      <td>1.0</td>\n",
       "      <td>1.0</td>\n",
       "      <td>0.0</td>\n",
       "    </tr>\n",
       "    <tr>\n",
       "      <th>4</th>\n",
       "      <td>0.111111</td>\n",
       "      <td>0.096568</td>\n",
       "      <td>0.360831</td>\n",
       "      <td>0.176833</td>\n",
       "      <td>0.468869</td>\n",
       "      <td>0.333333</td>\n",
       "      <td>0.260870</td>\n",
       "      <td>1.0</td>\n",
       "      <td>0.0</td>\n",
       "      <td>1.0</td>\n",
       "      <td>0.0</td>\n",
       "    </tr>\n",
       "  </tbody>\n",
       "</table>\n",
       "</div>"
      ],
      "text/plain": [
       "   passenger_count  pickup_longitude  pickup_latitude  dropoff_longitude  \\\n",
       "0         0.111111          0.282868         0.596506           0.246491   \n",
       "1         0.222222          0.181487         0.438738           0.158009   \n",
       "2         0.222222          0.154950         0.404311           0.291902   \n",
       "3         0.666667          0.260019         0.532390           0.266824   \n",
       "4         0.111111          0.096568         0.360831           0.176833   \n",
       "\n",
       "   dropoff_latitude  day_of_week  hour_of_day  vendor_id_1  vendor_id_2  \\\n",
       "0          0.570696     0.000000     0.695652          0.0          1.0   \n",
       "1          0.316460     0.666667     1.000000          1.0          0.0   \n",
       "2          0.583215     1.000000     0.739130          0.0          1.0   \n",
       "3          0.602259     0.166667     0.391304          0.0          1.0   \n",
       "4          0.468869     0.333333     0.260870          1.0          0.0   \n",
       "\n",
       "   store_and_fwd_flag_N  store_and_fwd_flag_Y  \n",
       "0                   1.0                   0.0  \n",
       "1                   1.0                   0.0  \n",
       "2                   1.0                   0.0  \n",
       "3                   1.0                   0.0  \n",
       "4                   1.0                   0.0  "
      ]
     },
     "execution_count": 51,
     "metadata": {},
     "output_type": "execute_result"
    }
   ],
   "source": [
    "x = pd.DataFrame(x_scaled, columns = x.columns)\n",
    "x.head()"
   ]
  },
  {
   "cell_type": "code",
   "execution_count": 52,
   "id": "b91f72c3",
   "metadata": {},
   "outputs": [],
   "source": [
    "# Importing the train test split function\n",
    "from sklearn.model_selection import train_test_split\n",
    "train_x,test_x,train_y,test_y = train_test_split(x,y, random_state = 56)"
   ]
  },
  {
   "cell_type": "markdown",
   "id": "4c1eb506",
   "metadata": {},
   "source": [
    "# Implementing KNN Regressor"
   ]
  },
  {
   "cell_type": "code",
   "execution_count": 53,
   "id": "387f4f8e",
   "metadata": {},
   "outputs": [],
   "source": [
    "#importing KNN regressor and metric mse\n",
    "\n",
    "from sklearn.neighbors import KNeighborsRegressor as KNN\n",
    "from sklearn.metrics import mean_squared_error as mse"
   ]
  },
  {
   "cell_type": "markdown",
   "id": "c06291d1",
   "metadata": {},
   "source": [
    "# Elbow for Regressor"
   ]
  },
  {
   "cell_type": "code",
   "execution_count": 54,
   "id": "d4d76591",
   "metadata": {},
   "outputs": [
    {
     "name": "stdout",
     "output_type": "stream",
     "text": [
      "Test MSE     0.1656\n"
     ]
    }
   ],
   "source": [
    "#creating instance of KNN\n",
    "reg = KNN(n_neighbors = 8)\n",
    "\n",
    "# Fitting the Model\n",
    "reg.fit(train_x, train_y)\n",
    "\n",
    "# Predicting over the Train Set and Calculating MSE\n",
    "test_predict = reg.predict(test_x)\n",
    "k = mse(test_predict, test_y)\n",
    "print(\"Test MSE    \", k)"
   ]
  },
  {
   "cell_type": "code",
   "execution_count": 55,
   "id": "2b3f2ca9",
   "metadata": {},
   "outputs": [],
   "source": [
    "def Elbow(K):\n",
    "  #initiating empty list\n",
    "    test_mse = []\n",
    "  \n",
    "  #training model for every value of K\n",
    "    for i in K:\n",
    "        #Instance of KNN\n",
    "        reg = KNN(n_neighbors = i)\n",
    "        reg.fit(train_x, train_y)\n",
    "        #Appending mse value to empty list claculated using the predictions\n",
    "        tmp = reg.predict(test_x)\n",
    "        tmp = mse(tmp,test_y)\n",
    "        test_mse.append(tmp)\n",
    "    \n",
    "    return test_mse"
   ]
  },
  {
   "cell_type": "code",
   "execution_count": 56,
   "id": "a9dfcde1",
   "metadata": {},
   "outputs": [],
   "source": [
    "# Defining K range\n",
    "k = range(1, 201, 10)"
   ]
  },
  {
   "cell_type": "code",
   "execution_count": 57,
   "id": "4976dbd1",
   "metadata": {},
   "outputs": [],
   "source": [
    "test_calc = Elbow(k)"
   ]
  },
  {
   "cell_type": "code",
   "execution_count": 58,
   "id": "a1d18b1a",
   "metadata": {},
   "outputs": [
    {
     "data": {
      "text/plain": [
       "[0.263,\n",
       " 0.1661,\n",
       " 0.1726,\n",
       " 0.1798,\n",
       " 0.186,\n",
       " 0.1914,\n",
       " 0.1959,\n",
       " 0.2,\n",
       " 0.2037,\n",
       " 0.2073,\n",
       " 0.2104,\n",
       " 0.2135,\n",
       " 0.2163,\n",
       " 0.2191,\n",
       " 0.2218,\n",
       " 0.2242,\n",
       " 0.2267,\n",
       " 0.229,\n",
       " 0.2313,\n",
       " 0.2335]"
      ]
     },
     "execution_count": 58,
     "metadata": {},
     "output_type": "execute_result"
    }
   ],
   "source": [
    "test_calc"
   ]
  },
  {
   "cell_type": "code",
   "execution_count": 59,
   "id": "bf7c978d",
   "metadata": {},
   "outputs": [
    {
     "data": {
      "text/plain": [
       "Text(0.5, 1.0, 'Elbow Curve for test')"
      ]
     },
     "execution_count": 59,
     "metadata": {},
     "output_type": "execute_result"
    },
    {
     "data": {
      "image/png": "[encoded data removed]",
      "text/plain": [
       "<Figure size 432x288 with 1 Axes>"
      ]
     },
     "metadata": {},
     "output_type": "display_data"
    }
   ],
   "source": [
    "# Plotting the Curves\n",
    "plt.plot(k, test_calc)\n",
    "plt.xlabel('K Neighbors')\n",
    "plt.ylabel('Test Mean Squared Error')\n",
    "plt.title('Elbow Curve for test')"
   ]
  },
  {
   "cell_type": "markdown",
   "id": "a4008429",
   "metadata": {},
   "source": [
    "Taking all the values between 1 and 20."
   ]
  },
  {
   "cell_type": "code",
   "execution_count": 60,
   "id": "d908bc44",
   "metadata": {},
   "outputs": [],
   "source": [
    "# Defining K range\n",
    "k = range(1, 20)"
   ]
  },
  {
   "cell_type": "code",
   "execution_count": 61,
   "id": "a6e68b39",
   "metadata": {},
   "outputs": [],
   "source": [
    "test_calc_new = Elbow(k)"
   ]
  },
  {
   "cell_type": "code",
   "execution_count": 62,
   "id": "70e1cf50",
   "metadata": {},
   "outputs": [
    {
     "data": {
      "text/plain": [
       "Text(0.5, 1.0, 'Elbow Curve for test')"
      ]
     },
     "execution_count": 62,
     "metadata": {},
     "output_type": "execute_result"
    },
    {
     "data": {
      "image/png": "[encoded data removed]",
      "text/plain": [
       "<Figure size 432x288 with 1 Axes>"
      ]
     },
     "metadata": {},
     "output_type": "display_data"
    }
   ],
   "source": [
    "# Plotting the Curves\n",
    "plt.plot(k, test_calc_new)\n",
    "plt.xlim(1, 19)\n",
    "plt.xlabel('K Neighbors')\n",
    "plt.ylabel('Test Mean Squared Error')\n",
    "plt.title('Elbow Curve for test')"
   ]
  },
  {
   "cell_type": "code",
   "execution_count": 63,
   "id": "98f729b9",
   "metadata": {},
   "outputs": [
    {
     "name": "stdout",
     "output_type": "stream",
     "text": [
      "Train MSE     0.1277\n",
      "Test MSE      0.1656\n"
     ]
    }
   ],
   "source": [
    "# Creating instance of KNN\n",
    "reg = KNN(n_neighbors = 8)\n",
    "\n",
    "# Fitting the model\n",
    "reg.fit(train_x, train_y)\n",
    "\n",
    "# Predicting over the Train Set and calculating MSE\n",
    "train_predict = reg.predict(train_x)\n",
    "test_predict = reg.predict(test_x)\n",
    "k_train_knn = mse(train_predict, train_y)\n",
    "k_test_knn = mse(test_predict, test_y)\n",
    "print('Train MSE    ', k_train_knn )\n",
    "print('Test MSE     ', k_test_knn)"
   ]
  },
  {
   "cell_type": "markdown",
   "id": "a47f8bd8",
   "metadata": {},
   "source": [
    "# Q4. Build a Linear model for the given dataset with regularisation. Attempt to interpret the variable coefficients of the Linear Model."
   ]
  },
  {
   "cell_type": "code",
   "execution_count": 64,
   "id": "a9a1cc03",
   "metadata": {},
   "outputs": [
    {
     "data": {
      "text/html": [
       "<div>\n",
       "<style scoped>\n",
       "    .dataframe tbody tr th:only-of-type {\n",
       "        vertical-align: middle;\n",
       "    }\n",
       "\n",
       "    .dataframe tbody tr th {\n",
       "        vertical-align: top;\n",
       "    }\n",
       "\n",
       "    .dataframe thead th {\n",
       "        text-align: right;\n",
       "    }\n",
       "</style>\n",
       "<table border=\"1\" class=\"dataframe\">\n",
       "  <thead>\n",
       "    <tr style=\"text-align: right;\">\n",
       "      <th></th>\n",
       "      <th>passenger_count</th>\n",
       "      <th>pickup_longitude</th>\n",
       "      <th>pickup_latitude</th>\n",
       "      <th>dropoff_longitude</th>\n",
       "      <th>dropoff_latitude</th>\n",
       "      <th>day_of_week</th>\n",
       "      <th>hour_of_day</th>\n",
       "      <th>log_trip_duration</th>\n",
       "      <th>vendor_id_1</th>\n",
       "      <th>vendor_id_2</th>\n",
       "      <th>store_and_fwd_flag_N</th>\n",
       "      <th>store_and_fwd_flag_Y</th>\n",
       "    </tr>\n",
       "  </thead>\n",
       "  <tbody>\n",
       "    <tr>\n",
       "      <th>0</th>\n",
       "      <td>1</td>\n",
       "      <td>-73.953918</td>\n",
       "      <td>40.778873</td>\n",
       "      <td>-73.963875</td>\n",
       "      <td>40.771164</td>\n",
       "      <td>0</td>\n",
       "      <td>16</td>\n",
       "      <td>5.992188</td>\n",
       "      <td>0</td>\n",
       "      <td>1</td>\n",
       "      <td>1</td>\n",
       "      <td>0</td>\n",
       "    </tr>\n",
       "    <tr>\n",
       "      <th>1</th>\n",
       "      <td>2</td>\n",
       "      <td>-73.988312</td>\n",
       "      <td>40.731743</td>\n",
       "      <td>-73.994751</td>\n",
       "      <td>40.694931</td>\n",
       "      <td>4</td>\n",
       "      <td>23</td>\n",
       "      <td>7.003906</td>\n",
       "      <td>1</td>\n",
       "      <td>0</td>\n",
       "      <td>1</td>\n",
       "      <td>0</td>\n",
       "    </tr>\n",
       "    <tr>\n",
       "      <th>2</th>\n",
       "      <td>2</td>\n",
       "      <td>-73.997314</td>\n",
       "      <td>40.721458</td>\n",
       "      <td>-73.948029</td>\n",
       "      <td>40.774918</td>\n",
       "      <td>6</td>\n",
       "      <td>17</td>\n",
       "      <td>7.398438</td>\n",
       "      <td>0</td>\n",
       "      <td>1</td>\n",
       "      <td>1</td>\n",
       "      <td>0</td>\n",
       "    </tr>\n",
       "    <tr>\n",
       "      <th>3</th>\n",
       "      <td>6</td>\n",
       "      <td>-73.961670</td>\n",
       "      <td>40.759720</td>\n",
       "      <td>-73.956779</td>\n",
       "      <td>40.780628</td>\n",
       "      <td>1</td>\n",
       "      <td>9</td>\n",
       "      <td>7.039062</td>\n",
       "      <td>0</td>\n",
       "      <td>1</td>\n",
       "      <td>1</td>\n",
       "      <td>0</td>\n",
       "    </tr>\n",
       "    <tr>\n",
       "      <th>4</th>\n",
       "      <td>1</td>\n",
       "      <td>-74.017120</td>\n",
       "      <td>40.708469</td>\n",
       "      <td>-73.988182</td>\n",
       "      <td>40.740631</td>\n",
       "      <td>2</td>\n",
       "      <td>6</td>\n",
       "      <td>6.742188</td>\n",
       "      <td>1</td>\n",
       "      <td>0</td>\n",
       "      <td>1</td>\n",
       "      <td>0</td>\n",
       "    </tr>\n",
       "  </tbody>\n",
       "</table>\n",
       "</div>"
      ],
      "text/plain": [
       "   passenger_count  pickup_longitude  pickup_latitude  dropoff_longitude  \\\n",
       "0                1        -73.953918        40.778873         -73.963875   \n",
       "1                2        -73.988312        40.731743         -73.994751   \n",
       "2                2        -73.997314        40.721458         -73.948029   \n",
       "3                6        -73.961670        40.759720         -73.956779   \n",
       "4                1        -74.017120        40.708469         -73.988182   \n",
       "\n",
       "   dropoff_latitude  day_of_week  hour_of_day  log_trip_duration  vendor_id_1  \\\n",
       "0         40.771164            0           16           5.992188            0   \n",
       "1         40.694931            4           23           7.003906            1   \n",
       "2         40.774918            6           17           7.398438            0   \n",
       "3         40.780628            1            9           7.039062            0   \n",
       "4         40.740631            2            6           6.742188            1   \n",
       "\n",
       "   vendor_id_2  store_and_fwd_flag_N  store_and_fwd_flag_Y  \n",
       "0            1                     1                     0  \n",
       "1            0                     1                     0  \n",
       "2            1                     1                     0  \n",
       "3            1                     1                     0  \n",
       "4            0                     1                     0  "
      ]
     },
     "execution_count": 64,
     "metadata": {},
     "output_type": "execute_result"
    }
   ],
   "source": [
    "# As the dataset is already loaded and cleaned, we don't need to do preprocessing here.\n",
    "data.head()"
   ]
  },
  {
   "cell_type": "markdown",
   "id": "81944f43",
   "metadata": {},
   "source": [
    "# Segregating variables: Independent and Dependent Variables"
   ]
  },
  {
   "cell_type": "code",
   "execution_count": 65,
   "id": "2bc168c0",
   "metadata": {},
   "outputs": [
    {
     "data": {
      "text/plain": [
       "((715982, 11), (715982,))"
      ]
     },
     "execution_count": 65,
     "metadata": {},
     "output_type": "execute_result"
    }
   ],
   "source": [
    "# seperating independent and dependent variables\n",
    "\n",
    "# Features\n",
    "x = data.drop(['log_trip_duration'], axis=1)\n",
    "\n",
    "# Target\n",
    "y = data['log_trip_duration']\n",
    "\n",
    "x.shape, y.shape"
   ]
  },
  {
   "cell_type": "markdown",
   "id": "fb308610",
   "metadata": {},
   "source": [
    "# Splitting the data into train set and the test set"
   ]
  },
  {
   "cell_type": "code",
   "execution_count": 66,
   "id": "f25f02a8",
   "metadata": {},
   "outputs": [],
   "source": [
    "# Importing the train test split function\n",
    "from sklearn.model_selection import train_test_split\n",
    "train_x,test_x,train_y,test_y = train_test_split(x,y, random_state = 56)"
   ]
  },
  {
   "cell_type": "markdown",
   "id": "ee32176b",
   "metadata": {},
   "source": [
    "# Implementing Linear Regression"
   ]
  },
  {
   "cell_type": "code",
   "execution_count": 67,
   "id": "76252673",
   "metadata": {},
   "outputs": [],
   "source": [
    "from sklearn.linear_model import LinearRegression"
   ]
  },
  {
   "cell_type": "code",
   "execution_count": 68,
   "id": "a2346c01",
   "metadata": {},
   "outputs": [],
   "source": [
    "train_error_reg = []\n",
    "test_error_reg = []\n",
    "\n",
    "lr = LinearRegression(normalize=True)\n",
    "\n",
    "train_x_array = np.array(train_x)\n",
    "train_y_array = np.array(train_y)\n",
    "test_x_array = np.array(test_x)\n",
    "test_y_array = np.array(test_y)\n",
    "\n",
    "for i in range(1, 12):\n",
    "    lr.fit(train_x_array[:, 0:i], train_y)\n",
    "    train_y_pred = lr.predict(train_x_array[:, 0:i])\n",
    "    test_y_pred = lr.predict(test_x_array[:, 0:i])\n",
    "    \n",
    "    mrss_train = sum((train_y_pred-train_y)**2)/train_x_array[:, 0:i].shape[0]\n",
    "    mrss_test = sum((test_y_pred-test_y)**2)/test_x_array[:, 0:i].shape[0]\n",
    "    \n",
    "    train_error_reg.append(mrss_train)\n",
    "    test_error_reg.append(mrss_test)"
   ]
  },
  {
   "cell_type": "code",
   "execution_count": 69,
   "id": "20185064",
   "metadata": {},
   "outputs": [],
   "source": [
    "# Initializing the dataframe to store error\n",
    "\n",
    "col = ['train_error_reg','test_error_reg']\n",
    "ind = ['Number_of_variable_%d'%i for i in range(1, train_x.shape[1]+1)]\n",
    "matrix_reg = pd.DataFrame(index=ind, columns=col)"
   ]
  },
  {
   "cell_type": "code",
   "execution_count": 70,
   "id": "54690b50",
   "metadata": {},
   "outputs": [
    {
     "data": {
      "text/html": [
       "<div>\n",
       "<style scoped>\n",
       "    .dataframe tbody tr th:only-of-type {\n",
       "        vertical-align: middle;\n",
       "    }\n",
       "\n",
       "    .dataframe tbody tr th {\n",
       "        vertical-align: top;\n",
       "    }\n",
       "\n",
       "    .dataframe thead th {\n",
       "        text-align: right;\n",
       "    }\n",
       "</style>\n",
       "<table border=\"1\" class=\"dataframe\">\n",
       "  <thead>\n",
       "    <tr style=\"text-align: right;\">\n",
       "      <th></th>\n",
       "      <th>train_error_reg</th>\n",
       "      <th>test_error_reg</th>\n",
       "    </tr>\n",
       "  </thead>\n",
       "  <tbody>\n",
       "    <tr>\n",
       "      <th>Number_of_variable_1</th>\n",
       "      <td>0.497651</td>\n",
       "      <td>0.497568</td>\n",
       "    </tr>\n",
       "    <tr>\n",
       "      <th>Number_of_variable_2</th>\n",
       "      <td>0.468567</td>\n",
       "      <td>0.468540</td>\n",
       "    </tr>\n",
       "    <tr>\n",
       "      <th>Number_of_variable_3</th>\n",
       "      <td>0.455572</td>\n",
       "      <td>0.455662</td>\n",
       "    </tr>\n",
       "    <tr>\n",
       "      <th>Number_of_variable_4</th>\n",
       "      <td>0.442698</td>\n",
       "      <td>0.442191</td>\n",
       "    </tr>\n",
       "    <tr>\n",
       "      <th>Number_of_variable_5</th>\n",
       "      <td>0.435190</td>\n",
       "      <td>0.434580</td>\n",
       "    </tr>\n",
       "    <tr>\n",
       "      <th>Number_of_variable_6</th>\n",
       "      <td>0.434636</td>\n",
       "      <td>0.434131</td>\n",
       "    </tr>\n",
       "    <tr>\n",
       "      <th>Number_of_variable_7</th>\n",
       "      <td>0.433576</td>\n",
       "      <td>0.433239</td>\n",
       "    </tr>\n",
       "    <tr>\n",
       "      <th>Number_of_variable_8</th>\n",
       "      <td>0.433573</td>\n",
       "      <td>0.433239</td>\n",
       "    </tr>\n",
       "    <tr>\n",
       "      <th>Number_of_variable_9</th>\n",
       "      <td>0.433573</td>\n",
       "      <td>0.433239</td>\n",
       "    </tr>\n",
       "    <tr>\n",
       "      <th>Number_of_variable_10</th>\n",
       "      <td>0.433496</td>\n",
       "      <td>0.433154</td>\n",
       "    </tr>\n",
       "    <tr>\n",
       "      <th>Number_of_variable_11</th>\n",
       "      <td>0.433496</td>\n",
       "      <td>0.433154</td>\n",
       "    </tr>\n",
       "  </tbody>\n",
       "</table>\n",
       "</div>"
      ],
      "text/plain": [
       "                       train_error_reg  test_error_reg\n",
       "Number_of_variable_1          0.497651        0.497568\n",
       "Number_of_variable_2          0.468567        0.468540\n",
       "Number_of_variable_3          0.455572        0.455662\n",
       "Number_of_variable_4          0.442698        0.442191\n",
       "Number_of_variable_5          0.435190        0.434580\n",
       "Number_of_variable_6          0.434636        0.434131\n",
       "Number_of_variable_7          0.433576        0.433239\n",
       "Number_of_variable_8          0.433573        0.433239\n",
       "Number_of_variable_9          0.433573        0.433239\n",
       "Number_of_variable_10         0.433496        0.433154\n",
       "Number_of_variable_11         0.433496        0.433154"
      ]
     },
     "execution_count": 70,
     "metadata": {},
     "output_type": "execute_result"
    }
   ],
   "source": [
    "matrix_reg['train_error_reg'] = train_error_reg\n",
    "matrix_reg['test_error_reg'] = test_error_reg\n",
    "matrix_reg"
   ]
  },
  {
   "cell_type": "code",
   "execution_count": 71,
   "id": "24045c6d",
   "metadata": {},
   "outputs": [
    {
     "data": {
      "image/png": "[encoded data removed]",
      "text/plain": [
       "<Figure size 432x288 with 1 Axes>"
      ]
     },
     "metadata": {},
     "output_type": "display_data"
    }
   ],
   "source": [
    "# Plotting the Features VS Error curve\n",
    "\n",
    "matrix_reg[['train_error_reg','test_error_reg']].plot()\n",
    "plt.xlabel('Features')\n",
    "plt.ylabel('Error')\n",
    "plt.legend(['Train', 'Test'])\n",
    "plt.show()"
   ]
  },
  {
   "cell_type": "markdown",
   "id": "1a1d1ab1",
   "metadata": {},
   "source": [
    "# Parameters of Linear Regression"
   ]
  },
  {
   "cell_type": "code",
   "execution_count": 72,
   "id": "87c2138f",
   "metadata": {},
   "outputs": [
    {
     "data": {
      "text/plain": [
       "array([ 6.52460337e-03,  3.49826641e+00, -3.11621353e+00,  3.84410953e+00,\n",
       "       -3.11608826e+00, -1.07123182e-02,  5.11803484e-03,  9.73216911e-04,\n",
       "       -9.73216911e-04, -5.99991486e-02,  5.99991486e-02])"
      ]
     },
     "execution_count": 72,
     "metadata": {},
     "output_type": "execute_result"
    }
   ],
   "source": [
    "lr.coef_"
   ]
  },
  {
   "cell_type": "markdown",
   "id": "873e3c93",
   "metadata": {},
   "source": [
    "# Plotting the coefficients"
   ]
  },
  {
   "cell_type": "code",
   "execution_count": 73,
   "id": "bd3867b4",
   "metadata": {},
   "outputs": [
    {
     "data": {
      "image/png": "[encoded data removed]",
      "text/plain": [
       "<Figure size 960x720 with 1 Axes>"
      ]
     },
     "metadata": {},
     "output_type": "display_data"
    }
   ],
   "source": [
    "plt.figure(figsize=(8, 6), dpi=120, facecolor='w', edgecolor='b')\n",
    "x = range(len(train_x.columns))\n",
    "y = lr.coef_\n",
    "plt.bar( x, y )\n",
    "plt.xlabel(\"Variables\")\n",
    "plt.ylabel('Coefficients')\n",
    "plt.title('Normalized Coefficient plot')\n",
    "plt.show()"
   ]
  },
  {
   "cell_type": "markdown",
   "id": "33e047e3",
   "metadata": {},
   "source": [
    "# Creating new subsets of data"
   ]
  },
  {
   "cell_type": "code",
   "execution_count": 74,
   "id": "382c1fbe",
   "metadata": {},
   "outputs": [
    {
     "data": {
      "text/plain": [
       "((715982, 11), (715982,))"
      ]
     },
     "execution_count": 74,
     "metadata": {},
     "output_type": "execute_result"
    }
   ],
   "source": [
    "# Seperating independent and dependent variables\n",
    "x = data.drop(['log_trip_duration'], axis=1)\n",
    "y = data['log_trip_duration']\n",
    "x.shape, y.shape"
   ]
  },
  {
   "cell_type": "markdown",
   "id": "03be01d8",
   "metadata": {},
   "source": [
    "# Arranging coefficients with features"
   ]
  },
  {
   "cell_type": "code",
   "execution_count": 75,
   "id": "088260b0",
   "metadata": {},
   "outputs": [
    {
     "data": {
      "text/html": [
       "<div>\n",
       "<style scoped>\n",
       "    .dataframe tbody tr th:only-of-type {\n",
       "        vertical-align: middle;\n",
       "    }\n",
       "\n",
       "    .dataframe tbody tr th {\n",
       "        vertical-align: top;\n",
       "    }\n",
       "\n",
       "    .dataframe thead th {\n",
       "        text-align: right;\n",
       "    }\n",
       "</style>\n",
       "<table border=\"1\" class=\"dataframe\">\n",
       "  <thead>\n",
       "    <tr style=\"text-align: right;\">\n",
       "      <th></th>\n",
       "      <th>Variable</th>\n",
       "      <th>coefficient</th>\n",
       "    </tr>\n",
       "  </thead>\n",
       "  <tbody>\n",
       "    <tr>\n",
       "      <th>0</th>\n",
       "      <td>passenger_count</td>\n",
       "      <td>0.006525</td>\n",
       "    </tr>\n",
       "    <tr>\n",
       "      <th>1</th>\n",
       "      <td>pickup_longitude</td>\n",
       "      <td>3.498266</td>\n",
       "    </tr>\n",
       "    <tr>\n",
       "      <th>2</th>\n",
       "      <td>pickup_latitude</td>\n",
       "      <td>-3.116214</td>\n",
       "    </tr>\n",
       "    <tr>\n",
       "      <th>3</th>\n",
       "      <td>dropoff_longitude</td>\n",
       "      <td>3.844110</td>\n",
       "    </tr>\n",
       "    <tr>\n",
       "      <th>4</th>\n",
       "      <td>dropoff_latitude</td>\n",
       "      <td>-3.116088</td>\n",
       "    </tr>\n",
       "  </tbody>\n",
       "</table>\n",
       "</div>"
      ],
      "text/plain": [
       "            Variable  coefficient\n",
       "0    passenger_count     0.006525\n",
       "1   pickup_longitude     3.498266\n",
       "2    pickup_latitude    -3.116214\n",
       "3  dropoff_longitude     3.844110\n",
       "4   dropoff_latitude    -3.116088"
      ]
     },
     "execution_count": 75,
     "metadata": {},
     "output_type": "execute_result"
    }
   ],
   "source": [
    "Coefficients = pd.DataFrame({\n",
    "    'Variable'    : x.columns,\n",
    "    'coefficient' : lr.coef_\n",
    "})\n",
    "Coefficients.head()"
   ]
  },
  {
   "cell_type": "markdown",
   "id": "2dde093a",
   "metadata": {},
   "source": [
    "# Choosing variables with sigificance greater than 0.5 ( Filtering Significant Features)"
   ]
  },
  {
   "cell_type": "code",
   "execution_count": 76,
   "id": "18583661",
   "metadata": {},
   "outputs": [],
   "source": [
    "sig_var = Coefficients[Coefficients.coefficient > 0.5]"
   ]
  },
  {
   "cell_type": "markdown",
   "id": "bc792901",
   "metadata": {},
   "source": [
    "# Extracting the significant subset do independent Variables"
   ]
  },
  {
   "cell_type": "code",
   "execution_count": 77,
   "id": "52ef3441",
   "metadata": {},
   "outputs": [
    {
     "data": {
      "text/html": [
       "<div>\n",
       "<style scoped>\n",
       "    .dataframe tbody tr th:only-of-type {\n",
       "        vertical-align: middle;\n",
       "    }\n",
       "\n",
       "    .dataframe tbody tr th {\n",
       "        vertical-align: top;\n",
       "    }\n",
       "\n",
       "    .dataframe thead th {\n",
       "        text-align: right;\n",
       "    }\n",
       "</style>\n",
       "<table border=\"1\" class=\"dataframe\">\n",
       "  <thead>\n",
       "    <tr style=\"text-align: right;\">\n",
       "      <th></th>\n",
       "      <th>pickup_longitude</th>\n",
       "      <th>dropoff_longitude</th>\n",
       "    </tr>\n",
       "  </thead>\n",
       "  <tbody>\n",
       "    <tr>\n",
       "      <th>0</th>\n",
       "      <td>-73.953918</td>\n",
       "      <td>-73.963875</td>\n",
       "    </tr>\n",
       "    <tr>\n",
       "      <th>1</th>\n",
       "      <td>-73.988312</td>\n",
       "      <td>-73.994751</td>\n",
       "    </tr>\n",
       "    <tr>\n",
       "      <th>2</th>\n",
       "      <td>-73.997314</td>\n",
       "      <td>-73.948029</td>\n",
       "    </tr>\n",
       "    <tr>\n",
       "      <th>3</th>\n",
       "      <td>-73.961670</td>\n",
       "      <td>-73.956779</td>\n",
       "    </tr>\n",
       "    <tr>\n",
       "      <th>4</th>\n",
       "      <td>-74.017120</td>\n",
       "      <td>-73.988182</td>\n",
       "    </tr>\n",
       "  </tbody>\n",
       "</table>\n",
       "</div>"
      ],
      "text/plain": [
       "   pickup_longitude  dropoff_longitude\n",
       "0        -73.953918         -73.963875\n",
       "1        -73.988312         -73.994751\n",
       "2        -73.997314         -73.948029\n",
       "3        -73.961670         -73.956779\n",
       "4        -74.017120         -73.988182"
      ]
     },
     "execution_count": 77,
     "metadata": {},
     "output_type": "execute_result"
    }
   ],
   "source": [
    "subset = data[sig_var['Variable'].values]\n",
    "subset.head()"
   ]
  },
  {
   "cell_type": "code",
   "execution_count": 78,
   "id": "61adb7ed",
   "metadata": {},
   "outputs": [],
   "source": [
    "# Importing the train test split function\n",
    "from sklearn.model_selection import train_test_split\n",
    "train_x,test_x,train_y,test_y = train_test_split(subset, y , random_state = 56)"
   ]
  },
  {
   "cell_type": "code",
   "execution_count": 79,
   "id": "983052e5",
   "metadata": {},
   "outputs": [],
   "source": [
    "# Importing Linear Regression and metric mean square error\n",
    "from sklearn.linear_model import LinearRegression as LR\n",
    "from sklearn.metrics import mean_absolute_error as mae"
   ]
  },
  {
   "cell_type": "code",
   "execution_count": 80,
   "id": "8b75eade",
   "metadata": {},
   "outputs": [
    {
     "data": {
      "text/plain": [
       "LinearRegression(normalize=True)"
      ]
     },
     "execution_count": 80,
     "metadata": {},
     "output_type": "execute_result"
    }
   ],
   "source": [
    "# Creating instance of Linear Regresssion with Normalised Data\n",
    "lr = LR(normalize = True)\n",
    "\n",
    "# Fitting the model\n",
    "lr.fit(train_x, train_y)"
   ]
  },
  {
   "cell_type": "code",
   "execution_count": 81,
   "id": "3b0e0759",
   "metadata": {},
   "outputs": [
    {
     "name": "stdout",
     "output_type": "stream",
     "text": [
      "Train Error :  0.4583871514331174\n",
      "Test Error  :  0.45798488009889277\n"
     ]
    }
   ],
   "source": [
    "train_y_pred = lr.predict(train_x)\n",
    "test_y_pred = lr.predict(test_x)\n",
    "    \n",
    "mrss_train_regression = sum((train_y_pred-train_y)**2)/train_x.shape[0]\n",
    "mrss_test_regression = sum((test_y_pred-test_y)**2)/test_x.shape[0]\n",
    "\n",
    "print('Train Error : ', mrss_train_regression)\n",
    "print('Test Error  : ', mrss_test_regression)"
   ]
  },
  {
   "cell_type": "markdown",
   "id": "dd6a409c",
   "metadata": {},
   "source": [
    "# Plotting the coefficients"
   ]
  },
  {
   "cell_type": "code",
   "execution_count": 82,
   "id": "cdb05ae7",
   "metadata": {},
   "outputs": [
    {
     "data": {
      "image/png": "[encoded data removed]",
      "text/plain": [
       "<Figure size 960x720 with 1 Axes>"
      ]
     },
     "metadata": {},
     "output_type": "display_data"
    }
   ],
   "source": [
    "plt.figure(figsize=(8, 6), dpi=120, facecolor='w', edgecolor='b')\n",
    "columns = range(len(train_x.columns))\n",
    "coef = lr.coef_\n",
    "plt.bar(columns, coef)\n",
    "plt.xlabel(\"Variables\")\n",
    "plt.ylabel('Coefficients')\n",
    "plt.title('Normalized Coefficient plot')\n",
    "plt.show()"
   ]
  },
  {
   "cell_type": "markdown",
   "id": "dbb0666b",
   "metadata": {},
   "source": [
    "Interpretation from the linear variable Coefficients -\n",
    "\n",
    "• The above coefficient is normalized which can be used for making final inferences out of it.\n",
    "\n",
    "• From the above coefficient plot, we can observe that most of the variables aren't contributing in the linear model, only 2 variables are mostly contributing in the linear regression model."
   ]
  },
  {
   "cell_type": "markdown",
   "id": "4aa86b0e",
   "metadata": {},
   "source": [
    "# Regularisation:"
   ]
  },
  {
   "cell_type": "markdown",
   "id": "c955bc21",
   "metadata": {},
   "source": [
    "# Ridge"
   ]
  },
  {
   "cell_type": "code",
   "execution_count": 83,
   "id": "c9fdeeee",
   "metadata": {},
   "outputs": [],
   "source": [
    "# Importing ridge from sklearn's linear_model module\n",
    "from sklearn.linear_model import Ridge"
   ]
  },
  {
   "cell_type": "code",
   "execution_count": 84,
   "id": "306a7c46",
   "metadata": {},
   "outputs": [],
   "source": [
    "# Setting the different values of alpha to be tested\n",
    "alpha_ridge = [0, 1e-8, 1e-4, 1e-3,1e-2, 1, 5, 10, 20, 25]"
   ]
  },
  {
   "cell_type": "code",
   "execution_count": 85,
   "id": "7b169dca",
   "metadata": {},
   "outputs": [],
   "source": [
    "train_error_ridge = []\n",
    "test_error_ridge = []\n",
    "\n",
    "for i in alpha_ridge:\n",
    "    \n",
    "    R = Ridge(alpha = i, normalize=True)\n",
    "    R.fit(train_x, train_y)\n",
    "    train_y_pred = R.predict(train_x)\n",
    "    test_y_pred = R.predict(test_x)\n",
    "    \n",
    "    mrss_train = sum((train_y_pred-train_y)**2)/train_x.shape[0]\n",
    "    mrss_test = sum((test_y_pred-test_y)**2)/test_x.shape[0]\n",
    "    \n",
    "    train_error_ridge.append(mrss_train)\n",
    "    test_error_ridge.append(mrss_test)"
   ]
  },
  {
   "cell_type": "code",
   "execution_count": 86,
   "id": "15b701f4",
   "metadata": {},
   "outputs": [
    {
     "data": {
      "text/plain": [
       "array([0.1750103 , 0.16345732])"
      ]
     },
     "execution_count": 86,
     "metadata": {},
     "output_type": "execute_result"
    }
   ],
   "source": [
    "R.coef_"
   ]
  },
  {
   "cell_type": "code",
   "execution_count": 87,
   "id": "7d4fafea",
   "metadata": {},
   "outputs": [],
   "source": [
    "# Initializing the dataframe to store error\n",
    "\n",
    "col = ['train_error_ridge','test_error_ridge']\n",
    "ind = ['alpha_%.2g'%alpha_ridge[i] for i in range(0,10)]\n",
    "matrix_ridge = pd.DataFrame(index=ind, columns=col)"
   ]
  },
  {
   "cell_type": "code",
   "execution_count": 88,
   "id": "a67270c7",
   "metadata": {},
   "outputs": [
    {
     "data": {
      "text/html": [
       "<div>\n",
       "<style scoped>\n",
       "    .dataframe tbody tr th:only-of-type {\n",
       "        vertical-align: middle;\n",
       "    }\n",
       "\n",
       "    .dataframe tbody tr th {\n",
       "        vertical-align: top;\n",
       "    }\n",
       "\n",
       "    .dataframe thead th {\n",
       "        text-align: right;\n",
       "    }\n",
       "</style>\n",
       "<table border=\"1\" class=\"dataframe\">\n",
       "  <thead>\n",
       "    <tr style=\"text-align: right;\">\n",
       "      <th></th>\n",
       "      <th>train_error_ridge</th>\n",
       "      <th>test_error_ridge</th>\n",
       "    </tr>\n",
       "  </thead>\n",
       "  <tbody>\n",
       "    <tr>\n",
       "      <th>alpha_0</th>\n",
       "      <td>0.458387</td>\n",
       "      <td>0.457985</td>\n",
       "    </tr>\n",
       "    <tr>\n",
       "      <th>alpha_1e-08</th>\n",
       "      <td>0.458387</td>\n",
       "      <td>0.457985</td>\n",
       "    </tr>\n",
       "    <tr>\n",
       "      <th>alpha_0.0001</th>\n",
       "      <td>0.458387</td>\n",
       "      <td>0.457985</td>\n",
       "    </tr>\n",
       "    <tr>\n",
       "      <th>alpha_0.001</th>\n",
       "      <td>0.458387</td>\n",
       "      <td>0.457985</td>\n",
       "    </tr>\n",
       "    <tr>\n",
       "      <th>alpha_0.01</th>\n",
       "      <td>0.458390</td>\n",
       "      <td>0.457993</td>\n",
       "    </tr>\n",
       "    <tr>\n",
       "      <th>alpha_1</th>\n",
       "      <td>0.466161</td>\n",
       "      <td>0.465995</td>\n",
       "    </tr>\n",
       "    <tr>\n",
       "      <th>alpha_5</th>\n",
       "      <td>0.483552</td>\n",
       "      <td>0.483471</td>\n",
       "    </tr>\n",
       "    <tr>\n",
       "      <th>alpha_10</th>\n",
       "      <td>0.489463</td>\n",
       "      <td>0.489389</td>\n",
       "    </tr>\n",
       "    <tr>\n",
       "      <th>alpha_20</th>\n",
       "      <td>0.493234</td>\n",
       "      <td>0.493161</td>\n",
       "    </tr>\n",
       "    <tr>\n",
       "      <th>alpha_25</th>\n",
       "      <td>0.494071</td>\n",
       "      <td>0.493998</td>\n",
       "    </tr>\n",
       "  </tbody>\n",
       "</table>\n",
       "</div>"
      ],
      "text/plain": [
       "              train_error_ridge  test_error_ridge\n",
       "alpha_0                0.458387          0.457985\n",
       "alpha_1e-08            0.458387          0.457985\n",
       "alpha_0.0001           0.458387          0.457985\n",
       "alpha_0.001            0.458387          0.457985\n",
       "alpha_0.01             0.458390          0.457993\n",
       "alpha_1                0.466161          0.465995\n",
       "alpha_5                0.483552          0.483471\n",
       "alpha_10               0.489463          0.489389\n",
       "alpha_20               0.493234          0.493161\n",
       "alpha_25               0.494071          0.493998"
      ]
     },
     "execution_count": 88,
     "metadata": {},
     "output_type": "execute_result"
    }
   ],
   "source": [
    "matrix_ridge['train_error_ridge'] = train_error_ridge\n",
    "matrix_ridge['test_error_ridge'] = test_error_ridge\n",
    "matrix_ridge"
   ]
  },
  {
   "cell_type": "code",
   "execution_count": 89,
   "id": "17041735",
   "metadata": {},
   "outputs": [
    {
     "data": {
      "image/png": "[encoded data removed]",
      "text/plain": [
       "<Figure size 432x288 with 1 Axes>"
      ]
     },
     "metadata": {},
     "output_type": "display_data"
    }
   ],
   "source": [
    "# Plotting the Alpha Values VS Error graph\n",
    "\n",
    "matrix_ridge[['train_error_ridge','test_error_ridge']].plot()\n",
    "plt.xlabel('Alpha Values')\n",
    "plt.ylabel('Error')\n",
    "plt.legend(['Train', 'Test'])\n",
    "plt.show()"
   ]
  },
  {
   "cell_type": "markdown",
   "id": "c3d42d95",
   "metadata": {},
   "source": [
    "From the above plot, we can observe that the least error we can get is at alpha_0.001."
   ]
  },
  {
   "cell_type": "code",
   "execution_count": 90,
   "id": "4f83a38c",
   "metadata": {},
   "outputs": [
    {
     "data": {
      "text/plain": [
       "0.45838715143311665"
      ]
     },
     "execution_count": 90,
     "metadata": {},
     "output_type": "execute_result"
    }
   ],
   "source": [
    "matrix_ridge.min()[0]"
   ]
  },
  {
   "cell_type": "markdown",
   "id": "a3071db8",
   "metadata": {},
   "source": [
    "# Interpreting the coefficients"
   ]
  },
  {
   "cell_type": "code",
   "execution_count": 91,
   "id": "f7ebf1e3",
   "metadata": {
    "scrolled": false
   },
   "outputs": [
    {
     "data": {
      "image/png": "[encoded data removed]",
      "text/plain": [
       "<Figure size 960x720 with 1 Axes>"
      ]
     },
     "metadata": {},
     "output_type": "display_data"
    }
   ],
   "source": [
    "plt.figure(figsize=(8, 6), dpi=120, facecolor='w', edgecolor='b')\n",
    "x = range(len(train_x.columns))\n",
    "y = R.coef_\n",
    "plt.bar( x, y )\n",
    "plt.xlabel( \"Variables\")\n",
    "plt.ylabel('Coefficients')\n",
    "plt.title('Coefficient plot')\n",
    "plt.show()"
   ]
  },
  {
   "cell_type": "markdown",
   "id": "6ba89554",
   "metadata": {},
   "source": [
    "Interpretation from the linear variable Coefficients -\n",
    "\n",
    "• The above coefficient is normalized which can be used for making final inferences out of it.\n",
    "\n",
    "• From the above coefficient plot, we can interpret that 2 of the variables are mostly contributing in the linear model while rest a=do not have any major impact on the ridge regression model."
   ]
  },
  {
   "cell_type": "markdown",
   "id": "39850565",
   "metadata": {},
   "source": [
    "# Lasso"
   ]
  },
  {
   "cell_type": "code",
   "execution_count": 92,
   "id": "5e0b0baa",
   "metadata": {},
   "outputs": [],
   "source": [
    "# Importing Lasso model from sklearn's linear_model module\n",
    "from sklearn.linear_model import Lasso"
   ]
  },
  {
   "cell_type": "code",
   "execution_count": 93,
   "id": "30b52481",
   "metadata": {},
   "outputs": [],
   "source": [
    "# Definining the alpha values to test\n",
    "alpha_lasso = [0, 1e-10, 1e-8, 1e-5,1e-4, 1e-3,1e-2, 1, 5, 10]"
   ]
  },
  {
   "cell_type": "code",
   "execution_count": 94,
   "id": "894a190a",
   "metadata": {},
   "outputs": [],
   "source": [
    "train_error_lasso = []\n",
    "test_error_lasso = []\n",
    "\n",
    "for i in alpha_lasso:\n",
    "    \n",
    "    L = Lasso(alpha = i, normalize=True)\n",
    "    L.fit(train_x, train_y)\n",
    "    train_y_pred = L.predict(train_x)\n",
    "    test_y_pred = L.predict(test_x)\n",
    "    \n",
    "    mrss_train = sum((train_y_pred-train_y)**2)/train_x.shape[0]\n",
    "    mrss_test = sum((test_y_pred-test_y)**2)/test_x.shape[0]\n",
    "    \n",
    "    train_error_lasso.append(mrss_train)\n",
    "    test_error_lasso.append(mrss_test)"
   ]
  },
  {
   "cell_type": "code",
   "execution_count": 95,
   "id": "81753fc8",
   "metadata": {},
   "outputs": [],
   "source": [
    "# Initializing the dataframe to store error\n",
    "\n",
    "col = ['train_error_lasso','test_error_lasso']\n",
    "ind = ['alpha_%.2g'%alpha_lasso[i] for i in range(0,10)]\n",
    "matrix_lasso = pd.DataFrame(index=ind, columns=col)"
   ]
  },
  {
   "cell_type": "code",
   "execution_count": 96,
   "id": "7bb97193",
   "metadata": {},
   "outputs": [
    {
     "data": {
      "text/html": [
       "<div>\n",
       "<style scoped>\n",
       "    .dataframe tbody tr th:only-of-type {\n",
       "        vertical-align: middle;\n",
       "    }\n",
       "\n",
       "    .dataframe tbody tr th {\n",
       "        vertical-align: top;\n",
       "    }\n",
       "\n",
       "    .dataframe thead th {\n",
       "        text-align: right;\n",
       "    }\n",
       "</style>\n",
       "<table border=\"1\" class=\"dataframe\">\n",
       "  <thead>\n",
       "    <tr style=\"text-align: right;\">\n",
       "      <th></th>\n",
       "      <th>train_error_lasso</th>\n",
       "      <th>test_error_lasso</th>\n",
       "    </tr>\n",
       "  </thead>\n",
       "  <tbody>\n",
       "    <tr>\n",
       "      <th>alpha_0</th>\n",
       "      <td>0.458387</td>\n",
       "      <td>0.457985</td>\n",
       "    </tr>\n",
       "    <tr>\n",
       "      <th>alpha_1e-10</th>\n",
       "      <td>0.458387</td>\n",
       "      <td>0.457985</td>\n",
       "    </tr>\n",
       "    <tr>\n",
       "      <th>alpha_1e-08</th>\n",
       "      <td>0.458387</td>\n",
       "      <td>0.457985</td>\n",
       "    </tr>\n",
       "    <tr>\n",
       "      <th>alpha_1e-05</th>\n",
       "      <td>0.458472</td>\n",
       "      <td>0.458105</td>\n",
       "    </tr>\n",
       "    <tr>\n",
       "      <th>alpha_0.0001</th>\n",
       "      <td>0.466907</td>\n",
       "      <td>0.466783</td>\n",
       "    </tr>\n",
       "    <tr>\n",
       "      <th>alpha_0.001</th>\n",
       "      <td>0.497738</td>\n",
       "      <td>0.497664</td>\n",
       "    </tr>\n",
       "    <tr>\n",
       "      <th>alpha_0.01</th>\n",
       "      <td>0.497738</td>\n",
       "      <td>0.497664</td>\n",
       "    </tr>\n",
       "    <tr>\n",
       "      <th>alpha_1</th>\n",
       "      <td>0.497738</td>\n",
       "      <td>0.497664</td>\n",
       "    </tr>\n",
       "    <tr>\n",
       "      <th>alpha_5</th>\n",
       "      <td>0.497738</td>\n",
       "      <td>0.497664</td>\n",
       "    </tr>\n",
       "    <tr>\n",
       "      <th>alpha_10</th>\n",
       "      <td>0.497738</td>\n",
       "      <td>0.497664</td>\n",
       "    </tr>\n",
       "  </tbody>\n",
       "</table>\n",
       "</div>"
      ],
      "text/plain": [
       "              train_error_lasso  test_error_lasso\n",
       "alpha_0                0.458387          0.457985\n",
       "alpha_1e-10            0.458387          0.457985\n",
       "alpha_1e-08            0.458387          0.457985\n",
       "alpha_1e-05            0.458472          0.458105\n",
       "alpha_0.0001           0.466907          0.466783\n",
       "alpha_0.001            0.497738          0.497664\n",
       "alpha_0.01             0.497738          0.497664\n",
       "alpha_1                0.497738          0.497664\n",
       "alpha_5                0.497738          0.497664\n",
       "alpha_10               0.497738          0.497664"
      ]
     },
     "execution_count": 96,
     "metadata": {},
     "output_type": "execute_result"
    }
   ],
   "source": [
    "matrix_lasso['train_error_lasso'] = train_error_lasso\n",
    "matrix_lasso['test_error_lasso'] = test_error_lasso\n",
    "matrix_lasso"
   ]
  },
  {
   "cell_type": "code",
   "execution_count": 97,
   "id": "f437fc33",
   "metadata": {},
   "outputs": [
    {
     "data": {
      "image/png": "[encoded data removed]",
      "text/plain": [
       "<Figure size 432x288 with 1 Axes>"
      ]
     },
     "metadata": {},
     "output_type": "display_data"
    }
   ],
   "source": [
    "# Plotting the Alpha Values VS Error graph\n",
    "\n",
    "matrix_lasso[['train_error_lasso','test_error_lasso']].plot()\n",
    "plt.xlabel('Alpha Values')\n",
    "plt.ylabel('Error')\n",
    "plt.legend(['Train', 'Test'])\n",
    "plt.show()"
   ]
  },
  {
   "cell_type": "markdown",
   "id": "d50d7d05",
   "metadata": {},
   "source": [
    "From the above plot, we can observe that the least error we can get is at alpha_1e-08."
   ]
  },
  {
   "cell_type": "code",
   "execution_count": 98,
   "id": "8a773f0e",
   "metadata": {},
   "outputs": [
    {
     "data": {
      "text/plain": [
       "train_error_lasso    0.458387\n",
       "test_error_lasso     0.457985\n",
       "dtype: float64"
      ]
     },
     "execution_count": 98,
     "metadata": {},
     "output_type": "execute_result"
    }
   ],
   "source": [
    "matrix_lasso.min()"
   ]
  },
  {
   "cell_type": "markdown",
   "id": "fbf187ab",
   "metadata": {},
   "source": [
    "# Plotting the coefficients"
   ]
  },
  {
   "cell_type": "code",
   "execution_count": 99,
   "id": "16f2761e",
   "metadata": {},
   "outputs": [
    {
     "data": {
      "text/plain": [
       "array([0., 0.])"
      ]
     },
     "execution_count": 99,
     "metadata": {},
     "output_type": "execute_result"
    }
   ],
   "source": [
    "L.coef_"
   ]
  },
  {
   "cell_type": "code",
   "execution_count": 100,
   "id": "92d24d59",
   "metadata": {},
   "outputs": [
    {
     "data": {
      "image/png": "[encoded data removed]",
      "text/plain": [
       "<Figure size 480x480 with 1 Axes>"
      ]
     },
     "metadata": {},
     "output_type": "display_data"
    }
   ],
   "source": [
    "plt.figure(figsize=(4, 4), dpi=120, facecolor='w', edgecolor='b')\n",
    "x = range(len(train_x.columns))\n",
    "y = L.coef_\n",
    "plt.bar( x, y )\n",
    "plt.xlabel( \"Variables\")\n",
    "plt.ylabel('Coefficients')\n",
    "plt.title('Normalized Coefficient plot')\n",
    "plt.show()"
   ]
  },
  {
   "cell_type": "markdown",
   "id": "f794c8cd",
   "metadata": {},
   "source": [
    "Interpretation from the linear variable Coefficients -\n",
    "\n",
    "• The above coefficient is normalized which can be used for making final inferences out of it.\n",
    "\n",
    "• From the above coefficient plot, we can interpret that none of the variables are contributing in the lasso modeling."
   ]
  },
  {
   "cell_type": "markdown",
   "id": "f158162c",
   "metadata": {},
   "source": [
    "# Plotting the following Barplots:"
   ]
  },
  {
   "cell_type": "markdown",
   "id": "e69ae5ca",
   "metadata": {},
   "source": [
    "a. train score of all the above models.\n",
    "\n",
    "b. test (not validation!) score of all the above models.\n",
    "\n",
    "c. Attempt to explain the observations from the plots (optional)."
   ]
  },
  {
   "cell_type": "code",
   "execution_count": 101,
   "id": "68aff218",
   "metadata": {},
   "outputs": [],
   "source": [
    "# Collecting scores from the models and putting them in respective variables.\n",
    "\n",
    "# KNN\n",
    "a = (1 - k_train_knn)*100\n",
    "b = (1 - k_test_knn)*100\n",
    "\n",
    "# Linear Regression\n",
    "c = (1 - mrss_train_regression)*100\n",
    "d = (1 - mrss_test_regression)*100\n",
    "\n",
    "# Ridge Regression\n",
    "e = (1 - matrix_ridge.min()[0])*100\n",
    "f = (1 - matrix_ridge.min()[1])*100\n",
    "\n",
    "# Lasso Regression\n",
    "g = (1 - matrix_lasso.min()[0])*100\n",
    "h = (1 - matrix_lasso.min()[1])*100"
   ]
  },
  {
   "cell_type": "markdown",
   "id": "b179b413",
   "metadata": {},
   "source": [
    "# Train Error Bar plot"
   ]
  },
  {
   "cell_type": "code",
   "execution_count": 102,
   "id": "b48cc476",
   "metadata": {},
   "outputs": [],
   "source": [
    "train_error_name = ['Train Score KNN',\n",
    "                    'Train Score Linear Regression',\n",
    "                    'Train Score Ridge',\n",
    "                    'Train Score Lasso']\n",
    "score_train = [a, c, e, g]"
   ]
  },
  {
   "cell_type": "code",
   "execution_count": 103,
   "id": "1bdc4b98",
   "metadata": {},
   "outputs": [
    {
     "data": {
      "image/png": "[encoded data removed]",
      "text/plain": [
       "<Figure size 720x576 with 1 Axes>"
      ]
     },
     "metadata": {},
     "output_type": "display_data"
    }
   ],
   "source": [
    "plt.figure(figsize = (10, 8))\n",
    "plt.ylim(0, 100)\n",
    "plt.bar(train_error_name, score_train, color=['red', 'orange', 'magenta', 'green'])\n",
    "plt.xlabel('Models')\n",
    "plt.ylabel('Score')\n",
    "plt.title('Train Score of the Models');"
   ]
  },
  {
   "cell_type": "markdown",
   "id": "0717059e",
   "metadata": {},
   "source": [
    "Observation -\n",
    "\n",
    "From the above bar plot it can be observed that the train score of KNN model has the best score among all of the other models."
   ]
  },
  {
   "cell_type": "markdown",
   "id": "85c28222",
   "metadata": {},
   "source": [
    "# Test error Bar plot"
   ]
  },
  {
   "cell_type": "code",
   "execution_count": 104,
   "id": "157446bd",
   "metadata": {},
   "outputs": [],
   "source": [
    "test_error_name = ['Test Score KNN',\n",
    "                   'Test Score Linear Regression',\n",
    "                   'Test Score Ridge',\n",
    "                   'Test Score Lasso']\n",
    "score_test = [b, d, f, h]"
   ]
  },
  {
   "cell_type": "code",
   "execution_count": 105,
   "id": "d02634ec",
   "metadata": {},
   "outputs": [
    {
     "data": {
      "image/png": "[encoded data removed]",
      "text/plain": [
       "<Figure size 720x576 with 1 Axes>"
      ]
     },
     "metadata": {},
     "output_type": "display_data"
    }
   ],
   "source": [
    "plt.figure(figsize = (10, 8))\n",
    "plt.ylim(0, 100)\n",
    "plt.bar(test_error_name, score_test, color=['red', 'orange', 'magenta', 'green', 'yellow'])\n",
    "plt.xlabel('Models')\n",
    "plt.ylabel('Score')\n",
    "plt.title('Test Score of the Models');"
   ]
  },
  {
   "cell_type": "markdown",
   "id": "943ad058",
   "metadata": {},
   "source": [
    "Observation -\n",
    "\n",
    "From the above test score bar plot, KNN model is performing best with least test error and better score among all the other models."
   ]
  },
  {
   "cell_type": "markdown",
   "id": "3b3eb5a5",
   "metadata": {},
   "source": [
    "# Overall observation -"
   ]
  },
  {
   "cell_type": "markdown",
   "id": "aeb57bfc",
   "metadata": {},
   "source": [
    "From the above bar plots, it can be seen that both the train and test score of all models are in sync with each other and out of all these models, K-Nearest Neighbor model is performing better than the other models."
   ]
  }
 ],
 "metadata": {
  "kernelspec": {
   "display_name": "Python 3 (ipykernel)",
   "language": "python",
   "name": "python3"
  },
  "language_info": {
   "codemirror_mode": {
    "name": "ipython",
    "version": 3
   },
   "file_extension": ".py",
   "mimetype": "text/x-python",
   "name": "python",
   "nbconvert_exporter": "python",
   "pygments_lexer": "ipython3",
   "version": "3.9.12"
  }
 },
 "nbformat": 4,
 "nbformat_minor": 5
}
